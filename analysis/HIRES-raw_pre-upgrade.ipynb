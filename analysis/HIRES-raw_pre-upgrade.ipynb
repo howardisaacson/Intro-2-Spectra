{
 "cells": [
  {
   "cell_type": "markdown",
   "metadata": {},
   "source": [
    "## Examining Raw HIRES Spectra: Pre-upgrade format (< 2005)"
   ]
  },
  {
   "cell_type": "code",
   "execution_count": 1,
   "metadata": {},
   "outputs": [],
   "source": [
    "from astropy.io import fits\n",
    "import numpy as np\n",
    "from matplotlib import pyplot as plt"
   ]
  },
  {
   "cell_type": "code",
   "execution_count": 2,
   "metadata": {},
   "outputs": [],
   "source": [
    "# Pre upgrade data:\n",
    "data_dir = \"/Users/howard/Downloads/KOA_93501/HIRES/raw/sci/\"\n",
    "f1 = 'HI.19971206.45127.fits' # ori 2444400\n",
    "f2 = 'HI.19971206.45688.fits' #  ori 2444400\n"
   ]
  },
  {
   "cell_type": "code",
   "execution_count": 3,
   "metadata": {},
   "outputs": [
    {
     "name": "stdout",
     "output_type": "stream",
     "text": [
      "Filename: /Users/howard/Downloads/KOA_93501/HIRES/raw/sci/HI.19971206.45688.fits\n",
      "No.    Name      Ver    Type      Cards   Dimensions   Format\n",
      "  0  PRIMARY       1 PrimaryHDU     301   (2303, 1024)   uint16   \n"
     ]
    }
   ],
   "source": [
    "hdul = fits.open(data_dir+f1)\n",
    "data1 = hdul[0].data # single chip\n",
    "\n",
    "hdul = fits.open(data_dir+f2)\n",
    "data2 = hdul[0].data # single chip\n",
    "\n",
    "data3=data1+data2\n",
    "data3=data3-np.median(data3)# Remove the bias, crudely\n",
    "#type(hdul.data)\n",
    "\n",
    "#data1=np.rot90(data1)\n",
    "hdul.info()"
   ]
  },
  {
   "cell_type": "code",
   "execution_count": null,
   "metadata": {},
   "outputs": [],
   "source": [
    "plt.figure(figsize=(20,10))\n",
    "plt.autoscale(enable=True,axis='both')\n",
    "#plt.imshow(data1)\n",
    "#plt.imshow(data1,origin = 'lower',aspect = 'auto')\n",
    "#plt.imshow(data1,origin = 'lower',aspect = 'auto',vmin=900,vmax=1.5e3)\n",
    "plt.imshow(data3,origin = 'lower',aspect = 'auto',vmin=0,vmax=50) # bias ~778\n",
    "print(np.median(data1))\n",
    "#plt.savefig(\"HIRES_ori2444400_raw.png\")"
   ]
  }
 ],
 "metadata": {
  "kernelspec": {
   "display_name": "Python 3",
   "language": "python",
   "name": "python3"
  },
  "language_info": {
   "codemirror_mode": {
    "name": "ipython",
    "version": 3
   },
   "file_extension": ".py",
   "mimetype": "text/x-python",
   "name": "python",
   "nbconvert_exporter": "python",
   "pygments_lexer": "ipython3",
   "version": "3.8.3"
  }
 },
 "nbformat": 4,
 "nbformat_minor": 4
}
