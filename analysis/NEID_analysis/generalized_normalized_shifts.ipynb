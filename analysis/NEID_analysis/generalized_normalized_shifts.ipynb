{
 "cells": [
  {
   "cell_type": "markdown",
   "id": "341d82c4",
   "metadata": {},
   "source": [
    "# Normalizing Flux of Tau Ceti Using NEID Data\n"
   ]
  },
  {
   "cell_type": "markdown",
   "id": "9707d022",
   "metadata": {
    "jp-MarkdownHeadingCollapsed": true,
    "tags": []
   },
   "source": [
    "## This is what I'm supposed to do: \n",
    "\n",
    "In another notebook, we successfully normalzied Tau Ceti for a given order of the wavelength data. Now, the objective is to normalize the entire data set to achieve the average PSF value for the entire data set. Doing so will require there to be easy function calling to accomplish this instead of running this notebook multiple times. \n"
   ]
  },
  {
   "cell_type": "markdown",
   "id": "2b947acf",
   "metadata": {
    "jp-MarkdownHeadingCollapsed": true,
    "tags": []
   },
   "source": [
    "## Current Issues:\n",
    "\n",
    "1. normalization of book-end orders are not normalizing at 1, but closer to 0 and then shift up to 1 after a few orders -- unsure how to exactly fix this issue, but will ask on monday and try to produce a histogram\n",
    "> thinking that perhaps the threshold should be based off of percentile values, like 95th percentile for maxima? will have to try it"
   ]
  },
  {
   "cell_type": "markdown",
   "id": "fcb9b7b0",
   "metadata": {
    "tags": []
   },
   "source": [
    "## Importing Libraries:\n"
   ]
  },
  {
   "cell_type": "code",
   "execution_count": 1,
   "id": "7314f9fb",
   "metadata": {},
   "outputs": [],
   "source": [
    "#importing recommended libraries: \n",
    "\n",
    "from astropy.io import fits\n",
    "import matplotlib.pylab as plt\n",
    "import numpy as np\n",
    "import scipy.interpolate\n",
    "from scipy.interpolate import splev, splrep"
   ]
  },
  {
   "cell_type": "code",
   "execution_count": 2,
   "id": "14f262d3",
   "metadata": {},
   "outputs": [],
   "source": [
    "import seaborn as sns\n",
    "sns.set_theme()\n",
    "\n",
    "import pandas as pd"
   ]
  },
  {
   "cell_type": "markdown",
   "id": "b6c00b7d",
   "metadata": {
    "tags": []
   },
   "source": [
    "## Data set source:\n",
    "\n",
    "use the following link: \n",
    "\n",
    "<https://neid.ipac.caltech.edu/search.php>\n",
    "\n",
    "if it doesnt do it automatically, the object is HD 10700 and the data level is 1 \n",
    "\n",
    ">The wavelength range Im looking for is pretty small, but somwhere with 5700 to 5900 angstroms is plenty to account for doppler shift"
   ]
  },
  {
   "cell_type": "code",
   "execution_count": 3,
   "id": "99d99c8f",
   "metadata": {},
   "outputs": [
    {
     "data": {
      "text/plain": [
       "numpy.ndarray"
      ]
     },
     "execution_count": 3,
     "metadata": {},
     "output_type": "execute_result"
    }
   ],
   "source": [
    "#reading in data and assigning it to arrays \n",
    "#for windows, the path needs double backslashes when copying as a location\n",
    "\n",
    "star = 'HD 10700' \n",
    "data_path = \"C:\\\\Users\\\\alica\\\\workspace\\\\Intro-2-Spectra\\\\analysis\\\\NEID_analysis\\\\neidL1_20220118T015112.fits\"\n",
    "# APF_flux_path = '/datag/blpd0/datax/apf/rarj.224.fits'\n",
    "\n",
    "file = fits.open(data_path)\n",
    "# fl_file = fits.open(APF_flux_path)\n",
    "wl_raw_unfiltered = file['SCIWAVE'].data\n",
    "flux_raw_unfiltered = file['SCIFLUX'].data\n",
    "\n",
    "#so far I am only working with one file\n",
    "type(wl_raw_unfiltered)"
   ]
  },
  {
   "cell_type": "code",
   "execution_count": 4,
   "id": "ec795b5c",
   "metadata": {},
   "outputs": [
    {
     "name": "stdout",
     "output_type": "stream",
     "text": [
      "Filename: C:\\Users\\alica\\workspace\\Intro-2-Spectra\\analysis\\NEID_analysis\\neidL1_20220118T015112.fits\n",
      "No.    Name      Ver    Type      Cards   Dimensions   Format\n",
      "  0  PRIMARY       1 PrimaryHDU     745   ()      \n",
      "  1  SCIFLUX       1 ImageHDU        12   (9216, 122)   float64   \n",
      "  2  SKYFLUX       1 ImageHDU        12   (9216, 122)   float64   \n",
      "  3  CALFLUX       1 ImageHDU        12   (9216, 122)   float64   \n",
      "  4  SCIVAR        1 ImageHDU        12   (9216, 122)   float32   \n",
      "  5  SKYVAR        1 ImageHDU        12   (9216, 122)   float32   \n",
      "  6  CALVAR        1 ImageHDU        12   (9216, 122)   float32   \n",
      "  7  SCIWAVE       1 ImageHDU      2451   (9216, 122)   float64   \n",
      "  8  SKYWAVE       1 ImageHDU      2451   (9216, 122)   float64   \n",
      "  9  CALWAVE       1 ImageHDU      2451   (9216, 122)   float64   \n"
     ]
    }
   ],
   "source": [
    "file.info() #this just reads the table values in a simplifed format"
   ]
  },
  {
   "cell_type": "markdown",
   "id": "9ab20465",
   "metadata": {},
   "source": [
    "_Now note here that the dimensions were obsviously 2d but I skimmed over that and didnt assign my values correctly, or maybe I did who knows that is yet to be determined (Alicia update this when you know whats going on thx)_"
   ]
  },
  {
   "cell_type": "code",
   "execution_count": 5,
   "id": "3a86f014",
   "metadata": {},
   "outputs": [],
   "source": [
    "# #determing which row i want for the target wavelenght range \n",
    "# c = 0\n",
    "# for i in wl_raw_unfiltered:\n",
    "#     print('row #',c,i)\n",
    "#     c+=1\n",
    "    "
   ]
  },
  {
   "cell_type": "code",
   "execution_count": 6,
   "id": "63c443da",
   "metadata": {},
   "outputs": [],
   "source": [
    "# order = 10 #interger value"
   ]
  },
  {
   "cell_type": "code",
   "execution_count": 7,
   "id": "9f2a5450",
   "metadata": {},
   "outputs": [],
   "source": [
    "#this will be turned into a function later\n",
    "# wl = wl_raw_unfiltered[order]\n",
    "# flux = flux_raw_unfiltered[order]"
   ]
  },
  {
   "cell_type": "markdown",
   "id": "89c39767-f12c-4710-9d8e-d8da7d20ab8a",
   "metadata": {
    "tags": []
   },
   "source": [
    "## Removing Poor Fits\n",
    "lets try just using the arrays that look like theyre accurate and see where that gets us!\n",
    "> this will change the order as they correspond to the original data set. "
   ]
  },
  {
   "cell_type": "code",
   "execution_count": 8,
   "id": "da14ae54-9812-4890-b5a5-42d32e32ce3f",
   "metadata": {},
   "outputs": [],
   "source": [
    "# making a dataframe of poor fit orders -- idk if this will come in handy but at least ill have it lol\n",
    "\n",
    "poor_order_values = [0,1,2,3,4,5,6, 7, 8, 92, 93, 108, 115, 116, 117, 118, 119, 120, 121]\n",
    "d = {'order': poor_order_values}\n",
    "\n",
    "poor_orders = pd.DataFrame(data = d)\n",
    "#poor_orders\n",
    "\n",
    "#this removes all the ones i've deamed unworthy of analysis at this moment \n",
    "wl_raw = []\n",
    "flux_raw = []\n",
    "for i in range(len(wl_raw_unfiltered)):\n",
    "    if i not in poor_order_values:\n",
    "        wl_raw.append(wl_raw_unfiltered[i])\n",
    "        flux_raw.append(flux_raw_unfiltered[i])\n",
    "\n",
    "#secondly filtered wl and fl values:\n",
    "# found through filtering through the acceptable normalized flux values \n",
    "#(27,78) and then (80,85) (87, 95), (97,100) \n",
    "accepted = np.arange(27, 79)\n",
    "accepted = np.append(accepted, np.arange(80,86))\n",
    "accepted = np.append(accepted, np.arange(87,96))\n",
    "accepted = np.append(accepted, np.arange(97,101))\n",
    "accepted\n",
    "\n",
    "wl_temp = []\n",
    "flux_temp = []\n",
    "\n",
    "for i in accepted:\n",
    "    wl_temp.append(wl_raw[i])\n",
    "    flux_temp.append(flux_raw[i])\n",
    "    \n",
    "#now its filtered:\n",
    "\n",
    "wl_raw, flux_raw = wl_temp, flux_temp\n",
    "#np.max(flux_raw[18])"
   ]
  },
  {
   "cell_type": "markdown",
   "id": "60c049bd-a9de-483a-9b7a-a7d02f08f57c",
   "metadata": {
    "tags": []
   },
   "source": [
    "## Removing Nan values in arrays"
   ]
  },
  {
   "cell_type": "markdown",
   "id": "e3343a13-4de8-42ab-99cf-8209cdff75bb",
   "metadata": {},
   "source": [
    "Sometimes the order of the array will have nan values in the array, for this we will first check if it does. if it doesnt, then the array can bypass this step and be pushed to the next section of normalization. \n",
    "\n",
    "Otherwise, we need to account for this issue and do some relative fitting/estimating"
   ]
  },
  {
   "cell_type": "markdown",
   "id": "779d9b44-2b19-4851-9453-90d26721b7e7",
   "metadata": {
    "tags": []
   },
   "source": [
    "### removing and replacing nan value functions:\n",
    "\n",
    "idea: do mean replacement for the time being (currently set eveything to 1 so delete when this is done)"
   ]
  },
  {
   "cell_type": "code",
   "execution_count": 9,
   "id": "1fee5d9c-567c-417f-8348-48ca13e13f88",
   "metadata": {},
   "outputs": [],
   "source": [
    "def remove_nan(wl, flux): #this uses both of the below functions\n",
    "    if check_nan(flux):\n",
    "        wl , flux = find_and_replace_nan(wl, flux)\n",
    "        # print('this array had nan values that have been replaced')\n",
    "    # else:\n",
    "        # print('this array didnt have nan values')\n",
    "    # else:\n",
    "    #     wl = wl\n",
    "    #     flux = flux\n",
    "    return wl, flux"
   ]
  },
  {
   "cell_type": "code",
   "execution_count": 10,
   "id": "ab5082cc-30dd-4162-aea9-32daad473743",
   "metadata": {},
   "outputs": [],
   "source": [
    "#checking for nan values, returns true if there are nan values in array\n",
    "def check_nan(flux):\n",
    "    has_nan = False\n",
    "    for i in flux:\n",
    "        if np.isnan(i):\n",
    "            has_nan = True\n",
    "    return has_nan"
   ]
  },
  {
   "cell_type": "code",
   "execution_count": 11,
   "id": "3b1abc48-4179-4701-ac58-6c1306a18943",
   "metadata": {},
   "outputs": [],
   "source": [
    "#finding values: -- there is a conversation to a np array, so if my code breaks it might be here --\n",
    "def find_and_replace_nan(wl, flux):\n",
    "    nan_wl = []\n",
    "    for i in np.arange(len(flux)):\n",
    "        if np.isnan(flux[i]):\n",
    "            nan_wl.append(wl[i])\n",
    "    nan_wl = np.array(nan_wl)\n",
    "    #code above this point works\n",
    "    new_wl = []\n",
    "    new_flux = []\n",
    "    for i in np.arange(len(wl)):\n",
    "        new_wl.append(wl[i])\n",
    "        if wl[i] in nan_wl: #for where there is a nan value:\n",
    "            new_flux.append(new_flux[i-1])\n",
    "        else:\n",
    "            new_flux.append(flux[i])\n",
    "    return new_wl, new_flux\n",
    "            \n",
    "    \n",
    "#this currently just sets it to 1 by default, but this could cause errors later \n",
    "            \n",
    "test1, test2 = find_and_replace_nan(wl_raw[47], flux_raw[47])     \n",
    "\n",
    "#test1"
   ]
  },
  {
   "cell_type": "code",
   "execution_count": 12,
   "id": "a8733fcb-fd42-4a5f-b1d0-b804495430e6",
   "metadata": {},
   "outputs": [
    {
     "name": "stdout",
     "output_type": "stream",
     "text": [
      "0\n"
     ]
    }
   ],
   "source": [
    "for i in test2:\n",
    "    c = 0\n",
    "    if np.isnan(i):\n",
    "        c += 1\n",
    "        \n",
    "print(c)"
   ]
  },
  {
   "cell_type": "code",
   "execution_count": null,
   "id": "9b3d4878-cce8-4191-a730-880202c3b5c6",
   "metadata": {},
   "outputs": [],
   "source": []
  },
  {
   "cell_type": "code",
   "execution_count": null,
   "id": "b9edb823-170f-4b94-ad78-c029faf78a89",
   "metadata": {},
   "outputs": [],
   "source": []
  },
  {
   "cell_type": "code",
   "execution_count": null,
   "id": "d5275c3e-677a-417f-9f62-8f1f5265bcf3",
   "metadata": {},
   "outputs": [],
   "source": []
  },
  {
   "cell_type": "code",
   "execution_count": 13,
   "id": "0cd5e757-6cc9-457b-8a95-a65575463a6a",
   "metadata": {},
   "outputs": [],
   "source": [
    "import ipywidgets as widgets\n",
    "\n",
    "#setting default repetition methods\n",
    "slider = widgets.IntSlider(\n",
    "    min=0,\n",
    "    max=121,\n",
    "    step=1,\n",
    "    )\n",
    "\n",
    "\n",
    "player = widgets.Play(interval = 1000, value = 0, min = 0,max =100)\n"
   ]
  },
  {
   "cell_type": "markdown",
   "id": "e011a5a7-c0d8-4780-a23d-d97fb9305905",
   "metadata": {
    "tags": []
   },
   "source": [
    "## Plotting Order"
   ]
  },
  {
   "cell_type": "code",
   "execution_count": 14,
   "id": "e15997c7-00b8-42f6-b0be-c1a84984c9c6",
   "metadata": {},
   "outputs": [],
   "source": [
    "def plot_orders(order = 0):\n",
    "    plt.figure(figsize = (12,6))\n",
    "    plt.title('Raw Data for Tau Ceti, Order: ' + str(order))\n",
    "    plt.xlabel('Wavelength (A)')\n",
    "    plt.ylabel('Flux')\n",
    "    wl = wl_raw[order]\n",
    "    flux = flux_raw[order]\n",
    "    \n",
    "    plt.plot(wl, flux) \n"
   ]
  },
  {
   "cell_type": "code",
   "execution_count": 15,
   "id": "6af9c2fa-bc8c-4d1e-9786-1ad053003169",
   "metadata": {},
   "outputs": [
    {
     "data": {
      "application/vnd.jupyter.widget-view+json": {
       "model_id": "6c9b5a95256e4505adee48686a849303",
       "version_major": 2,
       "version_minor": 0
      },
      "text/plain": [
       "interactive(children=(Play(value=0, description='order', interval=1000), Output()), _dom_classes=('widget-inte…"
      ]
     },
     "metadata": {},
     "output_type": "display_data"
    },
    {
     "data": {
      "text/plain": [
       "<function __main__.plot_orders(order=0)>"
      ]
     },
     "execution_count": 15,
     "metadata": {},
     "output_type": "execute_result"
    }
   ],
   "source": [
    "widgets.interact(plot_orders, order = player)"
   ]
  },
  {
   "cell_type": "markdown",
   "id": "5e490de3-9144-48e6-8dca-c3ace735bb6e",
   "metadata": {},
   "source": [
    "Awesome this totally works! At certain intervals it lags so only a few orders are shown, but at values above 500 it seems to show them all pretty okay.\n",
    "\n",
    "\n",
    "Using plt.show() doesnt remove the text at the bottom of the plot"
   ]
  },
  {
   "cell_type": "markdown",
   "id": "76421b4f-bb09-4e59-b425-f64e71d76b1f",
   "metadata": {
    "tags": []
   },
   "source": [
    "## Normalizing Flux as a Generic Function"
   ]
  },
  {
   "cell_type": "markdown",
   "id": "32435ceb-8a3e-470f-9da0-543bbd19221a",
   "metadata": {},
   "source": [
    "This will find the echelle blaze values for each bin and then fit it to a curve, and then divide by that curve the raw data to normalize it to 1"
   ]
  },
  {
   "cell_type": "code",
   "execution_count": 16,
   "id": "6613d2d3-eb5d-4434-b673-0eed89f7b7fe",
   "metadata": {},
   "outputs": [],
   "source": [
    "def find_echelle_blaze_interact(order = 0):\n",
    "    wl, flux = remove_nan(wl_raw[order],flux_raw[order])\n",
    "    bin = 180 #modifying bins to even out the blaze function better \n",
    "\n",
    "    # this list will contain the indices corresponding to each of the 95th percentile flux values in each bin\n",
    "    indices = []\n",
    "\n",
    "    for i in np.arange((len(wl) - (bin)), step = bin):\n",
    "        flux_values = []\n",
    "        for j in np.arange(i, i + bin, step = 1):\n",
    "            value = flux[j]\n",
    "            flux_values = np.append(flux_values, value)\n",
    "        # find the 95th percentile flux value: we use 95 to get the maximum flux value in general \n",
    "        # but avoid issues with cosmic rays and other emission lines\n",
    "        flux_in_bin = np.percentile(flux_values, 95)\n",
    "        # find the closest value in the flux array to the 95th percentile value\n",
    "        absolute_difference_function = lambda list_value : abs(list_value - flux_in_bin)\n",
    "        flux_in_bin = min(flux_values.tolist(), key=absolute_difference_function)\n",
    "        index_in_bin = flux_values.tolist().index(flux_in_bin)\n",
    "        index = i + index_in_bin\n",
    "        indices = np.append(indices, index)\n",
    "\n",
    "    # these lists will contain the wavlength and flux values at each index in 'indices'\n",
    "    wl_values = []\n",
    "    fl_values = []\n",
    "\n",
    "    for index in indices:\n",
    "        ind = int(index)\n",
    "        wl_values = np.append(wl_values, wl[ind])\n",
    "        fl_values = np.append(fl_values, flux[ind])\n",
    "        \n",
    "    plt.figure(figsize = (12,6))\n",
    "    plt.plot(wl, flux, label = 'Data')\n",
    "    plt.scatter(wl_values, fl_values, color = 'black', label = 'Flux Values in the 95th Percentile')\n",
    "    plt.title('Mapping out the Echelle Blaze Function Fit; order: ' + str(order))\n",
    "    plt.xlabel('Wavelength [A]')\n",
    "    plt.ylabel('Flux')\n",
    "    plt.legend()"
   ]
  },
  {
   "cell_type": "code",
   "execution_count": 17,
   "id": "157ea4fd-d983-474d-a610-f4a973841570",
   "metadata": {},
   "outputs": [
    {
     "data": {
      "application/vnd.jupyter.widget-view+json": {
       "model_id": "afc40e8afd2c41a8a63369dc18e676a9",
       "version_major": 2,
       "version_minor": 0
      },
      "text/plain": [
       "interactive(children=(Play(value=0, description='order', interval=500, max=70), Output()), _dom_classes=('widg…"
      ]
     },
     "metadata": {},
     "output_type": "display_data"
    },
    {
     "data": {
      "text/plain": [
       "<function __main__.find_echelle_blaze_interact(order=0)>"
      ]
     },
     "execution_count": 17,
     "metadata": {},
     "output_type": "execute_result"
    }
   ],
   "source": [
    "widgets.interact(find_echelle_blaze_interact, order = widgets.Play(interval = 500, min = 0,max = len(wl_raw)-1))"
   ]
  },
  {
   "cell_type": "markdown",
   "id": "faed583e-9722-4d1a-9b39-7f529756746a",
   "metadata": {},
   "source": [
    "now that we know it works we can just find it and not plot it, but in turn plot the echelle blaze function fit and then the next step and so forth and so forth. This technique will be used to make sure that each step of the way is working and can be plotted via wdget to look for errors. There will remain a widget version of each step but the final product will only plot the histogram of PSF values but be using the functions plotted along the way.\n",
    "\n",
    "\n",
    "The data will be exported like the first notebook I used, but it will be full of all the normalized values and then do the same thing we did for one order but with all of them"
   ]
  },
  {
   "cell_type": "code",
   "execution_count": 18,
   "id": "b614ae8c-35a5-48a8-aa37-1b9522b67ad7",
   "metadata": {},
   "outputs": [],
   "source": [
    "def find_echelle_blaze(order = 0):\n",
    "    wl, flux = remove_nan(wl_raw[order],flux_raw[order])\n",
    "    bin = 150 #modifying bins to even out the blaze function better \n",
    "\n",
    "    # this list will contain the indices corresponding to each of the 95th percentile flux values in each bin\n",
    "    indices = []\n",
    "\n",
    "    for i in np.arange((len(wl) - (bin)), step = bin):\n",
    "        flux_values = []\n",
    "        for j in np.arange(i, i + bin, step = 1):\n",
    "            value = flux[j]\n",
    "            flux_values = np.append(flux_values, value)\n",
    "        # find the 95th percentile flux value: we use 95 to get the maximum flux value in general \n",
    "        # but avoid issues with cosmic rays and other emission lines\n",
    "        flux_in_bin = np.percentile(flux_values, 95)\n",
    "        # find the closest value in the flux array to the 95th percentile value\n",
    "        absolute_difference_function = lambda list_value : abs(list_value - flux_in_bin)\n",
    "        flux_in_bin = min(flux_values.tolist(), key=absolute_difference_function)\n",
    "        index_in_bin = flux_values.tolist().index(flux_in_bin)\n",
    "        index = i + index_in_bin\n",
    "        indices = np.append(indices, index)\n",
    "\n",
    "    # these lists will contain the wavlength and flux values at each index in 'indices'\n",
    "    wl_values = []\n",
    "    fl_values = []\n",
    "\n",
    "    for index in indices:\n",
    "        ind = int(index)\n",
    "        wl_values = np.append(wl_values, wl[ind])\n",
    "        fl_values = np.append(fl_values, flux[ind])\n",
    "\n",
    "    return wl, flux, wl_values, fl_values"
   ]
  },
  {
   "cell_type": "code",
   "execution_count": 19,
   "id": "55d91827-8769-48f7-bb18-12a1e37ac717",
   "metadata": {},
   "outputs": [],
   "source": [
    "#Plot fl_values onto wl_values so that the length of the arrays match that of the APF spectrum. \n",
    "#Set s to 500000 to smooth the fit.\n",
    "def echelle_blaze_fit_interact(order = 0):\n",
    "    wl, flux, wl_values, fl_values = find_echelle_blaze(order)\n",
    "    \n",
    "    spl = splrep(wl_values, fl_values, s = 500000) #uses a B-Spline fitting method \n",
    "    flux_fit = splev(wl, spl)\n",
    "    plt.figure(figsize = (12,6))\n",
    "    plt.plot(wl, flux_fit)\n",
    "    plt.xlabel('Wavelength [A]')\n",
    "    plt.ylabel('Flux')\n",
    "    plt.title('Echelle Blaze Function Fit / Bin =' + str(bin) + ', Order:' + str(order), fontsize = 18)\n",
    "    plt.show()\n",
    "\n",
    "    #smooth this out "
   ]
  },
  {
   "cell_type": "code",
   "execution_count": 20,
   "id": "01356ca7-4c0d-4f5b-befa-cf7bebf6b05b",
   "metadata": {},
   "outputs": [
    {
     "data": {
      "application/vnd.jupyter.widget-view+json": {
       "model_id": "4a53d7883d114106ac7b0b495a22df34",
       "version_major": 2,
       "version_minor": 0
      },
      "text/plain": [
       "interactive(children=(Play(value=0, description='order', interval=500, max=70), Output()), _dom_classes=('widg…"
      ]
     },
     "metadata": {},
     "output_type": "display_data"
    },
    {
     "data": {
      "text/plain": [
       "<function __main__.echelle_blaze_fit_interact(order=0)>"
      ]
     },
     "execution_count": 20,
     "metadata": {},
     "output_type": "execute_result"
    }
   ],
   "source": [
    "widgets.interact(echelle_blaze_fit_interact, order = widgets.Play(interval = 500, min = 0,max = len(wl_raw)-1))\n",
    "                 \n",
    "#widgets.Play(interval = 500, min = 0,max = len(wl_raw)-1))"
   ]
  },
  {
   "cell_type": "code",
   "execution_count": 21,
   "id": "8a1ad14b-d3b7-4f0a-92a9-cbf6d8cebd4a",
   "metadata": {},
   "outputs": [],
   "source": [
    "def plot_order_and_blaze(order = 0):\n",
    "    plt.figure(figsize = (14,6))\n",
    "    "
   ]
  },
  {
   "cell_type": "code",
   "execution_count": 22,
   "id": "37d77d94-34a0-4157-a664-1fda20f7082a",
   "metadata": {},
   "outputs": [],
   "source": [
    "#Plot fl_values onto wl_values so that the length of the arrays match that of the APF spectrum. \n",
    "#Set s to 500000 to smooth the fit.\n",
    "def echelle_blaze_fit(order = 0):\n",
    "    wl, flux, wl_values, fl_values = find_echelle_blaze(order)\n",
    "    \n",
    "    spl = splrep(wl_values, fl_values, s = 500000) #uses a B-Spline fitting method \n",
    "    flux_fit = splev(wl, spl)\n",
    "    # plt.plot(wl, flux_fit)\n",
    "    # plt.xlabel('Wavelength [A]')\n",
    "    # plt.ylabel('Flux')\n",
    "    # plt.title('Echelle Blaze Function Fit / Bin =' + str(bin) + ', Order:' + str(order), fontsize = 18)\n",
    "    # plt.show()\n",
    "    return flux_fit\n",
    "\n",
    "    #smooth this out "
   ]
  },
  {
   "cell_type": "code",
   "execution_count": 23,
   "id": "a6cd5544-291f-4b71-afcb-fb537535436e",
   "metadata": {},
   "outputs": [],
   "source": [
    "#this is supposed to divide the fit from the data and make it normalized\n",
    "def normalized_flux_interact(order = 0, normalization = False):\n",
    "    wl, flux, wl_values, fl_values = find_echelle_blaze(order)\n",
    "    flux_fit = echelle_blaze_fit(order)\n",
    "    \n",
    "    first_normalized_flux = flux / flux_fit\n",
    "    plt.figure(figsize = (12,6))\n",
    "    plt.plot(wl, first_normalized_flux)\n",
    "    plt.xlabel('Wavelength [A]')\n",
    "    plt.ylabel('Flux')\n",
    "    plt.ylim(-1,1.5)\n",
    "    plt.title('Normalized Flux; Order: ' + str(order),fontsize = 18)\n",
    "    if normalization:\n",
    "        plt.axhline(1, c = 'red')\n",
    "        \n",
    "    plt.show()"
   ]
  },
  {
   "cell_type": "code",
   "execution_count": 24,
   "id": "9a694a11-3494-40db-b02b-e80953c25256",
   "metadata": {},
   "outputs": [
    {
     "data": {
      "application/vnd.jupyter.widget-view+json": {
       "model_id": "9c0cf1fcff3746aeb1afadc3442613da",
       "version_major": 2,
       "version_minor": 0
      },
      "text/plain": [
       "interactive(children=(Play(value=0, description='order', interval=500, max=69), Checkbox(value=False, descript…"
      ]
     },
     "metadata": {},
     "output_type": "display_data"
    },
    {
     "data": {
      "text/plain": [
       "<function __main__.normalized_flux_interact(order=0, normalization=False)>"
      ]
     },
     "execution_count": 24,
     "metadata": {},
     "output_type": "execute_result"
    }
   ],
   "source": [
    "widgets.interact(normalized_flux_interact, order = widgets.Play(interval = 500, min = 0,max = len(wl_raw)-2))  \n",
    "\n",
    "#for slider: (0,100,1)\n",
    "#for sim: widgets.Play(interval = 500, min = 4,max = len(wl_raw)-2)\n",
    "\n",
    "#note 27, #end of 79 is kinda broken, 86 kinda broken, 96 kinda broken #end it at 100 "
   ]
  },
  {
   "cell_type": "markdown",
   "id": "be651f46-c886-419a-9d51-5786f500d84e",
   "metadata": {},
   "source": [
    "Some of these fits are absolutely terrible, considering whether its better to leave it or fix it. We'll see if we should just ignore the data sets on the edge of the spectrum, since in the middle the fits are pretty decent. \n",
    "\n",
    "the fits that we care about will be (27,78) and then (80,85) (87, 95), (97,100) of these new filtered fits, so lets filter that out! "
   ]
  },
  {
   "cell_type": "code",
   "execution_count": 25,
   "id": "cc026c64-6af9-469e-b3d2-c55e59a356e8",
   "metadata": {},
   "outputs": [],
   "source": [
    "#this is supposed to divide the fit from the data and make it normalized\n",
    "def normalized_flux(order = 0, normalization = False):\n",
    "    wl, flux, wl_values, fl_values = find_echelle_blaze(order)\n",
    "    flux_fit = echelle_blaze_fit(order)\n",
    "    \n",
    "    first_normalized_flux = flux / flux_fit\n",
    "#     plt.plot(wl, first_normalized_flux)\n",
    "#     plt.xlabel('Wavelength [A]')\n",
    "#     plt.ylabel('Flux')\n",
    "#     plt.ylim(-1,1.5)\n",
    "#     plt.title('Normalized Flux; Order: ' + str(order),fontsize = 18)\n",
    "#     if normalization:\n",
    "#         plt.axhline(1, c = 'red')\n",
    "        \n",
    "#     plt.show()\n",
    "    return first_normalized_flux "
   ]
  },
  {
   "cell_type": "code",
   "execution_count": 26,
   "id": "9e96ee32-1842-4cee-ae3c-4c55d64ed733",
   "metadata": {},
   "outputs": [],
   "source": [
    "def second_normalized_flux_interact(order = 0):\n",
    "    wl, flux, wl_values, fl_values = find_echelle_blaze(order)\n",
    "    flux_fit = echelle_blaze_fit(order)\n",
    "    first_normalized_flux = normalized_flux(order)\n",
    "    \n",
    "    flux98 = np.percentile(first_normalized_flux, 98) #fixed the bug mentioned below \n",
    "    second_normalized_flux = first_normalized_flux / flux98\n",
    "    plt.figure(figsize = (12,6))\n",
    "    plt.plot(wl, first_normalized_flux, label = 'Normalized Once')\n",
    "    plt.plot(wl, second_normalized_flux, label = 'Normalized Twice')\n",
    "    plt.legend()\n",
    "    plt.ylim(-1.2,1.5)\n",
    "    plt.xlabel('Wavelength [A]')\n",
    "    plt.ylabel('Flux')\n",
    "    plt.title('Double Normalized Data; Order: '+ str(order))\n",
    "    plt.show()"
   ]
  },
  {
   "cell_type": "code",
   "execution_count": 27,
   "id": "04f62349-5a91-407f-8a46-f00c2024c54e",
   "metadata": {},
   "outputs": [
    {
     "data": {
      "application/vnd.jupyter.widget-view+json": {
       "model_id": "de0ba65bd33e4325ad6edcb1fc6d124e",
       "version_major": 2,
       "version_minor": 0
      },
      "text/plain": [
       "interactive(children=(Play(value=0, description='order', interval=400, max=70), Output()), _dom_classes=('widg…"
      ]
     },
     "metadata": {},
     "output_type": "display_data"
    },
    {
     "data": {
      "text/plain": [
       "<function __main__.second_normalized_flux_interact(order=0)>"
      ]
     },
     "execution_count": 27,
     "metadata": {},
     "output_type": "execute_result"
    }
   ],
   "source": [
    "widgets.interact(second_normalized_flux_interact, order = widgets.Play(interval = 400, min = 0,max = len(wl_raw)-1))  "
   ]
  },
  {
   "cell_type": "code",
   "execution_count": 28,
   "id": "cee54ded-9e6a-4fb4-b25a-3e28e2805dce",
   "metadata": {},
   "outputs": [],
   "source": [
    "def second_normalized_flux(order = 0):\n",
    "    wl, flux, wl_values, fl_values = find_echelle_blaze(order)\n",
    "    flux_fit = echelle_blaze_fit(order)\n",
    "    first_normalized_flux = normalized_flux(order)\n",
    "    \n",
    "    flux98 = np.percentile(first_normalized_flux, 98) #fixed the bug mentioned below \n",
    "    second_normalized_flux = first_normalized_flux / flux98\n",
    "    \n",
    "    return second_normalized_flux\n",
    "    # plt.figure(figsize = (12,6))\n",
    "    # plt.plot(wl, first_normalized_flux, label = 'Normalized Once')\n",
    "    # plt.plot(wl, second_normalized_flux, label = 'Normalized Twice')\n",
    "    # plt.legend()\n",
    "    # plt.xlabel('Wavelength [A]')\n",
    "    # plt.ylabel('Flux')\n",
    "    # plt.title('Double Normalized Data; Order: '+ str(order))\n",
    "    # plt.show()"
   ]
  },
  {
   "cell_type": "markdown",
   "id": "e156fd91-c4e6-4356-8d1f-6c0f1695241a",
   "metadata": {
    "tags": []
   },
   "source": [
    "## Regriding the Wavelength Grid to be in Constant RV Space¶\n",
    "Plot the normalized flux values onto the original wavelength grid, create a new wavelength grid that is log lambda spaced, and then interpolate onto the new wavelength grid. This will create a spectrum that is in constant RV space, which will allow for a straightforward calculation of the Doppler shift."
   ]
  },
  {
   "cell_type": "code",
   "execution_count": 29,
   "id": "298d00f6-cb4b-4ff0-8d29-66db9a23774c",
   "metadata": {},
   "outputs": [],
   "source": [
    "#this will be used to interpolate and hopefully it doesnt break lol\n",
    "#nvm i ended up not using it\n",
    "def interpolate(wl, normalized_flux):\n",
    "    f = scipy.interpolate.interp1d(wl, normalized_flux, kind='cubic')\n",
    "    return f"
   ]
  },
  {
   "cell_type": "code",
   "execution_count": 30,
   "id": "f799c9ab-e081-494d-97e9-a1aa4520b3c8",
   "metadata": {},
   "outputs": [],
   "source": [
    "#create an array of wavelength values that are spaced apart on a log scale (in order to change it to velocity)\n",
    "def wavelength_log_scale(order = 0):\n",
    "    #stuff needed from other functions up to this point:\n",
    "    wl, flux, wl_values, fl_values = find_echelle_blaze(order)\n",
    "    #flux_fit = echelle_blaze_fit(order)\n",
    "    #first_normalized_flux = normalized_flux(order)\n",
    "    final_normalized_flux = second_normalized_flux(order)\n",
    "    \n",
    "    f = scipy.interpolate.interp1d(wl, final_normalized_flux, kind='cubic') #need to figure out how to modify this to work properly \n",
    "    \n",
    "    dv = 1 # km/s  (?) why did she choose 1? \n",
    "    C = 299792.458 #km/s\n",
    "    wl_start = min(wl) + 0.2\n",
    "    wl_end = max(wl) - 0.2\n",
    "\n",
    "    CDELT1 = np.log10(dv/C +1) # wavelength grid step size\n",
    "\n",
    "    CRVAL1 = np.log10(wl_start)  # log of starting wavelength value\n",
    "    CRVALN = np.log10(wl_end)    # log of ending wavelength value \n",
    "    NAXIS1 = (CRVALN - CRVAL1) / CDELT1  # total number of points\n",
    "\n",
    "    p = np.arange(NAXIS1) # array of total points\n",
    "    wl2 = 10 ** (CRVAL1 + CDELT1 * p)  # new array of wavelength values\n",
    "\n",
    "    # interpolate flux values onto log spaced wavelength grid\n",
    "    flux2 = f(wl2)\n",
    "    return wl2, flux2\n",
    "    "
   ]
  },
  {
   "cell_type": "code",
   "execution_count": 31,
   "id": "dd4abe71-23a4-44dd-922f-320881234b92",
   "metadata": {},
   "outputs": [],
   "source": [
    "def wavelength_log_scale_interact(order = 0):\n",
    "    wl2, flux2 = wavelength_log_scale(order)\n",
    "    plt.figure(figsize = (12,6))\n",
    "    plt.plot(wl2, flux2)\n",
    "    #plt.plot(wl,normalized_flux)\n",
    "    plt.xlabel('Wavelength [A]')\n",
    "    plt.ylabel('Flux')\n",
    "    plt.title('Data in Constant RV Space; Order:' + str(order))\n",
    "    plt.ylim(-.5,1.5)\n",
    "    # plt.xlim(4800,4810)\n",
    "    plt.show()"
   ]
  },
  {
   "cell_type": "code",
   "execution_count": 32,
   "id": "880324bb-574a-45df-81d2-645c4473ddc2",
   "metadata": {},
   "outputs": [
    {
     "data": {
      "application/vnd.jupyter.widget-view+json": {
       "model_id": "1fd7e7eb167748c7bb3fb7bed60ac383",
       "version_major": 2,
       "version_minor": 0
      },
      "text/plain": [
       "interactive(children=(Play(value=0, description='order', interval=1000, max=70), Output()), _dom_classes=('wid…"
      ]
     },
     "metadata": {},
     "output_type": "display_data"
    },
    {
     "data": {
      "text/plain": [
       "<function __main__.wavelength_log_scale_interact(order=0)>"
      ]
     },
     "execution_count": 32,
     "metadata": {},
     "output_type": "execute_result"
    }
   ],
   "source": [
    "widgets.interact(wavelength_log_scale_interact, order = widgets.Play(interval = 1000, min = 0,max = len(wl_raw)-1)) #takes some time to run so account for that in the widget"
   ]
  },
  {
   "cell_type": "markdown",
   "id": "5f80e0d0-d861-4081-8f56-d9a0927ea37e",
   "metadata": {},
   "source": [
    "## Solar Spectrum Stuff\n",
    "Read the empirical solar spectrum using astropy.io.fits. There are two arrays: one is the wavelength from around 3000 angstroms to 12,500 Angstroms, and the second is the corresponding flux array. Truncate it to match the wavelength range of the APF data."
   ]
  },
  {
   "cell_type": "code",
   "execution_count": 33,
   "id": "f38a5f0f-09e6-40b8-8215-8dc9b1d25fb2",
   "metadata": {},
   "outputs": [],
   "source": [
    "solar_spectrum_path = \"C:\\\\Users\\\\alica\\\\workspace\\\\Intro-2-Spectra\\\\analysis\\\\NEID_analysis\\\\nso.fits\"\n",
    "solar_spectrum = fits.open(solar_spectrum_path)"
   ]
  },
  {
   "cell_type": "code",
   "execution_count": 34,
   "id": "049b66eb-2e59-403a-a22a-bc04dbbd4cb7",
   "metadata": {},
   "outputs": [
    {
     "name": "stdout",
     "output_type": "stream",
     "text": [
      "Filename: C:\\Users\\alica\\workspace\\Intro-2-Spectra\\analysis\\NEID_analysis\\nso.fits\n",
      "No.    Name      Ver    Type      Cards   Dimensions   Format\n",
      "  0  PRIMARY       1 PrimaryHDU       6   (1097840,)   float64   \n",
      "  1                1 ImageHDU         6   (1097840,)   float64   \n"
     ]
    }
   ],
   "source": [
    "solar_spectrum.info()"
   ]
  },
  {
   "cell_type": "code",
   "execution_count": 35,
   "id": "825d24aa-3902-41c5-b531-f486bb766747",
   "metadata": {},
   "outputs": [],
   "source": [
    "#still need to go over:\n",
    "def solar_spectrum_alterations_interact(order = 0):\n",
    "    wl2, flux2 = wavelength_log_scale(order)\n",
    "    \n",
    "    wl_temp = solar_spectrum[0].data\n",
    "    fl_temp = solar_spectrum[1].data\n",
    "\n",
    "    # wavelengths of APF data -- turning into my NEID data\n",
    "\n",
    "    #this is giving the starting point of our data set:\n",
    "    min_wl = min(wl2) - 8 #why 8 doe\n",
    "    absolute_difference_function = lambda list_value: abs(list_value-min_wl)\n",
    "    w = min(wl_temp.tolist(), key = absolute_difference_function)\n",
    "    min_index = wl_temp.tolist().index(w)\n",
    "\n",
    "    #this gives the end point:\n",
    "    max_wl = max(wl2) + 8\n",
    "    absolute_difference_function = lambda list_value : abs(list_value - max_wl)\n",
    "    w = min(wl_temp.tolist(), key = absolute_difference_function)\n",
    "    max_index = wl_temp.tolist().index(w)\n",
    "\n",
    "    wl_syn_temp = wl_temp[min_index:max_index] #syn for synthetic?\n",
    "    fl_syn_temp = fl_temp[min_index:max_index]\n",
    "    \n",
    "    #plotting\n",
    "    plt.figure(figsize = (12,6))\n",
    "    plt.plot(wl_syn_temp, fl_syn_temp)\n",
    "    plt.xlabel('Wavelength [A]')\n",
    "    plt.ylabel('Flux')\n",
    "    plt.title('Solar Spectrum')\n",
    "    plt.ylim(-0.5,1.5)\n",
    "    plt.show()"
   ]
  },
  {
   "cell_type": "code",
   "execution_count": 36,
   "id": "3780a3d1-e6f8-446d-abf2-fcfb292194ea",
   "metadata": {},
   "outputs": [],
   "source": [
    "#still need to go over:\n",
    "def solar_spectrum_alterations(order = 0):\n",
    "    wl2, flux2 = wavelength_log_scale(order)\n",
    "    \n",
    "    wl_temp = solar_spectrum[0].data\n",
    "    fl_temp = solar_spectrum[1].data\n",
    "\n",
    "    # wavelengths of APF data -- turning into my NEID data\n",
    "\n",
    "    #this is giving the starting point of our data set:\n",
    "    min_wl = min(wl2) - 8 #why 8 doe\n",
    "    absolute_difference_function = lambda list_value: abs(list_value-min_wl)\n",
    "    w = min(wl_temp.tolist(), key = absolute_difference_function)\n",
    "    min_index = wl_temp.tolist().index(w)\n",
    "\n",
    "    #this gives the end point:\n",
    "    max_wl = max(wl2) + 8\n",
    "    absolute_difference_function = lambda list_value : abs(list_value - max_wl)\n",
    "    w = min(wl_temp.tolist(), key = absolute_difference_function)\n",
    "    max_index = wl_temp.tolist().index(w)\n",
    "\n",
    "    wl_syn_temp = wl_temp[min_index:max_index] #syn for synthetic?\n",
    "    fl_syn_temp = fl_temp[min_index:max_index]\n",
    "    return wl_syn_temp, fl_syn_temp"
   ]
  },
  {
   "cell_type": "code",
   "execution_count": 37,
   "id": "bf3dc9a7-ad55-470e-a50e-aaba251338da",
   "metadata": {},
   "outputs": [
    {
     "data": {
      "application/vnd.jupyter.widget-view+json": {
       "model_id": "2f33053ca7474805b13ec850cc3c3c22",
       "version_major": 2,
       "version_minor": 0
      },
      "text/plain": [
       "interactive(children=(IntSlider(value=0, description='order'), Output()), _dom_classes=('widget-interact',))"
      ]
     },
     "metadata": {},
     "output_type": "display_data"
    },
    {
     "data": {
      "text/plain": [
       "<function __main__.solar_spectrum_alterations_interact(order=0)>"
      ]
     },
     "execution_count": 37,
     "metadata": {},
     "output_type": "execute_result"
    }
   ],
   "source": [
    "widgets.interact(solar_spectrum_alterations_interact, order = (0,100,1))"
   ]
  },
  {
   "cell_type": "markdown",
   "id": "b9a462b6-f04e-40d3-b751-2098b8711407",
   "metadata": {},
   "source": [
    "There are a lot of extreme peaks that are making this look bad, so imma try setting the ylim. Also this could be in part due to the nan replacement method put in place. since i took out the arrays that were obviously not good (all nan or 0) there should be some precision gained there. "
   ]
  },
  {
   "cell_type": "code",
   "execution_count": 38,
   "id": "f44c1b24-dff6-4543-b22c-b8505a08871b",
   "metadata": {},
   "outputs": [],
   "source": [
    "#doing to spacing thing again:\n",
    "def spacing_interactive(order = 0):\n",
    "    wl_syn_temp, fl_syn_temp = solar_spectrum_alterations(order)\n",
    "    plt.plot(np.arange(len(wl_syn_temp) - 1), (wl_syn_temp[1:] - wl_syn_temp[:-1]))\n",
    "    plt.title('Spacing between NSO Solar Atlas Wavelength Grid; Order: ' + str(order))\n",
    "    plt.xlabel('Pixel')\n",
    "    plt.ylabel('Difference between adjacent pixels [A]')\n",
    "    plt.show()"
   ]
  },
  {
   "cell_type": "code",
   "execution_count": 39,
   "id": "461588af-3070-45ff-8529-6ccc534e42da",
   "metadata": {},
   "outputs": [
    {
     "data": {
      "application/vnd.jupyter.widget-view+json": {
       "model_id": "c94d38d67efa4267b2daa10e87f818ec",
       "version_major": 2,
       "version_minor": 0
      },
      "text/plain": [
       "interactive(children=(Play(value=0, description='order', interval=1000, max=70), Output()), _dom_classes=('wid…"
      ]
     },
     "metadata": {},
     "output_type": "display_data"
    },
    {
     "data": {
      "text/plain": [
       "<function __main__.spacing_interactive(order=0)>"
      ]
     },
     "execution_count": 39,
     "metadata": {},
     "output_type": "execute_result"
    }
   ],
   "source": [
    "widgets.interact(spacing_interactive, order = widgets.Play(interval = 1000, min = 0,max = len(wl_raw)-1))\n",
    "\n",
    "# order = widgets.Play(interval = 1000, min = 0,max = len(wl_raw)-1))\n",
    "#order = (0,100,1))"
   ]
  },
  {
   "cell_type": "code",
   "execution_count": 40,
   "id": "e30ea334-4dd8-41c1-81ad-474bd84c89cd",
   "metadata": {},
   "outputs": [],
   "source": [
    "def solar_log_scale(order = 0):\n",
    "    '''create an array of wavelength values that are spaced apart on a log scale \n",
    "    (in order to change it to velocity)'''\n",
    "    wl_syn_temp, fl_syn_temp = solar_spectrum_alterations(order)\n",
    "    f = scipy.interpolate.interp1d(wl_syn_temp, fl_syn_temp, kind='cubic')\n",
    "    \n",
    "    dv = 1 #km/s\n",
    "    C = 299792.458 #km/s\n",
    "    wl_start = min(wl_syn_temp) + 0.2\n",
    "    wl_end = max(wl_syn_temp) - 0.2\n",
    "\n",
    "    CDELT1 = np.log10(dv/C +1) #wavelength grid step size\n",
    "\n",
    "    CRVAL1 = np.log10(wl_start)  #log of starting wavelength value\n",
    "    CRVALN = np.log10(wl_end)    #log of ending wavelength value \n",
    "    NAXIS1 = (CRVALN - CRVAL1) /CDELT1  #total number of points\n",
    "\n",
    "    p = np.arange(NAXIS1) #array of total points\n",
    "    wl_syn = 10 ** (CRVAL1 + CDELT1 * p)  #array of wavelength values\n",
    "\n",
    "    # interpolate flux values onto log spaced wavelength grid\n",
    "    fl_syn = f(wl_syn)\n",
    "    \n",
    "    return wl_syn, fl_syn\n",
    "    \n",
    "    # plt.figure(figsize = (14,4))\n",
    "    # plt.plot(wl_syn, fl_syn)\n",
    "    # plt.xlabel('Wavelength [A]')\n",
    "    # plt.ylabel('Flux')\n",
    "    # plt.title('Solar Spectrum in Constant RV Space')\n",
    "    # plt.show()"
   ]
  },
  {
   "cell_type": "code",
   "execution_count": 41,
   "id": "640749b6-60a7-4796-9246-812a3aec1ece",
   "metadata": {},
   "outputs": [],
   "source": [
    "def solar_log_scale_interact(order = 0):\n",
    "    '''create an array of wavelength values that are spaced apart on a log scale \n",
    "    (in order to change it to velocity)'''\n",
    "    wl_syn_temp, fl_syn_temp = solar_spectrum_alterations(order)\n",
    "    f = scipy.interpolate.interp1d(wl_syn_temp, fl_syn_temp, kind='cubic')\n",
    "    \n",
    "    dv = 1 #km/s\n",
    "    C = 299792.458 #km/s\n",
    "    wl_start = min(wl_syn_temp) + 0.2\n",
    "    wl_end = max(wl_syn_temp) - 0.2\n",
    "\n",
    "    CDELT1 = np.log10(dv/C +1) #wavelength grid step size\n",
    "\n",
    "    CRVAL1 = np.log10(wl_start)  #log of starting wavelength value\n",
    "    CRVALN = np.log10(wl_end)    #log of ending wavelength value \n",
    "    NAXIS1 = (CRVALN - CRVAL1) /CDELT1  #total number of points\n",
    "\n",
    "    p = np.arange(NAXIS1) #array of total points\n",
    "    wl_syn = 10 ** (CRVAL1 + CDELT1 * p)  #array of wavelength values\n",
    "\n",
    "    # interpolate flux values onto log spaced wavelength grid\n",
    "    fl_syn = f(wl_syn)\n",
    "    \n",
    "    plt.figure(figsize = (14,4))\n",
    "    plt.plot(wl_syn, fl_syn)\n",
    "    plt.xlabel('Wavelength [A]')\n",
    "    plt.ylabel('Flux')\n",
    "    plt.title('Solar Spectrum in Constant RV Space; Order: ' + str(order))\n",
    "    plt.show()"
   ]
  },
  {
   "cell_type": "code",
   "execution_count": 42,
   "id": "029b5f74-d880-4682-ba26-6e6a13192005",
   "metadata": {},
   "outputs": [
    {
     "data": {
      "application/vnd.jupyter.widget-view+json": {
       "model_id": "5c1c14961914420d99908fcff16c32af",
       "version_major": 2,
       "version_minor": 0
      },
      "text/plain": [
       "interactive(children=(IntSlider(value=0, description='order'), Output()), _dom_classes=('widget-interact',))"
      ]
     },
     "metadata": {},
     "output_type": "display_data"
    },
    {
     "data": {
      "text/plain": [
       "<function __main__.solar_log_scale_interact(order=0)>"
      ]
     },
     "execution_count": 42,
     "metadata": {},
     "output_type": "execute_result"
    }
   ],
   "source": [
    "widgets.interact(solar_log_scale_interact, order = (0,100,1))"
   ]
  },
  {
   "cell_type": "markdown",
   "id": "03852e3b-8182-45a0-91a5-7f0d4d5dae18",
   "metadata": {},
   "source": [
    "_There is still the issue of the book-end orders not being ideal in any respect other than looking like a square_"
   ]
  },
  {
   "cell_type": "markdown",
   "id": "b6b3a547-e948-4594-bca3-b5e638f705f8",
   "metadata": {},
   "source": [
    "## Generalized Finding Velocity Shift"
   ]
  },
  {
   "cell_type": "code",
   "execution_count": 43,
   "id": "a4ebac00-8ff2-49bb-966f-a70a2c9592fa",
   "metadata": {},
   "outputs": [],
   "source": [
    "def finding_velocity_shift(order = 0):\n",
    "    wl_syn, fl_syn = solar_log_scale(order)\n",
    "    wl2, flux2 = wavelength_log_scale(order)\n",
    "    min_wl = min(wl2) #changed this to wl2, to be the most uptodate version of the data set\n",
    "    absolute_difference_function = lambda list_value : abs(list_value - min_wl)\n",
    "    w = min(wl_syn.tolist(), key = absolute_difference_function)\n",
    "    index = wl_syn.tolist().index(w)\n",
    "    return index\n",
    "\n",
    "    # print('The first value of the NEID data is located at pixel ' + str(index) + ' of the empirical spectrum.')"
   ]
  },
  {
   "cell_type": "code",
   "execution_count": 44,
   "id": "043e2bb8-ebe1-4fdf-a89c-7b0d14c0907f",
   "metadata": {},
   "outputs": [],
   "source": [
    "# this showed that the velocity shift decreases as the wavelength in increases\n",
    "\n",
    "# for i in np.arange(100):\n",
    "#     print(str(i), finding_velocity_shift(i))"
   ]
  },
  {
   "cell_type": "code",
   "execution_count": 45,
   "id": "1cc0d84c-bd70-49f9-aa40-1dd0f0584a63",
   "metadata": {},
   "outputs": [],
   "source": [
    "def chi_squared_test_plot(order = 0):\n",
    "    #data needed for the following functions and plotting\n",
    "    wl_syn, fl_syn = solar_log_scale(order)\n",
    "    wl2, flux2 = wavelength_log_scale(order)\n",
    "    index = finding_velocity_shift(order)\n",
    "    \n",
    "    def chi(model, data):\n",
    "        '''given two arrays of the same length,\n",
    "        calculate chi squared'''\n",
    "        return np.sum((data - model) ** 2)\n",
    "    \n",
    "    chi_squared_values = []\n",
    "    indices = []\n",
    "\n",
    "    for i in np.arange(len(wl_syn) - len(wl2)): #changing wl to wl2\n",
    "        syn_flux = fl_syn[i: i + len(wl2)]\n",
    "        chi_squared = chi(syn_flux, flux2) #changing to flux2\n",
    "        chi_squared_values = np.append(chi_squared_values, chi_squared)\n",
    "        indices = np.append(indices, i)\n",
    "\n",
    "    min_chi = min(chi_squared_values)\n",
    "    shifted_index = chi_squared_values.tolist().index(min_chi)\n",
    "    \n",
    "    plt.figure(figsize = (5,3))\n",
    "\n",
    "    plt.plot(indices - index, chi_squared_values)\n",
    "    plt.xlabel('Radial Velocity')\n",
    "    plt.ylabel('Chi squared')\n",
    "    plt.title('Chi-squared Test')\n",
    "    plt.show()\n",
    "\n",
    "    if (shifted_index - index) < 0:\n",
    "        shift = index - shifted_index\n",
    "        print(star + ' is traveling toward Earth at ' + str(shift) + ' km/s. The APF spectrum needs to be redshifted by ' + str(shift) + ' pixels. (Shift to left.)')\n",
    "        shift_dir = 'left'\n",
    "    else:\n",
    "        shift = shifted_index - index\n",
    "        print(star + ' is traveling away from Earth at ' + str(shift) + ' km/s. The APF spectrum needs to be blueshifted by ' + str(shift) + ' pixels. (Shift to right.)')\n",
    "        shift_dir = 'right'"
   ]
  },
  {
   "cell_type": "code",
   "execution_count": 46,
   "id": "d4d1bb36-0f5c-42ae-a0fc-ba2da6d07e0d",
   "metadata": {},
   "outputs": [],
   "source": [
    "def chi_squared_test(order = 0):\n",
    "    #data needed for the following functions and plotting\n",
    "    wl_syn, fl_syn = solar_log_scale(order)\n",
    "    wl2, flux2 = wavelength_log_scale(order)\n",
    "    index = finding_velocity_shift(order)\n",
    "    \n",
    "    def chi(model, data):\n",
    "        '''given two arrays of the same length,\n",
    "        calculate chi squared'''\n",
    "        return np.sum((data - model) ** 2)\n",
    "    \n",
    "    chi_squared_values = []\n",
    "    indices = []\n",
    "\n",
    "    for i in np.arange(len(wl_syn) - len(wl2)): #changing wl to wl2\n",
    "        syn_flux = fl_syn[i: i + len(wl2)]\n",
    "        chi_squared = chi(syn_flux, flux2) #changing to flux2\n",
    "        chi_squared_values = np.append(chi_squared_values, chi_squared)\n",
    "        indices = np.append(indices, i)\n",
    "\n",
    "    min_chi = min(chi_squared_values)\n",
    "    shifted_index = chi_squared_values.tolist().index(min_chi)\n",
    "    \n",
    "#     plt.figure(figsize = (5,3))\n",
    "\n",
    "#     plt.plot(indices - index, chi_squared_values)\n",
    "#     plt.xlabel('Radial Velocity')\n",
    "#     plt.ylabel('Chi squared')\n",
    "#     plt.title('Chi-squared Test')\n",
    "#     plt.show()\n",
    "\n",
    "    if (shifted_index - index) < 0:\n",
    "        shift = index - shifted_index\n",
    "        # print(star + ' is traveling toward Earth at ' + str(shift) + ' km/s. The APF spectrum needs to be redshifted by ' + str(shift) + ' pixels. (Shift to left.)')\n",
    "        shift_dir = 'left'\n",
    "    else:\n",
    "        shift = shifted_index - index\n",
    "        # print(star + ' is traveling away from Earth at ' + str(shift) + ' km/s. The APF spectrum needs to be blueshifted by ' + str(shift) + ' pixels. (Shift to right.)')\n",
    "        shift_dir = 'right'\n",
    "        \n",
    "    return shift, shift_dir"
   ]
  },
  {
   "cell_type": "code",
   "execution_count": 47,
   "id": "9de41a16-535e-45a4-af1e-2cff4942be35",
   "metadata": {},
   "outputs": [],
   "source": [
    "# for i in np.arange(100):\n",
    "#     chi_squared_test_plot(i)"
   ]
  },
  {
   "cell_type": "markdown",
   "id": "a622fb8f-d405-4a38-98e2-441c8197e352",
   "metadata": {},
   "source": [
    "_There are clear orders that are causing issues, which maybe should be removed_"
   ]
  },
  {
   "cell_type": "code",
   "execution_count": 48,
   "id": "ba4f138c-b2fe-4ae7-9c91-8449acac0c13",
   "metadata": {},
   "outputs": [],
   "source": [
    "def shifted_vs_not_plot(order = 0):\n",
    "    wl_syn, fl_syn = solar_log_scale(order)\n",
    "    wl2, flux2 = wavelength_log_scale(order)\n",
    "    index = finding_velocity_shift(order)\n",
    "    shift, shift_dir = chi_squared_test(order)\n",
    "    \n",
    "    wl_syn_plot = wl_syn[index:-index]\n",
    "    fl_syn_plot = fl_syn[index:-index]\n",
    "\n",
    "    if shift_dir == 'left':\n",
    "        shifted_wl = wl2[:-shift]\n",
    "        shifted_fl = flux2[shift:]\n",
    "    else:\n",
    "        shifted_wl = wl2[shift:]\n",
    "        shifted_fl = flux2[:-shift]\n",
    "        \n",
    "    return wl_syn_plot, fl_syn_plot\n",
    "#     plt.figure(figsize = (12,2))\n",
    "\n",
    "#     plt.plot(wl_syn_plot, fl_syn_plot, label = 'Empirical Spectrum')\n",
    "#     plt.plot(wl2, flux2, label = 'Unshifted NEID Spectrum')\n",
    "\n",
    "#     plt.xlabel('Wavelength [A]')\n",
    "#     plt.ylabel('Flux')\n",
    "#     plt.title('Unshifted Spectrum')\n",
    "#     plt.legend()\n",
    "#     plt.show()"
   ]
  },
  {
   "cell_type": "code",
   "execution_count": 49,
   "id": "0201cebd-2c0a-4423-bdb7-1617782a7df4",
   "metadata": {},
   "outputs": [],
   "source": [
    "def shifted_vs_not(order = 0):\n",
    "    wl_syn, fl_syn = solar_log_scale(order)\n",
    "    wl2, flux2 = wavelength_log_scale(order)\n",
    "    index = finding_velocity_shift(order)\n",
    "    shift, shift_dir = chi_squared_test(order)\n",
    "    \n",
    "    wl_syn_plot = wl_syn[index:-index]\n",
    "    fl_syn_plot = fl_syn[index:-index]\n",
    "\n",
    "    if shift_dir == 'left':\n",
    "        shifted_wl = wl2[:-shift]\n",
    "        shifted_fl = flux2[shift:]\n",
    "    else:\n",
    "        shifted_wl = wl2[shift:]\n",
    "        shifted_fl = flux2[:-shift]\n",
    "        \n",
    "    return shifted_wl, shifted_fl"
   ]
  },
  {
   "cell_type": "code",
   "execution_count": 50,
   "id": "64f7dcdf-37c8-41bf-bb6f-4f426efe8730",
   "metadata": {},
   "outputs": [],
   "source": [
    "# for i in range(10,90,5):\n",
    "#     shifted_vs_not(i)"
   ]
  },
  {
   "cell_type": "code",
   "execution_count": 51,
   "id": "47a4182f-4667-4b05-827b-27893a19170c",
   "metadata": {},
   "outputs": [],
   "source": [
    "def residuals(order = 0):\n",
    "    wl_syn, fl_syn = solar_log_scale(order)\n",
    "    wl2, flux2 = wavelength_log_scale(order)\n",
    "    index = finding_velocity_shift(order)\n",
    "    shift, shift_dir = chi_squared_test(order)\n",
    "    wl_syn_plot, fl_syn_plot = shifted_vs_not_plot(order)\n",
    "    \n",
    "    \n",
    "    residuals_unshifted = flux2[len(wl_syn_plot)] - fl_syn_plot\n",
    "    \n",
    "    plt.figure(figsize = (20,4))\n",
    "    plt.plot(wl_syn_plot, residuals_unshifted, label = str(np.average(residuals_unshifted)) )\n",
    "\n",
    "    plt.xlabel('Wavelength [A]')\n",
    "    plt.ylabel('Flux')\n",
    "    plt.title('Residuals of Shifted APF Spectrum against Empirical Spectrum')\n",
    "    plt.legend()\n",
    "    plt.show()\n",
    "    \n",
    "\n",
    "    print('The average residual is ' + str(np.average(residuals_unshifted)))"
   ]
  },
  {
   "cell_type": "code",
   "execution_count": 52,
   "id": "2310db80-6cc9-45bf-aa30-b95e3b1d3f0b",
   "metadata": {},
   "outputs": [],
   "source": [
    "#residuals(12) # used for visualization purposes"
   ]
  },
  {
   "cell_type": "code",
   "execution_count": 53,
   "id": "46713a31-51fd-4534-8dab-822c01ec0a52",
   "metadata": {},
   "outputs": [],
   "source": [
    "def plot_shifted_spectrum(order = 0):\n",
    "    wl_syn, fl_syn = solar_log_scale(order)\n",
    "    wl2, flux2 = wavelength_log_scale(order)\n",
    "    index = finding_velocity_shift(order)\n",
    "    shift, shift_dir = chi_squared_test(order)\n",
    "    wl_syn_plot, fl_syn_plot = shifted_vs_not_plot(order)\n",
    "    shifted_wl, shifted_fl = shifted_vs_not(order)\n",
    "    \n",
    "    \n",
    "    plt.figure(figsize = (16,4))\n",
    "    plt.plot(wl_syn_plot, fl_syn_plot, label = 'Empirical Spectrum')\n",
    "    plt.plot(shifted_wl, shifted_fl, label = 'Shifted APF Spectrum')\n",
    "\n",
    "    plt.title('Shifted Spectrum')\n",
    "    plt.xlabel('Wavelength [A]')\n",
    "    plt.ylabel('Flux')\n",
    "    plt.legend()\n",
    "    plt.show()"
   ]
  },
  {
   "cell_type": "code",
   "execution_count": 54,
   "id": "0a8a07c9-ad09-47c9-af8f-3300c1562d8b",
   "metadata": {},
   "outputs": [],
   "source": [
    "#this was used for visualization purposes (takes a LONG time to run)\n",
    "# for i in range(10,100,10):\n",
    "#     plot_shifted_spectrum(i)"
   ]
  },
  {
   "cell_type": "markdown",
   "id": "ac7d2a12-da4c-4531-8cb2-5a3c3c2abb53",
   "metadata": {},
   "source": [
    "_The first one looks kind of jank, so I'll have to see whats causing that issue -- probably has to do with the normalization since there is such a dramatic drop in the middle area that might be harder to normalize (order = 10)_\n",
    "\n",
    "_I've also noticed that some seem to get cut-off at the end. . . idk whats causing that yet_"
   ]
  },
  {
   "cell_type": "code",
   "execution_count": 55,
   "id": "15d9544f-6f75-4f3b-8a94-3189b42d796f",
   "metadata": {},
   "outputs": [],
   "source": [
    "def shifted_residuals(order = 0):\n",
    "    wl_syn, fl_syn = solar_log_scale(order)\n",
    "    wl2, flux2 = wavelength_log_scale(order)\n",
    "    index = finding_velocity_shift(order)\n",
    "    shift, shift_dir = chi_squared_test(order)\n",
    "    wl_syn_plot, fl_syn_plot = shifted_vs_not_plot(order)\n",
    "    shifted_wl, shifted_fl = shifted_vs_not(order)\n",
    "    residuals_shifted = shifted_fl - fl_syn_plot[:len(shifted_wl)]\n",
    "    plt.figure(figsize = (20,4))\n",
    "    plt.plot(wl_syn_plot[:len(shifted_wl)], residuals_shifted)\n",
    "\n",
    "    plt.title('Residuals of Shifted APF Spectrum against Empirical Spectrum')\n",
    "    plt.xlabel('Wavelength [A]')\n",
    "    plt.ylabel('Flux')\n",
    "    plt.show()"
   ]
  },
  {
   "cell_type": "code",
   "execution_count": 56,
   "id": "1338f756-df88-4596-b470-b7964cf77208",
   "metadata": {},
   "outputs": [
    {
     "data": {
      "image/png": "[encoded data removed]",
      "text/plain": [
       "<Figure size 2000x400 with 1 Axes>"
      ]
     },
     "metadata": {},
     "output_type": "display_data"
    }
   ],
   "source": [
    "shifted_residuals(45)"
   ]
  },
  {
   "cell_type": "markdown",
   "id": "301dbcc4-f944-43c1-9b6a-a60a2a53e8d9",
   "metadata": {},
   "source": [
    "## Final Plots"
   ]
  },
  {
   "cell_type": "code",
   "execution_count": 57,
   "id": "4c260edc-3f6a-4195-8b37-0f38f810290c",
   "metadata": {},
   "outputs": [],
   "source": [
    "def final_plot(order = 0):\n",
    "    wl_syn, fl_syn = solar_log_scale(order)\n",
    "    wl2, flux2 = wavelength_log_scale(order)\n",
    "    index = finding_velocity_shift(order)\n",
    "    shift, shift_dir = chi_squared_test(order)\n",
    "    shifted_wl, shifted_fl = shifted_vs_not(order)\n",
    "    plt.figure(figsize = (10,3))\n",
    "    plt.plot(shifted_wl, shifted_fl)\n",
    "    plt.title('Final Reduced APF Spectrum for ' + star + ': Order ' + str(order))\n",
    "    plt.xlabel('Wavelength [A]')\n",
    "    plt.ylabel('Flux')\n",
    "    plt.show()"
   ]
  },
  {
   "cell_type": "code",
   "execution_count": 58,
   "id": "33a64bb3-a5de-43bc-a7c5-1c146bec2b7e",
   "metadata": {},
   "outputs": [],
   "source": [
    "# for i in range(100,130,1):\n",
    "#     final_plot(i)"
   ]
  },
  {
   "cell_type": "code",
   "execution_count": 59,
   "id": "be0b0697-b755-4af6-8c44-006f4a5a00e8",
   "metadata": {},
   "outputs": [],
   "source": [
    "#orders that aren't good enough to keep: \n",
    "#bad_orders = np.array([0,1,2,3,4,5,6,7,8,9,10,11,12, 95, 96])"
   ]
  },
  {
   "cell_type": "code",
   "execution_count": 60,
   "id": "f5c23e38-9f3d-487d-bcd7-a20da7b4249d",
   "metadata": {},
   "outputs": [],
   "source": [
    "def table_making(order):\n",
    "    ''' returns the final shifted spectrum to be fit to gaussians'''\n",
    "    '''still need to figure out which of these functions are necessary or not'''\n",
    "    wl_syn, fl_syn = solar_log_scale(order)\n",
    "    wl2, flux2 = wavelength_log_scale(order)\n",
    "    index = finding_velocity_shift(order)\n",
    "    shift, shift_dir = chi_squared_test(order)\n",
    "    wl_syn_plot, fl_syn_plot = shifted_vs_not_plot(order)\n",
    "    \n",
    "    shifted_wl, shifted_fl = shifted_vs_not(order)\n",
    "    \n",
    "    return shifted_wl, shifted_fl "
   ]
  },
  {
   "cell_type": "code",
   "execution_count": 61,
   "id": "08285a48-1023-41cc-9e5c-5585410de959",
   "metadata": {},
   "outputs": [
    {
     "ename": "KeyboardInterrupt",
     "evalue": "",
     "output_type": "error",
     "traceback": [
      "\u001b[1;31m---------------------------------------------------------------------------\u001b[0m",
      "\u001b[1;31mKeyboardInterrupt\u001b[0m                         Traceback (most recent call last)",
      "\u001b[1;32m~\\AppData\\Local\\Temp\\ipykernel_34436\\3670822078.py\u001b[0m in \u001b[0;36m<module>\u001b[1;34m\u001b[0m\n\u001b[0;32m      3\u001b[0m \u001b[1;33m\u001b[0m\u001b[0m\n\u001b[0;32m      4\u001b[0m \u001b[1;32mfor\u001b[0m \u001b[0mi\u001b[0m \u001b[1;32min\u001b[0m \u001b[0mnp\u001b[0m\u001b[1;33m.\u001b[0m\u001b[0marange\u001b[0m\u001b[1;33m(\u001b[0m\u001b[0mlen\u001b[0m\u001b[1;33m(\u001b[0m\u001b[0mwl_raw\u001b[0m\u001b[1;33m)\u001b[0m\u001b[1;33m)\u001b[0m\u001b[1;33m:\u001b[0m\u001b[1;33m\u001b[0m\u001b[1;33m\u001b[0m\u001b[0m\n\u001b[1;32m----> 5\u001b[1;33m     \u001b[0mshifted_wl\u001b[0m\u001b[1;33m,\u001b[0m \u001b[0mshifted_fl\u001b[0m \u001b[1;33m=\u001b[0m \u001b[0mtable_making\u001b[0m\u001b[1;33m(\u001b[0m\u001b[0mi\u001b[0m\u001b[1;33m)\u001b[0m\u001b[1;33m\u001b[0m\u001b[1;33m\u001b[0m\u001b[0m\n\u001b[0m\u001b[0;32m      6\u001b[0m     \u001b[0mshifted_wls\u001b[0m\u001b[1;33m.\u001b[0m\u001b[0mappend\u001b[0m\u001b[1;33m(\u001b[0m\u001b[0mshifted_wl\u001b[0m\u001b[1;33m)\u001b[0m\u001b[1;33m\u001b[0m\u001b[1;33m\u001b[0m\u001b[0m\n\u001b[0;32m      7\u001b[0m     \u001b[0mshifted_fls\u001b[0m\u001b[1;33m.\u001b[0m\u001b[0mappend\u001b[0m\u001b[1;33m(\u001b[0m\u001b[0mshifted_fl\u001b[0m\u001b[1;33m)\u001b[0m\u001b[1;33m\u001b[0m\u001b[1;33m\u001b[0m\u001b[0m\n",
      "\u001b[1;32m~\\AppData\\Local\\Temp\\ipykernel_34436\\4042021845.py\u001b[0m in \u001b[0;36mtable_making\u001b[1;34m(order)\u001b[0m\n\u001b[0;32m      4\u001b[0m     \u001b[0mwl_syn\u001b[0m\u001b[1;33m,\u001b[0m \u001b[0mfl_syn\u001b[0m \u001b[1;33m=\u001b[0m \u001b[0msolar_log_scale\u001b[0m\u001b[1;33m(\u001b[0m\u001b[0morder\u001b[0m\u001b[1;33m)\u001b[0m\u001b[1;33m\u001b[0m\u001b[1;33m\u001b[0m\u001b[0m\n\u001b[0;32m      5\u001b[0m     \u001b[0mwl2\u001b[0m\u001b[1;33m,\u001b[0m \u001b[0mflux2\u001b[0m \u001b[1;33m=\u001b[0m \u001b[0mwavelength_log_scale\u001b[0m\u001b[1;33m(\u001b[0m\u001b[0morder\u001b[0m\u001b[1;33m)\u001b[0m\u001b[1;33m\u001b[0m\u001b[1;33m\u001b[0m\u001b[0m\n\u001b[1;32m----> 6\u001b[1;33m     \u001b[0mindex\u001b[0m \u001b[1;33m=\u001b[0m \u001b[0mfinding_velocity_shift\u001b[0m\u001b[1;33m(\u001b[0m\u001b[0morder\u001b[0m\u001b[1;33m)\u001b[0m\u001b[1;33m\u001b[0m\u001b[1;33m\u001b[0m\u001b[0m\n\u001b[0m\u001b[0;32m      7\u001b[0m     \u001b[0mshift\u001b[0m\u001b[1;33m,\u001b[0m \u001b[0mshift_dir\u001b[0m \u001b[1;33m=\u001b[0m \u001b[0mchi_squared_test\u001b[0m\u001b[1;33m(\u001b[0m\u001b[0morder\u001b[0m\u001b[1;33m)\u001b[0m\u001b[1;33m\u001b[0m\u001b[1;33m\u001b[0m\u001b[0m\n\u001b[0;32m      8\u001b[0m     \u001b[0mwl_syn_plot\u001b[0m\u001b[1;33m,\u001b[0m \u001b[0mfl_syn_plot\u001b[0m \u001b[1;33m=\u001b[0m \u001b[0mshifted_vs_not_plot\u001b[0m\u001b[1;33m(\u001b[0m\u001b[0morder\u001b[0m\u001b[1;33m)\u001b[0m\u001b[1;33m\u001b[0m\u001b[1;33m\u001b[0m\u001b[0m\n",
      "\u001b[1;32m~\\AppData\\Local\\Temp\\ipykernel_34436\\4080655230.py\u001b[0m in \u001b[0;36mfinding_velocity_shift\u001b[1;34m(order)\u001b[0m\n\u001b[0;32m      1\u001b[0m \u001b[1;32mdef\u001b[0m \u001b[0mfinding_velocity_shift\u001b[0m\u001b[1;33m(\u001b[0m\u001b[0morder\u001b[0m \u001b[1;33m=\u001b[0m \u001b[1;36m0\u001b[0m\u001b[1;33m)\u001b[0m\u001b[1;33m:\u001b[0m\u001b[1;33m\u001b[0m\u001b[1;33m\u001b[0m\u001b[0m\n\u001b[1;32m----> 2\u001b[1;33m     \u001b[0mwl_syn\u001b[0m\u001b[1;33m,\u001b[0m \u001b[0mfl_syn\u001b[0m \u001b[1;33m=\u001b[0m \u001b[0msolar_log_scale\u001b[0m\u001b[1;33m(\u001b[0m\u001b[0morder\u001b[0m\u001b[1;33m)\u001b[0m\u001b[1;33m\u001b[0m\u001b[1;33m\u001b[0m\u001b[0m\n\u001b[0m\u001b[0;32m      3\u001b[0m     \u001b[0mwl2\u001b[0m\u001b[1;33m,\u001b[0m \u001b[0mflux2\u001b[0m \u001b[1;33m=\u001b[0m \u001b[0mwavelength_log_scale\u001b[0m\u001b[1;33m(\u001b[0m\u001b[0morder\u001b[0m\u001b[1;33m)\u001b[0m\u001b[1;33m\u001b[0m\u001b[1;33m\u001b[0m\u001b[0m\n\u001b[0;32m      4\u001b[0m     \u001b[0mmin_wl\u001b[0m \u001b[1;33m=\u001b[0m \u001b[0mmin\u001b[0m\u001b[1;33m(\u001b[0m\u001b[0mwl2\u001b[0m\u001b[1;33m)\u001b[0m \u001b[1;31m#changed this to wl2, to be the most uptodate version of the data set\u001b[0m\u001b[1;33m\u001b[0m\u001b[1;33m\u001b[0m\u001b[0m\n\u001b[0;32m      5\u001b[0m     \u001b[0mabsolute_difference_function\u001b[0m \u001b[1;33m=\u001b[0m \u001b[1;32mlambda\u001b[0m \u001b[0mlist_value\u001b[0m \u001b[1;33m:\u001b[0m \u001b[0mabs\u001b[0m\u001b[1;33m(\u001b[0m\u001b[0mlist_value\u001b[0m \u001b[1;33m-\u001b[0m \u001b[0mmin_wl\u001b[0m\u001b[1;33m)\u001b[0m\u001b[1;33m\u001b[0m\u001b[1;33m\u001b[0m\u001b[0m\n",
      "\u001b[1;32m~\\AppData\\Local\\Temp\\ipykernel_34436\\3389642896.py\u001b[0m in \u001b[0;36msolar_log_scale\u001b[1;34m(order)\u001b[0m\n\u001b[0;32m      2\u001b[0m     '''create an array of wavelength values that are spaced apart on a log scale \n\u001b[0;32m      3\u001b[0m     (in order to change it to velocity)'''\n\u001b[1;32m----> 4\u001b[1;33m     \u001b[0mwl_syn_temp\u001b[0m\u001b[1;33m,\u001b[0m \u001b[0mfl_syn_temp\u001b[0m \u001b[1;33m=\u001b[0m \u001b[0msolar_spectrum_alterations\u001b[0m\u001b[1;33m(\u001b[0m\u001b[0morder\u001b[0m\u001b[1;33m)\u001b[0m\u001b[1;33m\u001b[0m\u001b[1;33m\u001b[0m\u001b[0m\n\u001b[0m\u001b[0;32m      5\u001b[0m     \u001b[0mf\u001b[0m \u001b[1;33m=\u001b[0m \u001b[0mscipy\u001b[0m\u001b[1;33m.\u001b[0m\u001b[0minterpolate\u001b[0m\u001b[1;33m.\u001b[0m\u001b[0minterp1d\u001b[0m\u001b[1;33m(\u001b[0m\u001b[0mwl_syn_temp\u001b[0m\u001b[1;33m,\u001b[0m \u001b[0mfl_syn_temp\u001b[0m\u001b[1;33m,\u001b[0m \u001b[0mkind\u001b[0m\u001b[1;33m=\u001b[0m\u001b[1;34m'cubic'\u001b[0m\u001b[1;33m)\u001b[0m\u001b[1;33m\u001b[0m\u001b[1;33m\u001b[0m\u001b[0m\n\u001b[0;32m      6\u001b[0m \u001b[1;33m\u001b[0m\u001b[0m\n",
      "\u001b[1;32m~\\AppData\\Local\\Temp\\ipykernel_34436\\1062601091.py\u001b[0m in \u001b[0;36msolar_spectrum_alterations\u001b[1;34m(order)\u001b[0m\n\u001b[0;32m      1\u001b[0m \u001b[1;31m#still need to go over:\u001b[0m\u001b[1;33m\u001b[0m\u001b[1;33m\u001b[0m\u001b[0m\n\u001b[0;32m      2\u001b[0m \u001b[1;32mdef\u001b[0m \u001b[0msolar_spectrum_alterations\u001b[0m\u001b[1;33m(\u001b[0m\u001b[0morder\u001b[0m \u001b[1;33m=\u001b[0m \u001b[1;36m0\u001b[0m\u001b[1;33m)\u001b[0m\u001b[1;33m:\u001b[0m\u001b[1;33m\u001b[0m\u001b[1;33m\u001b[0m\u001b[0m\n\u001b[1;32m----> 3\u001b[1;33m     \u001b[0mwl2\u001b[0m\u001b[1;33m,\u001b[0m \u001b[0mflux2\u001b[0m \u001b[1;33m=\u001b[0m \u001b[0mwavelength_log_scale\u001b[0m\u001b[1;33m(\u001b[0m\u001b[0morder\u001b[0m\u001b[1;33m)\u001b[0m\u001b[1;33m\u001b[0m\u001b[1;33m\u001b[0m\u001b[0m\n\u001b[0m\u001b[0;32m      4\u001b[0m \u001b[1;33m\u001b[0m\u001b[0m\n\u001b[0;32m      5\u001b[0m     \u001b[0mwl_temp\u001b[0m \u001b[1;33m=\u001b[0m \u001b[0msolar_spectrum\u001b[0m\u001b[1;33m[\u001b[0m\u001b[1;36m0\u001b[0m\u001b[1;33m]\u001b[0m\u001b[1;33m.\u001b[0m\u001b[0mdata\u001b[0m\u001b[1;33m\u001b[0m\u001b[1;33m\u001b[0m\u001b[0m\n",
      "\u001b[1;32m~\\AppData\\Local\\Temp\\ipykernel_34436\\475126413.py\u001b[0m in \u001b[0;36mwavelength_log_scale\u001b[1;34m(order)\u001b[0m\n\u001b[0;32m      5\u001b[0m     \u001b[1;31m#flux_fit = echelle_blaze_fit(order)\u001b[0m\u001b[1;33m\u001b[0m\u001b[1;33m\u001b[0m\u001b[0m\n\u001b[0;32m      6\u001b[0m     \u001b[1;31m#first_normalized_flux = normalized_flux(order)\u001b[0m\u001b[1;33m\u001b[0m\u001b[1;33m\u001b[0m\u001b[0m\n\u001b[1;32m----> 7\u001b[1;33m     \u001b[0mfinal_normalized_flux\u001b[0m \u001b[1;33m=\u001b[0m \u001b[0msecond_normalized_flux\u001b[0m\u001b[1;33m(\u001b[0m\u001b[0morder\u001b[0m\u001b[1;33m)\u001b[0m\u001b[1;33m\u001b[0m\u001b[1;33m\u001b[0m\u001b[0m\n\u001b[0m\u001b[0;32m      8\u001b[0m \u001b[1;33m\u001b[0m\u001b[0m\n\u001b[0;32m      9\u001b[0m     \u001b[0mf\u001b[0m \u001b[1;33m=\u001b[0m \u001b[0mscipy\u001b[0m\u001b[1;33m.\u001b[0m\u001b[0minterpolate\u001b[0m\u001b[1;33m.\u001b[0m\u001b[0minterp1d\u001b[0m\u001b[1;33m(\u001b[0m\u001b[0mwl\u001b[0m\u001b[1;33m,\u001b[0m \u001b[0mfinal_normalized_flux\u001b[0m\u001b[1;33m,\u001b[0m \u001b[0mkind\u001b[0m\u001b[1;33m=\u001b[0m\u001b[1;34m'cubic'\u001b[0m\u001b[1;33m)\u001b[0m \u001b[1;31m#need to figure out how to modify this to work properly\u001b[0m\u001b[1;33m\u001b[0m\u001b[1;33m\u001b[0m\u001b[0m\n",
      "\u001b[1;32m~\\AppData\\Local\\Temp\\ipykernel_34436\\3055707585.py\u001b[0m in \u001b[0;36msecond_normalized_flux\u001b[1;34m(order)\u001b[0m\n\u001b[0;32m      1\u001b[0m \u001b[1;32mdef\u001b[0m \u001b[0msecond_normalized_flux\u001b[0m\u001b[1;33m(\u001b[0m\u001b[0morder\u001b[0m \u001b[1;33m=\u001b[0m \u001b[1;36m0\u001b[0m\u001b[1;33m)\u001b[0m\u001b[1;33m:\u001b[0m\u001b[1;33m\u001b[0m\u001b[1;33m\u001b[0m\u001b[0m\n\u001b[1;32m----> 2\u001b[1;33m     \u001b[0mwl\u001b[0m\u001b[1;33m,\u001b[0m \u001b[0mflux\u001b[0m\u001b[1;33m,\u001b[0m \u001b[0mwl_values\u001b[0m\u001b[1;33m,\u001b[0m \u001b[0mfl_values\u001b[0m \u001b[1;33m=\u001b[0m \u001b[0mfind_echelle_blaze\u001b[0m\u001b[1;33m(\u001b[0m\u001b[0morder\u001b[0m\u001b[1;33m)\u001b[0m\u001b[1;33m\u001b[0m\u001b[1;33m\u001b[0m\u001b[0m\n\u001b[0m\u001b[0;32m      3\u001b[0m     \u001b[0mflux_fit\u001b[0m \u001b[1;33m=\u001b[0m \u001b[0mechelle_blaze_fit\u001b[0m\u001b[1;33m(\u001b[0m\u001b[0morder\u001b[0m\u001b[1;33m)\u001b[0m\u001b[1;33m\u001b[0m\u001b[1;33m\u001b[0m\u001b[0m\n\u001b[0;32m      4\u001b[0m     \u001b[0mfirst_normalized_flux\u001b[0m \u001b[1;33m=\u001b[0m \u001b[0mnormalized_flux\u001b[0m\u001b[1;33m(\u001b[0m\u001b[0morder\u001b[0m\u001b[1;33m)\u001b[0m\u001b[1;33m\u001b[0m\u001b[1;33m\u001b[0m\u001b[0m\n\u001b[0;32m      5\u001b[0m \u001b[1;33m\u001b[0m\u001b[0m\n",
      "\u001b[1;32m~\\AppData\\Local\\Temp\\ipykernel_34436\\4130885209.py\u001b[0m in \u001b[0;36mfind_echelle_blaze\u001b[1;34m(order)\u001b[0m\n\u001b[0;32m      1\u001b[0m \u001b[1;32mdef\u001b[0m \u001b[0mfind_echelle_blaze\u001b[0m\u001b[1;33m(\u001b[0m\u001b[0morder\u001b[0m \u001b[1;33m=\u001b[0m \u001b[1;36m0\u001b[0m\u001b[1;33m)\u001b[0m\u001b[1;33m:\u001b[0m\u001b[1;33m\u001b[0m\u001b[1;33m\u001b[0m\u001b[0m\n\u001b[1;32m----> 2\u001b[1;33m     \u001b[0mwl\u001b[0m\u001b[1;33m,\u001b[0m \u001b[0mflux\u001b[0m \u001b[1;33m=\u001b[0m \u001b[0mremove_nan\u001b[0m\u001b[1;33m(\u001b[0m\u001b[0mwl_raw\u001b[0m\u001b[1;33m[\u001b[0m\u001b[0morder\u001b[0m\u001b[1;33m]\u001b[0m\u001b[1;33m,\u001b[0m\u001b[0mflux_raw\u001b[0m\u001b[1;33m[\u001b[0m\u001b[0morder\u001b[0m\u001b[1;33m]\u001b[0m\u001b[1;33m)\u001b[0m\u001b[1;33m\u001b[0m\u001b[1;33m\u001b[0m\u001b[0m\n\u001b[0m\u001b[0;32m      3\u001b[0m     \u001b[0mbin\u001b[0m \u001b[1;33m=\u001b[0m \u001b[1;36m150\u001b[0m \u001b[1;31m#modifying bins to even out the blaze function better\u001b[0m\u001b[1;33m\u001b[0m\u001b[1;33m\u001b[0m\u001b[0m\n\u001b[0;32m      4\u001b[0m \u001b[1;33m\u001b[0m\u001b[0m\n\u001b[0;32m      5\u001b[0m     \u001b[1;31m# this list will contain the indices corresponding to each of the 95th percentile flux values in each bin\u001b[0m\u001b[1;33m\u001b[0m\u001b[1;33m\u001b[0m\u001b[0m\n",
      "\u001b[1;32m~\\AppData\\Local\\Temp\\ipykernel_34436\\2828390807.py\u001b[0m in \u001b[0;36mremove_nan\u001b[1;34m(wl, flux)\u001b[0m\n\u001b[0;32m      1\u001b[0m \u001b[1;32mdef\u001b[0m \u001b[0mremove_nan\u001b[0m\u001b[1;33m(\u001b[0m\u001b[0mwl\u001b[0m\u001b[1;33m,\u001b[0m \u001b[0mflux\u001b[0m\u001b[1;33m)\u001b[0m\u001b[1;33m:\u001b[0m \u001b[1;31m#this uses both of the below functions\u001b[0m\u001b[1;33m\u001b[0m\u001b[1;33m\u001b[0m\u001b[0m\n\u001b[0;32m      2\u001b[0m     \u001b[1;32mif\u001b[0m \u001b[0mcheck_nan\u001b[0m\u001b[1;33m(\u001b[0m\u001b[0mflux\u001b[0m\u001b[1;33m)\u001b[0m\u001b[1;33m:\u001b[0m\u001b[1;33m\u001b[0m\u001b[1;33m\u001b[0m\u001b[0m\n\u001b[1;32m----> 3\u001b[1;33m         \u001b[0mwl\u001b[0m \u001b[1;33m,\u001b[0m \u001b[0mflux\u001b[0m \u001b[1;33m=\u001b[0m \u001b[0mfind_and_replace_nan\u001b[0m\u001b[1;33m(\u001b[0m\u001b[0mwl\u001b[0m\u001b[1;33m,\u001b[0m \u001b[0mflux\u001b[0m\u001b[1;33m)\u001b[0m\u001b[1;33m\u001b[0m\u001b[1;33m\u001b[0m\u001b[0m\n\u001b[0m\u001b[0;32m      4\u001b[0m         \u001b[1;31m# print('this array had nan values that have been replaced')\u001b[0m\u001b[1;33m\u001b[0m\u001b[1;33m\u001b[0m\u001b[0m\n\u001b[0;32m      5\u001b[0m     \u001b[1;31m# else:\u001b[0m\u001b[1;33m\u001b[0m\u001b[1;33m\u001b[0m\u001b[0m\n",
      "\u001b[1;32m~\\AppData\\Local\\Temp\\ipykernel_34436\\3602150575.py\u001b[0m in \u001b[0;36mfind_and_replace_nan\u001b[1;34m(wl, flux)\u001b[0m\n\u001b[0;32m     14\u001b[0m             \u001b[0mnew_flux\u001b[0m\u001b[1;33m.\u001b[0m\u001b[0mappend\u001b[0m\u001b[1;33m(\u001b[0m\u001b[0mnew_flux\u001b[0m\u001b[1;33m[\u001b[0m\u001b[0mi\u001b[0m\u001b[1;33m-\u001b[0m\u001b[1;36m1\u001b[0m\u001b[1;33m]\u001b[0m\u001b[1;33m)\u001b[0m\u001b[1;33m\u001b[0m\u001b[1;33m\u001b[0m\u001b[0m\n\u001b[0;32m     15\u001b[0m         \u001b[1;32melse\u001b[0m\u001b[1;33m:\u001b[0m\u001b[1;33m\u001b[0m\u001b[1;33m\u001b[0m\u001b[0m\n\u001b[1;32m---> 16\u001b[1;33m             \u001b[0mnew_flux\u001b[0m\u001b[1;33m.\u001b[0m\u001b[0mappend\u001b[0m\u001b[1;33m(\u001b[0m\u001b[0mflux\u001b[0m\u001b[1;33m[\u001b[0m\u001b[0mi\u001b[0m\u001b[1;33m]\u001b[0m\u001b[1;33m)\u001b[0m\u001b[1;33m\u001b[0m\u001b[1;33m\u001b[0m\u001b[0m\n\u001b[0m\u001b[0;32m     17\u001b[0m     \u001b[1;32mreturn\u001b[0m \u001b[0mnew_wl\u001b[0m\u001b[1;33m,\u001b[0m \u001b[0mnew_flux\u001b[0m\u001b[1;33m\u001b[0m\u001b[1;33m\u001b[0m\u001b[0m\n\u001b[0;32m     18\u001b[0m \u001b[1;33m\u001b[0m\u001b[0m\n",
      "\u001b[1;31mKeyboardInterrupt\u001b[0m: "
     ]
    }
   ],
   "source": [
    "shifted_wls = []\n",
    "shifted_fls = []\n",
    "\n",
    "for i in np.arange(len(wl_raw)):\n",
    "    shifted_wl, shifted_fl = table_making(i)\n",
    "    shifted_wls.append(shifted_wl)\n",
    "    shifted_fls.append(shifted_fl)\n",
    "    "
   ]
  },
  {
   "cell_type": "code",
   "execution_count": null,
   "id": "94f5eb84-df78-4e27-9f58-114a8aeeb6ec",
   "metadata": {},
   "outputs": [],
   "source": [
    "shifted_wls, shifted_fls"
   ]
  },
  {
   "cell_type": "code",
   "execution_count": 390,
   "id": "766181df-08c3-4636-aa3e-f1d0321a07ef",
   "metadata": {},
   "outputs": [],
   "source": [
    "#adding them to a libary to be exported\n",
    "import pandas as pd"
   ]
  },
  {
   "cell_type": "code",
   "execution_count": 67,
   "id": "81f292a0-91fb-48e3-905a-930c5c07293a",
   "metadata": {},
   "outputs": [
    {
     "data": {
      "text/html": [
       "<div>\n",
       "<style scoped>\n",
       "    .dataframe tbody tr th:only-of-type {\n",
       "        vertical-align: middle;\n",
       "    }\n",
       "\n",
       "    .dataframe tbody tr th {\n",
       "        vertical-align: top;\n",
       "    }\n",
       "\n",
       "    .dataframe thead th {\n",
       "        text-align: right;\n",
       "    }\n",
       "</style>\n",
       "<table border=\"1\" class=\"dataframe\">\n",
       "  <thead>\n",
       "    <tr style=\"text-align: right;\">\n",
       "      <th></th>\n",
       "      <th>shifted wavelengths</th>\n",
       "      <th>shifted fluxs</th>\n",
       "    </tr>\n",
       "  </thead>\n",
       "  <tbody>\n",
       "    <tr>\n",
       "      <th>0</th>\n",
       "      <td>[4431.46137068054, 4431.476152444564, 4431.490...</td>\n",
       "      <td>[0.8949158314042824, 0.7815706774264399, 0.828...</td>\n",
       "    </tr>\n",
       "    <tr>\n",
       "      <th>1</th>\n",
       "      <td>[4464.045010302595, 4464.059900753942, 4464.07...</td>\n",
       "      <td>[0.9304602218385664, 0.9055602214297426, 0.804...</td>\n",
       "    </tr>\n",
       "    <tr>\n",
       "      <th>2</th>\n",
       "      <td>[4497.119781202617, 4497.134781979524, 4497.14...</td>\n",
       "      <td>[0.9681062116715451, 0.9410797799020679, 1.068...</td>\n",
       "    </tr>\n",
       "    <tr>\n",
       "      <th>3</th>\n",
       "      <td>[4530.68121275581, 4530.696325481602, 4530.711...</td>\n",
       "      <td>[0.442616295897608, 0.43149351085405907, 0.322...</td>\n",
       "    </tr>\n",
       "    <tr>\n",
       "      <th>4</th>\n",
       "      <td>[4564.750958699148, 4564.76618506938, 4564.781...</td>\n",
       "      <td>[0.7329985280363767, 0.816532642581396, 0.6904...</td>\n",
       "    </tr>\n",
       "    <tr>\n",
       "      <th>5</th>\n",
       "      <td>[4599.325506045445, 4599.340847743953, 4599.35...</td>\n",
       "      <td>[0.9265074174490122, 0.8963750975909194, 0.960...</td>\n",
       "    </tr>\n",
       "    <tr>\n",
       "      <th>6</th>\n",
       "      <td>[4634.44636702345, 4634.46182587254, 4634.4772...</td>\n",
       "      <td>[1.0371282743311325, 0.8839064965944773, 0.888...</td>\n",
       "    </tr>\n",
       "    <tr>\n",
       "      <th>7</th>\n",
       "      <td>[4670.097800227836, 4670.113377997307, 4670.12...</td>\n",
       "      <td>[0.7357425958254016, 0.6970428635957306, 0.807...</td>\n",
       "    </tr>\n",
       "    <tr>\n",
       "      <th>8</th>\n",
       "      <td>[4706.306295791159, 4706.3219943391705, 4706.3...</td>\n",
       "      <td>[0.8384361509170655, 0.8424953285218064, 0.974...</td>\n",
       "    </tr>\n",
       "    <tr>\n",
       "      <th>9</th>\n",
       "      <td>[4743.076831612646, 4743.092652813963, 4743.10...</td>\n",
       "      <td>[0.8751180302535225, 0.9818042125046595, 0.995...</td>\n",
       "    </tr>\n",
       "    <tr>\n",
       "      <th>10</th>\n",
       "      <td>[4780.424488153699, 4780.440433933388, 4780.45...</td>\n",
       "      <td>[0.8555844024026401, 0.8500993521244132, 0.892...</td>\n",
       "    </tr>\n",
       "    <tr>\n",
       "      <th>11</th>\n",
       "      <td>[4818.369555654405, 4818.385628005215, 4818.40...</td>\n",
       "      <td>[0.8680769692009436, 0.9218620928726785, 0.931...</td>\n",
       "    </tr>\n",
       "    <tr>\n",
       "      <th>12</th>\n",
       "      <td>[4856.922065789691, 4856.938266737833, 4856.95...</td>\n",
       "      <td>[0.9612828215791624, 0.9831916426521516, 0.878...</td>\n",
       "    </tr>\n",
       "    <tr>\n",
       "      <th>13</th>\n",
       "      <td>[4896.0896601727645, 4896.105991769939, 4896.1...</td>\n",
       "      <td>[0.8365109877898186, 0.9087659839622403, 0.911...</td>\n",
       "    </tr>\n",
       "    <tr>\n",
       "      <th>14</th>\n",
       "      <td>[4935.89832494655, 4935.9147893311365, 4935.93...</td>\n",
       "      <td>[0.8357249697897423, 0.9055746327765882, 0.874...</td>\n",
       "    </tr>\n",
       "  </tbody>\n",
       "</table>\n",
       "</div>"
      ],
      "text/plain": [
       "                                  shifted wavelengths  \\\n",
       "0   [4431.46137068054, 4431.476152444564, 4431.490...   \n",
       "1   [4464.045010302595, 4464.059900753942, 4464.07...   \n",
       "2   [4497.119781202617, 4497.134781979524, 4497.14...   \n",
       "3   [4530.68121275581, 4530.696325481602, 4530.711...   \n",
       "4   [4564.750958699148, 4564.76618506938, 4564.781...   \n",
       "5   [4599.325506045445, 4599.340847743953, 4599.35...   \n",
       "6   [4634.44636702345, 4634.46182587254, 4634.4772...   \n",
       "7   [4670.097800227836, 4670.113377997307, 4670.12...   \n",
       "8   [4706.306295791159, 4706.3219943391705, 4706.3...   \n",
       "9   [4743.076831612646, 4743.092652813963, 4743.10...   \n",
       "10  [4780.424488153699, 4780.440433933388, 4780.45...   \n",
       "11  [4818.369555654405, 4818.385628005215, 4818.40...   \n",
       "12  [4856.922065789691, 4856.938266737833, 4856.95...   \n",
       "13  [4896.0896601727645, 4896.105991769939, 4896.1...   \n",
       "14  [4935.89832494655, 4935.9147893311365, 4935.93...   \n",
       "\n",
       "                                        shifted fluxs  \n",
       "0   [0.8949158314042824, 0.7815706774264399, 0.828...  \n",
       "1   [0.9304602218385664, 0.9055602214297426, 0.804...  \n",
       "2   [0.9681062116715451, 0.9410797799020679, 1.068...  \n",
       "3   [0.442616295897608, 0.43149351085405907, 0.322...  \n",
       "4   [0.7329985280363767, 0.816532642581396, 0.6904...  \n",
       "5   [0.9265074174490122, 0.8963750975909194, 0.960...  \n",
       "6   [1.0371282743311325, 0.8839064965944773, 0.888...  \n",
       "7   [0.7357425958254016, 0.6970428635957306, 0.807...  \n",
       "8   [0.8384361509170655, 0.8424953285218064, 0.974...  \n",
       "9   [0.8751180302535225, 0.9818042125046595, 0.995...  \n",
       "10  [0.8555844024026401, 0.8500993521244132, 0.892...  \n",
       "11  [0.8680769692009436, 0.9218620928726785, 0.931...  \n",
       "12  [0.9612828215791624, 0.9831916426521516, 0.878...  \n",
       "13  [0.8365109877898186, 0.9087659839622403, 0.911...  \n",
       "14  [0.8357249697897423, 0.9055746327765882, 0.874...  "
      ]
     },
     "execution_count": 67,
     "metadata": {},
     "output_type": "execute_result"
    }
   ],
   "source": [
    "data_2darray = {'shifted wavelengths':shifted_wls, 'shifted fluxs': shifted_fls}\n",
    "data_set = pd.DataFrame(data_2darray)\n",
    "\n",
    "data_set"
   ]
  },
  {
   "cell_type": "code",
   "execution_count": 68,
   "id": "3b9d8355-9624-4454-88f6-187031b6fe18",
   "metadata": {},
   "outputs": [],
   "source": [
    "#hopefully it exports\n",
    "data_set.to_csv(\"C:\\\\Users\\\\alica\\\\workspace\\\\Intro-2-Spectra\\\\analysis\\\\NEID_analysis\\\\alpha_tau_ceti_shifted_values.csv\", sep = ',')\n"
   ]
  },
  {
   "cell_type": "code",
   "execution_count": 69,
   "id": "986a5b2f-a160-4514-b587-30d73531de7c",
   "metadata": {},
   "outputs": [],
   "source": [
    "wls = data_set['shifted wavelengths']\n",
    "fls = data_set['shifted fluxs']"
   ]
  },
  {
   "cell_type": "code",
   "execution_count": 394,
   "id": "98494c85-7bd8-41a0-ba24-6f624d9c009a",
   "metadata": {},
   "outputs": [
    {
     "data": {
      "text/plain": [
       "[<matplotlib.lines.Line2D at 0x24059dd3a30>]"
      ]
     },
     "execution_count": 394,
     "metadata": {},
     "output_type": "execute_result"
    },
    {
     "data": {
      "image/png": "[encoded data removed]",
      "text/plain": [
       "<Figure size 2000x400 with 1 Axes>"
      ]
     },
     "metadata": {},
     "output_type": "display_data"
    }
   ],
   "source": [
    "plt.figure(figsize = (20,4))\n",
    "plt.plot(wls[0], fls[0]) #nice"
   ]
  },
  {
   "cell_type": "markdown",
   "id": "3e8dcb59-d0bb-4961-be37-622daf42b0dc",
   "metadata": {},
   "source": [
    "idea: just keep using this notebook and then import the function from the other notebook"
   ]
  },
  {
   "cell_type": "code",
   "execution_count": 59,
   "id": "b3d4d389-d0db-4986-8b7d-6ac8420897d9",
   "metadata": {},
   "outputs": [],
   "source": [
    "#try using astropy.fits and using numpy arrays \n",
    "#maybe a pickle file (?) \n",
    "#if it takes more than a half hour just email Howie and he'll see what he can do\n"
   ]
  },
  {
   "cell_type": "code",
   "execution_count": null,
   "id": "a7bc52e9-b666-4541-8adc-2a19079a6124",
   "metadata": {},
   "outputs": [],
   "source": [
    "#pickling this bad boi (didnt work) \n",
    "\n",
    "# data_set.to_pickle(df, \"./dummy.pkl\")"
   ]
  },
  {
   "cell_type": "code",
   "execution_count": 78,
   "id": "d0a6f673-2efa-4032-9cce-abb08f6cc706",
   "metadata": {},
   "outputs": [],
   "source": [
    "#okay this is taking a long-ass time to run, so while that does its thing imma write up my report\n",
    "\n",
    "#new method: dictionary to pickle\n",
    "\n",
    "temp = {'wavelength':wls,'flux':fls}"
   ]
  },
  {
   "cell_type": "code",
   "execution_count": 81,
   "id": "64915d6c-f993-44d3-b165-702310cfebd4",
   "metadata": {},
   "outputs": [],
   "source": [
    "import pickle"
   ]
  },
  {
   "cell_type": "code",
   "execution_count": 85,
   "id": "0796d451-71ea-49ec-b3d6-4b294994c723",
   "metadata": {},
   "outputs": [],
   "source": [
    "pickle.dump(temp, open('shifted_values.pkl', 'wb'))"
   ]
  },
  {
   "cell_type": "code",
   "execution_count": 84,
   "id": "11603112-1881-45ed-bfc2-62cbaa87629d",
   "metadata": {},
   "outputs": [
    {
     "data": {
      "text/plain": [
       "{'wavelength': 0     [4431.46137068054, 4431.476152444564, 4431.490...\n",
       " 1     [4464.045010302595, 4464.059900753942, 4464.07...\n",
       " 2     [4497.119781202617, 4497.134781979524, 4497.14...\n",
       " 3     [4530.68121275581, 4530.696325481602, 4530.711...\n",
       " 4     [4564.750958699148, 4564.76618506938, 4564.781...\n",
       " 5     [4599.325506045445, 4599.340847743953, 4599.35...\n",
       " 6     [4634.44636702345, 4634.46182587254, 4634.4772...\n",
       " 7     [4670.097800227836, 4670.113377997307, 4670.12...\n",
       " 8     [4706.306295791159, 4706.3219943391705, 4706.3...\n",
       " 9     [4743.076831612646, 4743.092652813963, 4743.10...\n",
       " 10    [4780.424488153699, 4780.440433933388, 4780.45...\n",
       " 11    [4818.369555654405, 4818.385628005215, 4818.40...\n",
       " 12    [4856.922065789691, 4856.938266737833, 4856.95...\n",
       " 13    [4896.0896601727645, 4896.105991769939, 4896.1...\n",
       " 14    [4935.89832494655, 4935.9147893311365, 4935.93...\n",
       " Name: shifted wavelengths, dtype: object,\n",
       " 'flux': 0     [0.8949158314042824, 0.7815706774264399, 0.828...\n",
       " 1     [0.9304602218385664, 0.9055602214297426, 0.804...\n",
       " 2     [0.9681062116715451, 0.9410797799020679, 1.068...\n",
       " 3     [0.442616295897608, 0.43149351085405907, 0.322...\n",
       " 4     [0.7329985280363767, 0.816532642581396, 0.6904...\n",
       " 5     [0.9265074174490122, 0.8963750975909194, 0.960...\n",
       " 6     [1.0371282743311325, 0.8839064965944773, 0.888...\n",
       " 7     [0.7357425958254016, 0.6970428635957306, 0.807...\n",
       " 8     [0.8384361509170655, 0.8424953285218064, 0.974...\n",
       " 9     [0.8751180302535225, 0.9818042125046595, 0.995...\n",
       " 10    [0.8555844024026401, 0.8500993521244132, 0.892...\n",
       " 11    [0.8680769692009436, 0.9218620928726785, 0.931...\n",
       " 12    [0.9612828215791624, 0.9831916426521516, 0.878...\n",
       " 13    [0.8365109877898186, 0.9087659839622403, 0.911...\n",
       " 14    [0.8357249697897423, 0.9055746327765882, 0.874...\n",
       " Name: shifted fluxs, dtype: object}"
      ]
     },
     "execution_count": 84,
     "metadata": {},
     "output_type": "execute_result"
    }
   ],
   "source": [
    "y_dict = pickle.load(open('./shifted_values.pkl', 'rb'))\n",
    "y_dict"
   ]
  },
  {
   "cell_type": "code",
   "execution_count": null,
   "id": "41a697aa-03cd-40fb-a925-37074d195ac9",
   "metadata": {},
   "outputs": [],
   "source": []
  }
 ],
 "metadata": {
  "kernelspec": {
   "display_name": "Python 3 (ipykernel)",
   "language": "python",
   "name": "python3"
  },
  "language_info": {
   "codemirror_mode": {
    "name": "ipython",
    "version": 3
   },
   "file_extension": ".py",
   "mimetype": "text/x-python",
   "name": "python",
   "nbconvert_exporter": "python",
   "pygments_lexer": "ipython3",
   "version": "3.9.13"
  }
 },
 "nbformat": 4,
 "nbformat_minor": 5
}
