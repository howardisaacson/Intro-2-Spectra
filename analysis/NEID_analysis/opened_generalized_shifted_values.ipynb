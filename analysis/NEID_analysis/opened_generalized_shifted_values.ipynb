{
 "cells": [
  {
   "cell_type": "markdown",
   "id": "71ed5156-f8a9-4532-997b-f8bf2571732b",
   "metadata": {},
   "source": [
    "# The Real Generalized PSF Finder - jk this is broken\n",
    "\n",
    "This has been a long time coming (it feels like lol) but below is the -- so far -- normalized and shifted wavelengths and corresponding flux values for Tau Ceti star. Time to find the PSF value for this bad boy."
   ]
  },
  {
   "cell_type": "code",
   "execution_count": 12,
   "id": "763180aa-06b4-445c-bafb-d74b2e4b5153",
   "metadata": {},
   "outputs": [],
   "source": [
    "from scipy.optimize import curve_fit\n",
    "import random\n",
    "\n",
    "from astropy.io import fits\n",
    "import numpy as np\n",
    "import scipy.interpolate\n",
    "from scipy.interpolate import splev, splrep\n",
    "\n",
    "import matplotlib.pyplot as plt\n",
    "import seaborn as sns\n",
    "sns.set_theme()"
   ]
  },
  {
   "cell_type": "code",
   "execution_count": 10,
   "id": "dc433e0f-d0ce-46d2-ae8f-0a91083a75f4",
   "metadata": {},
   "outputs": [],
   "source": [
    "import pandas as pd"
   ]
  },
  {
   "cell_type": "code",
   "execution_count": 36,
   "id": "39b5c117-bb1b-4a8f-bc55-3f160fc0684b",
   "metadata": {},
   "outputs": [
    {
     "data": {
      "text/html": [
       "<div>\n",
       "<style scoped>\n",
       "    .dataframe tbody tr th:only-of-type {\n",
       "        vertical-align: middle;\n",
       "    }\n",
       "\n",
       "    .dataframe tbody tr th {\n",
       "        vertical-align: top;\n",
       "    }\n",
       "\n",
       "    .dataframe thead th {\n",
       "        text-align: right;\n",
       "    }\n",
       "</style>\n",
       "<table border=\"1\" class=\"dataframe\">\n",
       "  <thead>\n",
       "    <tr style=\"text-align: right;\">\n",
       "      <th></th>\n",
       "      <th>Unnamed: 0</th>\n",
       "      <th>shifted wavelengths</th>\n",
       "      <th>shifted fluxs</th>\n",
       "    </tr>\n",
       "  </thead>\n",
       "  <tbody>\n",
       "    <tr>\n",
       "      <th>0</th>\n",
       "      <td>0</td>\n",
       "      <td>[4020.56610385 4020.57951501 4020.59292622 ......</td>\n",
       "      <td>[0.62022389 0.60594888 0.58925493 ... 0.657996...</td>\n",
       "    </tr>\n",
       "    <tr>\n",
       "      <th>1</th>\n",
       "      <td>1</td>\n",
       "      <td>[4047.36164688 4047.37514743 4047.38864802 ......</td>\n",
       "      <td>[0.70525603 0.53839194 0.596527   ... 0.753954...</td>\n",
       "    </tr>\n",
       "    <tr>\n",
       "      <th>2</th>\n",
       "      <td>2</td>\n",
       "      <td>[4074.54993908 4074.56353032 4074.5771216  ......</td>\n",
       "      <td>[0.94266745 0.83923604 0.69511585 ... 0.962318...</td>\n",
       "    </tr>\n",
       "    <tr>\n",
       "      <th>3</th>\n",
       "      <td>3</td>\n",
       "      <td>[4102.07150221 4102.08518524 4102.09886833 ......</td>\n",
       "      <td>[0.25037037 0.50924703 0.26848231 ... 0.650823...</td>\n",
       "    </tr>\n",
       "    <tr>\n",
       "      <th>4</th>\n",
       "      <td>4</td>\n",
       "      <td>[4129.96984742 4129.98362352 4129.99739966 ......</td>\n",
       "      <td>[0.55137117 0.47534296 0.44582643 ... 0.844829...</td>\n",
       "    </tr>\n",
       "    <tr>\n",
       "      <th>...</th>\n",
       "      <td>...</td>\n",
       "      <td>...</td>\n",
       "      <td>...</td>\n",
       "    </tr>\n",
       "    <tr>\n",
       "      <th>20</th>\n",
       "      <td>20</td>\n",
       "      <td>[4634.44636702 4634.46182587 4634.47728477 ......</td>\n",
       "      <td>[1.03652272 0.88343208 0.88761193 ... 1.034561...</td>\n",
       "    </tr>\n",
       "    <tr>\n",
       "      <th>21</th>\n",
       "      <td>21</td>\n",
       "      <td>[4670.09780023 4670.113378   4670.12895582 ......</td>\n",
       "      <td>[0.70412481 0.66756874 0.77346294 ... 0.867277...</td>\n",
       "    </tr>\n",
       "    <tr>\n",
       "      <th>22</th>\n",
       "      <td>22</td>\n",
       "      <td>[4706.30629579 4706.32199434 4706.33769294 ......</td>\n",
       "      <td>[0.82203063 0.82631417 0.95597229 ... 0.934816...</td>\n",
       "    </tr>\n",
       "    <tr>\n",
       "      <th>23</th>\n",
       "      <td>23</td>\n",
       "      <td>[4743.07683161 4743.09265281 4743.10847407 ......</td>\n",
       "      <td>[0.78141367 0.87857109 0.8929465  ... 0.858571...</td>\n",
       "    </tr>\n",
       "    <tr>\n",
       "      <th>24</th>\n",
       "      <td>24</td>\n",
       "      <td>[4780.42448815 4780.44043393 4780.45637977 ......</td>\n",
       "      <td>[0.82531336 0.82074726 0.86289325 ... 0.961146...</td>\n",
       "    </tr>\n",
       "  </tbody>\n",
       "</table>\n",
       "<p>25 rows × 3 columns</p>\n",
       "</div>"
      ],
      "text/plain": [
       "    Unnamed: 0                                shifted wavelengths  \\\n",
       "0            0  [4020.56610385 4020.57951501 4020.59292622 ......   \n",
       "1            1  [4047.36164688 4047.37514743 4047.38864802 ......   \n",
       "2            2  [4074.54993908 4074.56353032 4074.5771216  ......   \n",
       "3            3  [4102.07150221 4102.08518524 4102.09886833 ......   \n",
       "4            4  [4129.96984742 4129.98362352 4129.99739966 ......   \n",
       "..         ...                                                ...   \n",
       "20          20  [4634.44636702 4634.46182587 4634.47728477 ......   \n",
       "21          21  [4670.09780023 4670.113378   4670.12895582 ......   \n",
       "22          22  [4706.30629579 4706.32199434 4706.33769294 ......   \n",
       "23          23  [4743.07683161 4743.09265281 4743.10847407 ......   \n",
       "24          24  [4780.42448815 4780.44043393 4780.45637977 ......   \n",
       "\n",
       "                                        shifted fluxs  \n",
       "0   [0.62022389 0.60594888 0.58925493 ... 0.657996...  \n",
       "1   [0.70525603 0.53839194 0.596527   ... 0.753954...  \n",
       "2   [0.94266745 0.83923604 0.69511585 ... 0.962318...  \n",
       "3   [0.25037037 0.50924703 0.26848231 ... 0.650823...  \n",
       "4   [0.55137117 0.47534296 0.44582643 ... 0.844829...  \n",
       "..                                                ...  \n",
       "20  [1.03652272 0.88343208 0.88761193 ... 1.034561...  \n",
       "21  [0.70412481 0.66756874 0.77346294 ... 0.867277...  \n",
       "22  [0.82203063 0.82631417 0.95597229 ... 0.934816...  \n",
       "23  [0.78141367 0.87857109 0.8929465  ... 0.858571...  \n",
       "24  [0.82531336 0.82074726 0.86289325 ... 0.961146...  \n",
       "\n",
       "[25 rows x 3 columns]"
      ]
     },
     "metadata": {},
     "output_type": "display_data"
    }
   ],
   "source": [
    "#reading in alpha shifted values:\n",
    "\n",
    "data = pd.read_csv(\"C:\\\\Users\\\\alica\\\\workspace\\\\Intro-2-Spectra\\\\analysis\\\\NEID_analysis\\\\alpha_tau_ceti_shifted_values.csv\")\n",
    "pd.set_option('display.max_rows', 10)\n",
    "display(data)"
   ]
  },
  {
   "cell_type": "markdown",
   "id": "9a6a3979-adee-4075-8a97-50497b27dc78",
   "metadata": {},
   "source": [
    "24 seems like a pretty large starting point, so lets start with just the first one and see how that goes"
   ]
  },
  {
   "cell_type": "code",
   "execution_count": 29,
   "id": "3e135dbc-1f4c-4660-afd0-3b0578df458a",
   "metadata": {},
   "outputs": [],
   "source": [
    "#reading in data: \n",
    "wls  = data['shifted wavelengths'] #array of all wls\n",
    "fls = data['shifted fluxs']"
   ]
  },
  {
   "cell_type": "code",
   "execution_count": 30,
   "id": "5453d641-1276-42bc-8654-d2ea04b0dce1",
   "metadata": {},
   "outputs": [],
   "source": [
    "#error! they arent gonna work like this ugh, they didnt store as arrays, but as just a bunch of values that arent separated by commas"
   ]
  },
  {
   "cell_type": "code",
   "execution_count": 31,
   "id": "ba196c64-3380-4a2a-9e40-742cefc2a22f",
   "metadata": {},
   "outputs": [
    {
     "ename": "ValueError",
     "evalue": "Unrecognized character [ in format string",
     "output_type": "error",
     "traceback": [
      "\u001b[1;31m---------------------------------------------------------------------------\u001b[0m",
      "\u001b[1;31mValueError\u001b[0m                                Traceback (most recent call last)",
      "\u001b[1;32m~\\AppData\\Local\\Temp\\ipykernel_24696\\3257657776.py\u001b[0m in \u001b[0;36m<module>\u001b[1;34m\u001b[0m\n\u001b[0;32m      3\u001b[0m \u001b[0mfl\u001b[0m \u001b[1;33m=\u001b[0m \u001b[0mfls\u001b[0m\u001b[1;33m[\u001b[0m\u001b[1;36m0\u001b[0m\u001b[1;33m]\u001b[0m\u001b[1;33m\u001b[0m\u001b[1;33m\u001b[0m\u001b[0m\n\u001b[0;32m      4\u001b[0m \u001b[0mplt\u001b[0m\u001b[1;33m.\u001b[0m\u001b[0mfigure\u001b[0m\u001b[1;33m(\u001b[0m\u001b[0mfigsize\u001b[0m \u001b[1;33m=\u001b[0m \u001b[1;33m(\u001b[0m\u001b[1;36m17\u001b[0m\u001b[1;33m,\u001b[0m\u001b[1;36m6\u001b[0m\u001b[1;33m)\u001b[0m\u001b[1;33m)\u001b[0m\u001b[1;33m\u001b[0m\u001b[1;33m\u001b[0m\u001b[0m\n\u001b[1;32m----> 5\u001b[1;33m \u001b[0mplt\u001b[0m\u001b[1;33m.\u001b[0m\u001b[0mplot\u001b[0m\u001b[1;33m(\u001b[0m\u001b[0mwl\u001b[0m\u001b[1;33m,\u001b[0m\u001b[0mfl\u001b[0m\u001b[1;33m)\u001b[0m\u001b[1;33m\u001b[0m\u001b[1;33m\u001b[0m\u001b[0m\n\u001b[0m\u001b[0;32m      6\u001b[0m \u001b[0mplt\u001b[0m\u001b[1;33m.\u001b[0m\u001b[0mxlabel\u001b[0m\u001b[1;33m(\u001b[0m\u001b[1;34m'wavelength (A)'\u001b[0m\u001b[1;33m)\u001b[0m\u001b[1;33m\u001b[0m\u001b[1;33m\u001b[0m\u001b[0m\n\u001b[0;32m      7\u001b[0m \u001b[0mplt\u001b[0m\u001b[1;33m.\u001b[0m\u001b[0mylabel\u001b[0m\u001b[1;33m(\u001b[0m\u001b[1;34m'Normalized flux'\u001b[0m\u001b[1;33m)\u001b[0m\u001b[1;33m\u001b[0m\u001b[1;33m\u001b[0m\u001b[0m\n",
      "\u001b[1;32m~\\anaconda3\\lib\\site-packages\\matplotlib\\pyplot.py\u001b[0m in \u001b[0;36mplot\u001b[1;34m(scalex, scaley, data, *args, **kwargs)\u001b[0m\n\u001b[0;32m   2767\u001b[0m \u001b[1;33m@\u001b[0m\u001b[0m_copy_docstring_and_deprecators\u001b[0m\u001b[1;33m(\u001b[0m\u001b[0mAxes\u001b[0m\u001b[1;33m.\u001b[0m\u001b[0mplot\u001b[0m\u001b[1;33m)\u001b[0m\u001b[1;33m\u001b[0m\u001b[1;33m\u001b[0m\u001b[0m\n\u001b[0;32m   2768\u001b[0m \u001b[1;32mdef\u001b[0m \u001b[0mplot\u001b[0m\u001b[1;33m(\u001b[0m\u001b[1;33m*\u001b[0m\u001b[0margs\u001b[0m\u001b[1;33m,\u001b[0m \u001b[0mscalex\u001b[0m\u001b[1;33m=\u001b[0m\u001b[1;32mTrue\u001b[0m\u001b[1;33m,\u001b[0m \u001b[0mscaley\u001b[0m\u001b[1;33m=\u001b[0m\u001b[1;32mTrue\u001b[0m\u001b[1;33m,\u001b[0m \u001b[0mdata\u001b[0m\u001b[1;33m=\u001b[0m\u001b[1;32mNone\u001b[0m\u001b[1;33m,\u001b[0m \u001b[1;33m**\u001b[0m\u001b[0mkwargs\u001b[0m\u001b[1;33m)\u001b[0m\u001b[1;33m:\u001b[0m\u001b[1;33m\u001b[0m\u001b[1;33m\u001b[0m\u001b[0m\n\u001b[1;32m-> 2769\u001b[1;33m     return gca().plot(\n\u001b[0m\u001b[0;32m   2770\u001b[0m         \u001b[1;33m*\u001b[0m\u001b[0margs\u001b[0m\u001b[1;33m,\u001b[0m \u001b[0mscalex\u001b[0m\u001b[1;33m=\u001b[0m\u001b[0mscalex\u001b[0m\u001b[1;33m,\u001b[0m \u001b[0mscaley\u001b[0m\u001b[1;33m=\u001b[0m\u001b[0mscaley\u001b[0m\u001b[1;33m,\u001b[0m\u001b[1;33m\u001b[0m\u001b[1;33m\u001b[0m\u001b[0m\n\u001b[0;32m   2771\u001b[0m         **({\"data\": data} if data is not None else {}), **kwargs)\n",
      "\u001b[1;32m~\\anaconda3\\lib\\site-packages\\matplotlib\\axes\\_axes.py\u001b[0m in \u001b[0;36mplot\u001b[1;34m(self, scalex, scaley, data, *args, **kwargs)\u001b[0m\n\u001b[0;32m   1630\u001b[0m         \"\"\"\n\u001b[0;32m   1631\u001b[0m         \u001b[0mkwargs\u001b[0m \u001b[1;33m=\u001b[0m \u001b[0mcbook\u001b[0m\u001b[1;33m.\u001b[0m\u001b[0mnormalize_kwargs\u001b[0m\u001b[1;33m(\u001b[0m\u001b[0mkwargs\u001b[0m\u001b[1;33m,\u001b[0m \u001b[0mmlines\u001b[0m\u001b[1;33m.\u001b[0m\u001b[0mLine2D\u001b[0m\u001b[1;33m)\u001b[0m\u001b[1;33m\u001b[0m\u001b[1;33m\u001b[0m\u001b[0m\n\u001b[1;32m-> 1632\u001b[1;33m         \u001b[0mlines\u001b[0m \u001b[1;33m=\u001b[0m \u001b[1;33m[\u001b[0m\u001b[1;33m*\u001b[0m\u001b[0mself\u001b[0m\u001b[1;33m.\u001b[0m\u001b[0m_get_lines\u001b[0m\u001b[1;33m(\u001b[0m\u001b[1;33m*\u001b[0m\u001b[0margs\u001b[0m\u001b[1;33m,\u001b[0m \u001b[0mdata\u001b[0m\u001b[1;33m=\u001b[0m\u001b[0mdata\u001b[0m\u001b[1;33m,\u001b[0m \u001b[1;33m**\u001b[0m\u001b[0mkwargs\u001b[0m\u001b[1;33m)\u001b[0m\u001b[1;33m]\u001b[0m\u001b[1;33m\u001b[0m\u001b[1;33m\u001b[0m\u001b[0m\n\u001b[0m\u001b[0;32m   1633\u001b[0m         \u001b[1;32mfor\u001b[0m \u001b[0mline\u001b[0m \u001b[1;32min\u001b[0m \u001b[0mlines\u001b[0m\u001b[1;33m:\u001b[0m\u001b[1;33m\u001b[0m\u001b[1;33m\u001b[0m\u001b[0m\n\u001b[0;32m   1634\u001b[0m             \u001b[0mself\u001b[0m\u001b[1;33m.\u001b[0m\u001b[0madd_line\u001b[0m\u001b[1;33m(\u001b[0m\u001b[0mline\u001b[0m\u001b[1;33m)\u001b[0m\u001b[1;33m\u001b[0m\u001b[1;33m\u001b[0m\u001b[0m\n",
      "\u001b[1;32m~\\anaconda3\\lib\\site-packages\\matplotlib\\axes\\_base.py\u001b[0m in \u001b[0;36m__call__\u001b[1;34m(self, data, *args, **kwargs)\u001b[0m\n\u001b[0;32m    310\u001b[0m                 \u001b[0mthis\u001b[0m \u001b[1;33m+=\u001b[0m \u001b[0margs\u001b[0m\u001b[1;33m[\u001b[0m\u001b[1;36m0\u001b[0m\u001b[1;33m]\u001b[0m\u001b[1;33m,\u001b[0m\u001b[1;33m\u001b[0m\u001b[1;33m\u001b[0m\u001b[0m\n\u001b[0;32m    311\u001b[0m                 \u001b[0margs\u001b[0m \u001b[1;33m=\u001b[0m \u001b[0margs\u001b[0m\u001b[1;33m[\u001b[0m\u001b[1;36m1\u001b[0m\u001b[1;33m:\u001b[0m\u001b[1;33m]\u001b[0m\u001b[1;33m\u001b[0m\u001b[1;33m\u001b[0m\u001b[0m\n\u001b[1;32m--> 312\u001b[1;33m             \u001b[1;32myield\u001b[0m \u001b[1;32mfrom\u001b[0m \u001b[0mself\u001b[0m\u001b[1;33m.\u001b[0m\u001b[0m_plot_args\u001b[0m\u001b[1;33m(\u001b[0m\u001b[0mthis\u001b[0m\u001b[1;33m,\u001b[0m \u001b[0mkwargs\u001b[0m\u001b[1;33m)\u001b[0m\u001b[1;33m\u001b[0m\u001b[1;33m\u001b[0m\u001b[0m\n\u001b[0m\u001b[0;32m    313\u001b[0m \u001b[1;33m\u001b[0m\u001b[0m\n\u001b[0;32m    314\u001b[0m     \u001b[1;32mdef\u001b[0m \u001b[0mget_next_color\u001b[0m\u001b[1;33m(\u001b[0m\u001b[0mself\u001b[0m\u001b[1;33m)\u001b[0m\u001b[1;33m:\u001b[0m\u001b[1;33m\u001b[0m\u001b[1;33m\u001b[0m\u001b[0m\n",
      "\u001b[1;32m~\\anaconda3\\lib\\site-packages\\matplotlib\\axes\\_base.py\u001b[0m in \u001b[0;36m_plot_args\u001b[1;34m(self, tup, kwargs, return_kwargs)\u001b[0m\n\u001b[0;32m    447\u001b[0m             \u001b[1;31m# xy is tup with fmt stripped (could still be (y,) only)\u001b[0m\u001b[1;33m\u001b[0m\u001b[1;33m\u001b[0m\u001b[0m\n\u001b[0;32m    448\u001b[0m             \u001b[1;33m*\u001b[0m\u001b[0mxy\u001b[0m\u001b[1;33m,\u001b[0m \u001b[0mfmt\u001b[0m \u001b[1;33m=\u001b[0m \u001b[0mtup\u001b[0m\u001b[1;33m\u001b[0m\u001b[1;33m\u001b[0m\u001b[0m\n\u001b[1;32m--> 449\u001b[1;33m             \u001b[0mlinestyle\u001b[0m\u001b[1;33m,\u001b[0m \u001b[0mmarker\u001b[0m\u001b[1;33m,\u001b[0m \u001b[0mcolor\u001b[0m \u001b[1;33m=\u001b[0m \u001b[0m_process_plot_format\u001b[0m\u001b[1;33m(\u001b[0m\u001b[0mfmt\u001b[0m\u001b[1;33m)\u001b[0m\u001b[1;33m\u001b[0m\u001b[1;33m\u001b[0m\u001b[0m\n\u001b[0m\u001b[0;32m    450\u001b[0m         \u001b[1;32melif\u001b[0m \u001b[0mlen\u001b[0m\u001b[1;33m(\u001b[0m\u001b[0mtup\u001b[0m\u001b[1;33m)\u001b[0m \u001b[1;33m==\u001b[0m \u001b[1;36m3\u001b[0m\u001b[1;33m:\u001b[0m\u001b[1;33m\u001b[0m\u001b[1;33m\u001b[0m\u001b[0m\n\u001b[0;32m    451\u001b[0m             \u001b[1;32mraise\u001b[0m \u001b[0mValueError\u001b[0m\u001b[1;33m(\u001b[0m\u001b[1;34m'third arg must be a format string'\u001b[0m\u001b[1;33m)\u001b[0m\u001b[1;33m\u001b[0m\u001b[1;33m\u001b[0m\u001b[0m\n",
      "\u001b[1;32m~\\anaconda3\\lib\\site-packages\\matplotlib\\axes\\_base.py\u001b[0m in \u001b[0;36m_process_plot_format\u001b[1;34m(fmt)\u001b[0m\n\u001b[0;32m    197\u001b[0m             \u001b[0mi\u001b[0m \u001b[1;33m+=\u001b[0m \u001b[1;36m2\u001b[0m\u001b[1;33m\u001b[0m\u001b[1;33m\u001b[0m\u001b[0m\n\u001b[0;32m    198\u001b[0m         \u001b[1;32melse\u001b[0m\u001b[1;33m:\u001b[0m\u001b[1;33m\u001b[0m\u001b[1;33m\u001b[0m\u001b[0m\n\u001b[1;32m--> 199\u001b[1;33m             raise ValueError(\n\u001b[0m\u001b[0;32m    200\u001b[0m                 'Unrecognized character %c in format string' % c)\n\u001b[0;32m    201\u001b[0m \u001b[1;33m\u001b[0m\u001b[0m\n",
      "\u001b[1;31mValueError\u001b[0m: Unrecognized character [ in format string"
     ]
    },
    {
     "data": {
      "image/png": "[encoded data removed]",
      "text/plain": [
       "<Figure size 1700x600 with 1 Axes>"
      ]
     },
     "metadata": {},
     "output_type": "display_data"
    }
   ],
   "source": [
    "#visualization:\n",
    "wl = wls[0]\n",
    "fl = fls[0]\n",
    "plt.figure(figsize = (17,6))\n",
    "plt.plot(wl,fl)\n",
    "plt.xlabel('wavelength (A)')\n",
    "plt.ylabel('Normalized flux')\n",
    "plt.title('Normalized Flux of Tau Ceti')\n",
    "#plt.xlim(5884,5902)\n",
    "plt.show()"
   ]
  },
  {
   "cell_type": "code",
   "execution_count": 32,
   "id": "d442c55d-3144-4d73-a340-0ac907d78ab0",
   "metadata": {},
   "outputs": [
    {
     "data": {
      "text/plain": [
       "'[4020.56610385 4020.57951501 4020.59292622 ... 4096.51097249 4096.52463698\\n 4096.53830151]'"
      ]
     },
     "execution_count": 32,
     "metadata": {},
     "output_type": "execute_result"
    }
   ],
   "source": [
    "wls[:][0]"
   ]
  },
  {
   "cell_type": "code",
   "execution_count": 23,
   "id": "43d257d8-5ea7-4611-a244-21074a7d1d85",
   "metadata": {},
   "outputs": [
    {
     "name": "stdout",
     "output_type": "stream",
     "text": [
      "[\n",
      "4\n",
      "0\n",
      "2\n",
      "0\n",
      ".\n",
      "5\n",
      "6\n",
      "6\n",
      "1\n",
      "0\n",
      "3\n",
      "8\n",
      "5\n",
      " \n",
      "4\n",
      "0\n",
      "2\n",
      "0\n",
      ".\n",
      "5\n",
      "7\n",
      "9\n",
      "5\n",
      "1\n",
      "5\n",
      "0\n",
      "1\n",
      " \n",
      "4\n",
      "0\n",
      "2\n",
      "0\n",
      ".\n",
      "5\n",
      "9\n",
      "2\n",
      "9\n",
      "2\n",
      "6\n",
      "2\n",
      "2\n",
      " \n",
      ".\n",
      ".\n",
      ".\n",
      " \n",
      "4\n",
      "0\n",
      "9\n",
      "6\n",
      ".\n",
      "5\n",
      "1\n",
      "0\n",
      "9\n",
      "7\n",
      "2\n",
      "4\n",
      "9\n",
      " \n",
      "4\n",
      "0\n",
      "9\n",
      "6\n",
      ".\n",
      "5\n",
      "2\n",
      "4\n",
      "6\n",
      "3\n",
      "6\n",
      "9\n",
      "8\n",
      "\n",
      "\n",
      " \n",
      "4\n",
      "0\n",
      "9\n",
      "6\n",
      ".\n",
      "5\n",
      "3\n",
      "8\n",
      "3\n",
      "0\n",
      "1\n",
      "5\n",
      "1\n",
      "]\n"
     ]
    }
   ],
   "source": [
    "for i in wls[0]:\n",
    "    print(i)"
   ]
  },
  {
   "cell_type": "code",
   "execution_count": null,
   "id": "89e0a43d-1324-480d-ba65-1579b57499d0",
   "metadata": {},
   "outputs": [],
   "source": []
  }
 ],
 "metadata": {
  "kernelspec": {
   "display_name": "Python 3 (ipykernel)",
   "language": "python",
   "name": "python3"
  },
  "language_info": {
   "codemirror_mode": {
    "name": "ipython",
    "version": 3
   },
   "file_extension": ".py",
   "mimetype": "text/x-python",
   "name": "python",
   "nbconvert_exporter": "python",
   "pygments_lexer": "ipython3",
   "version": "3.9.13"
  }
 },
 "nbformat": 4,
 "nbformat_minor": 5
}
