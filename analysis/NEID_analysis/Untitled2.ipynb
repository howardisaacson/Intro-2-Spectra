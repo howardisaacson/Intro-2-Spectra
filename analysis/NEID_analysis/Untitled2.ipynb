{
 "cells": [
  {
   "cell_type": "markdown",
   "id": "f4cc1fa1-271d-49bc-908f-8e49a5424165",
   "metadata": {},
   "source": [
    "# Data 8 Grade Calculator "
   ]
  },
  {
   "cell_type": "code",
   "execution_count": 4,
   "id": "21006a04-0564-47b8-ad69-7476619a7975",
   "metadata": {},
   "outputs": [],
   "source": [
    "#libraries \n",
    "\n",
    "import numpy as np\n",
    "from datascience import *\n"
   ]
  },
  {
   "cell_type": "code",
   "execution_count": 70,
   "id": "714a5133-1b2a-4d7c-add7-1ac9a80fbe48",
   "metadata": {},
   "outputs": [],
   "source": [
    "#creating data\n",
    "hw_earned = sum(make_array(92, 100, 84, 105, 105, 86.1, 99.5))\n",
    "hw_tot = sum(make_array(100, 100, 100, 100, 100, 100, 98.5))\n",
    "\n",
    "lab_earned = sum(make_array(100, 100, 100, 100, 100, 0, 100))\n",
    "lab_total = sum(make_array(100,100,100,100,100,100,100))\n",
    "\n",
    "project_earned = sum(make_array(94.67))\n",
    "project_total = sum(make_array(100))\n",
    "\n",
    "midterm_earned = 68\n",
    "midterm_total = 81\n",
    "\n",
    "final_earned = 1\n",
    "final_total = 1 \n",
    "\n",
    "weights = make_array(0.1,0.2,0.25,0.15,0.3)\n",
    "\n",
    "categories = make_array('Homework','Lab','Projects','Midterm','Final')\n",
    "tot_points_earned = make_array(hw_earned, lab_earned, project_earned, midterm_earned, final_earned)\n",
    "tot_points_possible = make_array(hw_tot, lab_total, project_total, midterm_total, final_total)"
   ]
  },
  {
   "cell_type": "code",
   "execution_count": 71,
   "id": "15695593-c47b-434d-aed5-71b3ba3519ba",
   "metadata": {},
   "outputs": [],
   "source": [
    "grade_values = Table().with_columns(\n",
    "    'Categories', categories, \n",
    "    'Points Earned', tot_points_earned,\n",
    "    'Total Points Possible', tot_points_possible,\n",
    "    'Weights', weights)"
   ]
  },
  {
   "cell_type": "code",
   "execution_count": 72,
   "id": "8392faf9-c8b6-4edc-a3f9-b437ee785064",
   "metadata": {},
   "outputs": [
    {
     "data": {
      "text/html": [
       "<table border=\"1\" class=\"dataframe\">\n",
       "    <thead>\n",
       "        <tr>\n",
       "            <th>Categories</th> <th>Points Earned</th> <th>Total Points Possible</th> <th>Weights</th>\n",
       "        </tr>\n",
       "    </thead>\n",
       "    <tbody>\n",
       "        <tr>\n",
       "            <td>Homework  </td> <td>671.6        </td> <td>698.5                </td> <td>0.1    </td>\n",
       "        </tr>\n",
       "        <tr>\n",
       "            <td>Lab       </td> <td>600          </td> <td>700                  </td> <td>0.2    </td>\n",
       "        </tr>\n",
       "        <tr>\n",
       "            <td>Projects  </td> <td>94.67        </td> <td>100                  </td> <td>0.25   </td>\n",
       "        </tr>\n",
       "        <tr>\n",
       "            <td>Midterm   </td> <td>68           </td> <td>81                   </td> <td>0.15   </td>\n",
       "        </tr>\n",
       "        <tr>\n",
       "            <td>Final     </td> <td>1            </td> <td>1                    </td> <td>0.3    </td>\n",
       "        </tr>\n",
       "    </tbody>\n",
       "</table>"
      ],
      "text/plain": [
       "Categories | Points Earned | Total Points Possible | Weights\n",
       "Homework   | 671.6         | 698.5                 | 0.1\n",
       "Lab        | 600           | 700                   | 0.2\n",
       "Projects   | 94.67         | 100                   | 0.25\n",
       "Midterm    | 68            | 81                    | 0.15\n",
       "Final      | 1             | 1                     | 0.3"
      ]
     },
     "execution_count": 72,
     "metadata": {},
     "output_type": "execute_result"
    }
   ],
   "source": [
    "grade_values"
   ]
  },
  {
   "cell_type": "code",
   "execution_count": 96,
   "id": "510ddc84-34f1-4adb-b5e2-b9e68ed5d344",
   "metadata": {},
   "outputs": [],
   "source": [
    "def grade(grade_values, bonus = False):\n",
    "    weights = grade_values.column('Weights')\n",
    "    weighted_sum = grade_values.column('Points Earned')\n",
    "    weighted_total_points = grade_values.column('Total Points Possible') * weights\n",
    "    if bonus: \n",
    "        weighted_sum += 5\n",
    "    weighted_sum = weighted_sum * weights\n",
    "    grade = sum(weighted_sum / weighted_total_points) / len(weights) * 100\n",
    "    return grade"
   ]
  },
  {
   "cell_type": "code",
   "execution_count": 97,
   "id": "034780d0-e79f-4660-8d1f-23ccbed15fdf",
   "metadata": {},
   "outputs": [
    {
     "name": "stdout",
     "output_type": "stream",
     "text": [
      " Alicia's Expected Final Grade is  92.0\n"
     ]
    }
   ],
   "source": [
    "txt = \" Alicia's Expected Final Grade is \"\n",
    "data8 = np.round(grade(grade_values))\n",
    "print(txt , data8)"
   ]
  },
  {
   "cell_type": "code",
   "execution_count": 98,
   "id": "6e23b458-ac74-403a-aad6-09805e561289",
   "metadata": {},
   "outputs": [],
   "source": [
    "#astro: \n",
    "\n",
    "weights_7b = make_array(0.4, 0.15, 0.45)\n",
    "categories_7b = make_array('Homework', 'Midterm', 'Final')\n",
    "\n",
    "hw_7b_earned = sum(make_array(88, 90, 99, 84, 96, 83, 95))\n",
    "hw_7b_tot = 7 * 100\n",
    "\n",
    "midterm_7b_earned = 69\n",
    "midterm_7b_tot = 100\n",
    "\n",
    "final_7b_earned = 75\n",
    "final_7b_tot = 100\n",
    "\n",
    "earned_7b = make_array(hw_7b_earned, midterm_7b_earned, final_7b_earned)\n",
    "possible_7b = make_array(hw_7b_tot, midterm_7b_tot, final_7b_tot)\n",
    "\n"
   ]
  },
  {
   "cell_type": "code",
   "execution_count": 99,
   "id": "28602949-41ff-4068-b7b6-00d7217eebb1",
   "metadata": {},
   "outputs": [],
   "source": [
    "values_7b = Table().with_columns(\n",
    "    'Categories', categories_7b, \n",
    "    'Points Earned', earned_7b,\n",
    "    'Total Points Possible', possible_7b,\n",
    "    'Weights', weights_7b)"
   ]
  },
  {
   "cell_type": "code",
   "execution_count": 100,
   "id": "0b2ea9f4-9b2a-44e8-8a62-856cd9def029",
   "metadata": {},
   "outputs": [
    {
     "data": {
      "text/html": [
       "<table border=\"1\" class=\"dataframe\">\n",
       "    <thead>\n",
       "        <tr>\n",
       "            <th>Categories</th> <th>Points Earned</th> <th>Total Points Possible</th> <th>Weights</th>\n",
       "        </tr>\n",
       "    </thead>\n",
       "    <tbody>\n",
       "        <tr>\n",
       "            <td>Homework  </td> <td>635          </td> <td>700                  </td> <td>0.4    </td>\n",
       "        </tr>\n",
       "        <tr>\n",
       "            <td>Midterm   </td> <td>69           </td> <td>100                  </td> <td>0.15   </td>\n",
       "        </tr>\n",
       "        <tr>\n",
       "            <td>Final     </td> <td>75           </td> <td>100                  </td> <td>0.45   </td>\n",
       "        </tr>\n",
       "    </tbody>\n",
       "</table>"
      ],
      "text/plain": [
       "Categories | Points Earned | Total Points Possible | Weights\n",
       "Homework   | 635           | 700                   | 0.4\n",
       "Midterm    | 69            | 100                   | 0.15\n",
       "Final      | 75            | 100                   | 0.45"
      ]
     },
     "execution_count": 100,
     "metadata": {},
     "output_type": "execute_result"
    }
   ],
   "source": [
    "values_7b"
   ]
  },
  {
   "cell_type": "code",
   "execution_count": 101,
   "id": "9e705e6f-51f0-4045-a891-d1dd6bc4def9",
   "metadata": {},
   "outputs": [],
   "source": [
    "grade_7b = grade(values_7b, True)"
   ]
  },
  {
   "cell_type": "code",
   "execution_count": 102,
   "id": "36339db3-eb96-46cf-be5a-fda5ccc31631",
   "metadata": {},
   "outputs": [
    {
     "name": "stdout",
     "output_type": "stream",
     "text": [
      " Alicia's Expected Final Grade is  81.8095238095\n"
     ]
    }
   ],
   "source": [
    "print(txt, grade_7b)\n"
   ]
  },
  {
   "cell_type": "code",
   "execution_count": null,
   "id": "7b7c9f7e-3ee0-49e3-913f-386fca4bdff3",
   "metadata": {},
   "outputs": [],
   "source": []
  }
 ],
 "metadata": {
  "kernelspec": {
   "display_name": "Python 3 (ipykernel)",
   "language": "python",
   "name": "python3"
  },
  "language_info": {
   "codemirror_mode": {
    "name": "ipython",
    "version": 3
   },
   "file_extension": ".py",
   "mimetype": "text/x-python",
   "name": "python",
   "nbconvert_exporter": "python",
   "pygments_lexer": "ipython3",
   "version": "3.9.13"
  }
 },
 "nbformat": 4,
 "nbformat_minor": 5
}
