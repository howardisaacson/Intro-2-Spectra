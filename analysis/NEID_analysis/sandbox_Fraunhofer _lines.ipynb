{
 "cells": [
  {
   "cell_type": "markdown",
   "id": "341d82c4",
   "metadata": {},
   "source": [
    "# Normalizing Flux of Tau Ceti Using NEID Data\n"
   ]
  },
  {
   "cell_type": "markdown",
   "id": "9707d022",
   "metadata": {
    "jp-MarkdownHeadingCollapsed": true,
    "tags": []
   },
   "source": [
    "## This is what I'm supposed to do: \n",
    "\n",
    "In another notebook, we successfully normalzied Tau Ceti for a given order of the wavelength data. Now, the objective is to normalize the entire data set to achieve the average PSF value for the entire data set. Doing so will require there to be easy function calling to accomplish this instead of running this notebook multiple times. \n"
   ]
  },
  {
   "cell_type": "markdown",
   "id": "2b947acf",
   "metadata": {
    "jp-MarkdownHeadingCollapsed": true,
    "tags": []
   },
   "source": [
    "## Current Issues:\n",
    "\n",
    "nothing to see here"
   ]
  },
  {
   "cell_type": "markdown",
   "id": "fcb9b7b0",
   "metadata": {
    "tags": []
   },
   "source": [
    "## Importing Libraries:\n"
   ]
  },
  {
   "cell_type": "code",
   "execution_count": 1,
   "id": "7314f9fb",
   "metadata": {},
   "outputs": [],
   "source": [
    "#importing recommended libraries: \n",
    "\n",
    "from astropy.io import fits\n",
    "import matplotlib.pylab as plt\n",
    "import numpy as np\n",
    "import scipy.interpolate\n",
    "from scipy.interpolate import splev, splrep"
   ]
  },
  {
   "cell_type": "code",
   "execution_count": 2,
   "id": "14f262d3",
   "metadata": {},
   "outputs": [],
   "source": [
    "import seaborn as sns\n",
    "sns.set_theme()\n",
    "\n",
    "import pandas as pd"
   ]
  },
  {
   "cell_type": "markdown",
   "id": "b6c00b7d",
   "metadata": {
    "tags": []
   },
   "source": [
    "## Data set source:\n",
    "\n",
    "use the following link: \n",
    "\n",
    "<https://neid.ipac.caltech.edu/search.php>\n",
    "\n",
    "if it doesnt do it automatically, the object is HD 10700 and the data level is 1 \n",
    "\n",
    ">The wavelength range Im looking for is pretty small, but somwhere with 5700 to 5900 angstroms is plenty to account for doppler shift"
   ]
  },
  {
   "cell_type": "code",
   "execution_count": 3,
   "id": "99d99c8f",
   "metadata": {},
   "outputs": [
    {
     "data": {
      "text/plain": [
       "numpy.ndarray"
      ]
     },
     "execution_count": 3,
     "metadata": {},
     "output_type": "execute_result"
    }
   ],
   "source": [
    "#reading in data and assigning it to arrays \n",
    "#for windows, the path needs double backslashes when copying as a location\n",
    "\n",
    "star = 'HD 10700' \n",
    "data_path = \"C:\\\\Users\\\\alica\\\\workspace\\\\Intro-2-Spectra\\\\analysis\\\\NEID_analysis\\\\neidL1_20220118T015112.fits\"\n",
    "# APF_flux_path = '/datag/blpd0/datax/apf/rarj.224.fits'\n",
    "\n",
    "file = fits.open(data_path)\n",
    "# fl_file = fits.open(APF_flux_path)\n",
    "wl_raw_unfiltered = file['SCIWAVE'].data\n",
    "flux_raw_unfiltered = file['SCIFLUX'].data\n",
    "\n",
    "#so far I am only working with one file\n",
    "type(wl_raw_unfiltered)"
   ]
  },
  {
   "cell_type": "code",
   "execution_count": 4,
   "id": "ec795b5c",
   "metadata": {},
   "outputs": [
    {
     "name": "stdout",
     "output_type": "stream",
     "text": [
      "Filename: C:\\Users\\alica\\workspace\\Intro-2-Spectra\\analysis\\NEID_analysis\\neidL1_20220118T015112.fits\n",
      "No.    Name      Ver    Type      Cards   Dimensions   Format\n",
      "  0  PRIMARY       1 PrimaryHDU     745   ()      \n",
      "  1  SCIFLUX       1 ImageHDU        12   (9216, 122)   float64   \n",
      "  2  SKYFLUX       1 ImageHDU        12   (9216, 122)   float64   \n",
      "  3  CALFLUX       1 ImageHDU        12   (9216, 122)   float64   \n",
      "  4  SCIVAR        1 ImageHDU        12   (9216, 122)   float32   \n",
      "  5  SKYVAR        1 ImageHDU        12   (9216, 122)   float32   \n",
      "  6  CALVAR        1 ImageHDU        12   (9216, 122)   float32   \n",
      "  7  SCIWAVE       1 ImageHDU      2451   (9216, 122)   float64   \n",
      "  8  SKYWAVE       1 ImageHDU      2451   (9216, 122)   float64   \n",
      "  9  CALWAVE       1 ImageHDU      2451   (9216, 122)   float64   \n"
     ]
    }
   ],
   "source": [
    "file.info() #this just reads the table values in a simplifed format"
   ]
  },
  {
   "cell_type": "markdown",
   "id": "9ab20465",
   "metadata": {},
   "source": [
    "_Now note here that the dimensions were obsviously 2d but I skimmed over that and didnt assign my values correctly, or maybe I did who knows that is yet to be determined (Alicia update this when you know whats going on thx)_"
   ]
  },
  {
   "cell_type": "code",
   "execution_count": 5,
   "id": "3a86f014",
   "metadata": {},
   "outputs": [
    {
     "name": "stdout",
     "output_type": "stream",
     "text": [
      "row # 0 [nan nan nan ... nan nan nan]\n",
      "row # 1 [nan nan nan ... nan nan nan]\n",
      "row # 2 [0. 0. 0. ... 0. 0. 0.]\n",
      "row # 3 [3570.94366863 3570.95346848 3570.96326784 ... 3640.05422442 3640.05950614\n",
      " 3640.06478745]\n",
      "row # 4 [3591.94333628 3591.95345481 3591.96357246 ... 3661.51064358 3661.51574867\n",
      " 3661.52085301]\n",
      "row # 5 [3613.47983488 3613.48968308 3613.49953093 ... 3683.3519227  3683.35720102\n",
      " 3683.36247887]\n",
      "row # 6 [3635.09951377 3635.10952498 3635.11953554 ... 3705.2899109  3705.29496654\n",
      " 3705.3000213 ]\n",
      "row # 7 [3656.83234385 3656.8427352  3656.85312549 ... 3727.53854074 3727.5434735\n",
      " 3727.54840515]\n",
      "row # 8 [3679.15733719 3679.16745836 3679.17757898 ... 3750.32452337 3750.3299075\n",
      " 3750.33529112]\n",
      "row # 9 [3701.75997064 3701.76988531 3701.77979978 ... 3773.43866104 3773.44447589\n",
      " 3773.45029073]\n",
      "row # 10 [3724.37146043 3724.38160951 3724.39175812 ... 3796.33909597 3796.34455912\n",
      " 3796.35002178]\n",
      "row # 11 [3747.35868185 3747.3689156  3747.37914884 ... 3819.76820514 3819.77368245\n",
      " 3819.77915923]\n",
      "row # 12 [3770.57686308 3770.58723845 3770.59761323 ... 3843.48616242 3843.4916668\n",
      " 3843.49717063]\n",
      "row # 13 [3794.19326601 3794.20363624 3794.21400595 ... 3867.50916692 3867.51471014\n",
      " 3867.52025283]\n",
      "row # 14 [3818.0664202  3818.07684204 3818.08726338 ... 3891.84346718 3891.8490608\n",
      " 3891.8546539 ]\n",
      "row # 15 [3842.23298044 3842.24347853 3842.25397611 ... 3916.48801274 3916.49365812\n",
      " 3916.49930301]\n",
      "row # 16 [3866.70911635 3866.71967393 3866.73023102 ... 3941.44509719 3941.45080138\n",
      " 3941.4565051 ]\n",
      "row # 17 [3891.48660335 3891.49725125 3891.50789862 ... 3966.68590362 3966.69160172\n",
      " 3966.69729929]\n",
      "row # 18 [3916.59849806 3916.60921573 3916.61993285 ... 3992.27711275 3992.28284423\n",
      " 3992.28857517]\n",
      "row # 19 [3942.01710213 3942.02792675 3942.03875076 ... 4018.19422652 4018.19998173\n",
      " 4018.20573636]\n",
      "row # 20 [3967.80096799 3967.81182661 3967.82268467 ... 4044.46778665 4044.4736025\n",
      " 4044.4794178 ]\n",
      "row # 21 [3993.90552113 3993.91646044 3993.92739918 ... 4071.06359153 4071.06941949\n",
      " 4071.07524687]\n",
      "row # 22 [4020.36610385 4020.37709271 4020.38808104 ... 4098.03737439 4098.0432749\n",
      " 4098.04917488]\n",
      "row # 23 [4047.16164688 4047.17273829 4047.1838291  ... 4125.33929496 4125.34519657\n",
      " 4125.35109758]\n",
      "row # 24 [4074.34993908 4074.3610551  4074.37217061 ... 4153.06428863 4153.07030148\n",
      " 4153.07631384]\n",
      "row # 25 [4101.87150221 4101.88271743 4101.89393209 ... 4181.10695741 4181.11297998\n",
      " 4181.11900202]\n",
      "row # 26 [4129.76984742 4129.78115867 4129.79246933 ... 4209.53339458 4209.53943278\n",
      " 4209.54547042]\n",
      "row # 27 [4158.06177941 4158.07316351 4158.08454702 ... 4238.36578634 4238.37186236\n",
      " 4238.37793779]\n",
      "row # 28 [4186.73910812 4186.75057762 4186.76204651 ... 4267.60190043 4267.60802582\n",
      " 4267.61415062]\n",
      "row # 29 [4215.83231423 4215.84383623 4215.85535766 ... 4297.245517   4297.25170386\n",
      " 4297.25789016]\n",
      "row # 30 [4245.29682641 4245.30846828 4245.32010951 ... 4327.28654928 4327.29276054\n",
      " 4327.29897122]\n",
      "row # 31 [4275.2119217  4275.22361972 4275.23531713 ... 4357.76169958 4357.76796089\n",
      " 4357.77422161]\n",
      "row # 32 [4305.52253862 4305.53434779 4305.54615631 ... 4388.65859526 4388.6648836\n",
      " 4388.67117133]\n",
      "row # 33 [4336.29124205 4336.30311442 4336.31498616 ... 4420.01178529 4420.01813146\n",
      " 4420.02447704]\n",
      "row # 34 [4367.49423198 4367.50618581 4367.51813901 ... 4451.80589547 4451.81228145\n",
      " 4451.81866683]\n",
      "row # 35 [4399.13940492 4399.15145652 4399.16350748 ... 4484.06772184 4484.07416145\n",
      " 4484.08060046]\n",
      "row # 36 [4431.26137068 4431.2734987  4431.28562608 ... 4516.79876621 4516.80525624\n",
      " 4516.81174568]\n",
      "row # 37 [4463.8450103  4463.8572345  4463.86945804 ... 4550.00717012 4550.01370286\n",
      " 4550.020235  ]\n",
      "row # 38 [4496.9197812  4496.9320875  4496.94439315 ... 4583.71061343 4583.7171952\n",
      " 4583.72377635]\n",
      "row # 39 [4530.48121276 4530.4936165  4530.50601958 ... 4617.90946192 4617.91608052\n",
      " 4617.92269849]\n",
      "row # 40 [4564.5509587  4564.56345044 4564.57594153 ... 4652.64093153 4652.64761969\n",
      " 4652.65430724]\n",
      "row # 41 [4599.12550605 4599.13811092 4599.15071512 ... 4687.87955915 4687.88628475\n",
      " 4687.8930097 ]\n",
      "row # 42 [4634.24636702 4634.25905507 4634.27174245 ... 4723.66208432 4723.66885983\n",
      " 4723.6756347 ]\n",
      "row # 43 [4669.89780023 4669.91058776 4669.9233746  ... 4759.99868644 4760.00551741\n",
      " 4760.01234774]\n",
      "row # 44 [4706.10629579 4706.11917474 4706.13205301 ... 4796.90594944 4796.912848\n",
      " 4796.91974593]\n",
      "row # 45 [4742.87683161 4742.88981272 4742.90279315 ... 4834.37726861 4834.38421648\n",
      " 4834.39116372]\n",
      "row # 46 [4780.22448815 4780.23757849 4780.25066813 ... 4872.44355329 4872.45055608\n",
      " 4872.45755823]\n",
      "row # 47 [4818.16955565 4818.18274508 4818.1959338  ... 4911.10860661 4911.11566039\n",
      " 4911.1227135 ]\n",
      "row # 48 [4856.72206579 4856.73535732 4856.74864814 ... 4950.39111774 4950.39822021\n",
      " 4950.40532201]\n",
      "row # 49 [4895.88966017 4895.90306412 4895.91646735 ... 4990.34627888 4990.35348761\n",
      " 4990.36069572]\n",
      "row # 50 [4935.69832495 4935.71184408 4935.72536247 ... 5030.88412035 5030.89133928\n",
      " 5030.89855752]\n",
      "row # 51 [4976.16662068 4976.18023304 4976.19384469 ... 5072.12040474 5072.12768723\n",
      " 5072.13496903]\n",
      "row # 52 [5017.30087972 5017.31459569 5017.32831095 ... 5114.0770131  5114.08441586\n",
      " 5114.09181801]\n",
      "row # 53 [5059.1098688  5059.12371654 5059.13756353 ... 5156.6216085  5156.62895812\n",
      " 5156.63630699]\n",
      "row # 54 [5101.63437881 5101.64833078 5101.66228202 ... 5199.98458953 5199.9920559\n",
      " 5199.99952158]\n",
      "row # 55 [5144.96570623 5144.97948348 5144.99326063 ... 5244.05028989 5244.05782028\n",
      " 5244.06534997]\n",
      "row # 56 [5188.82208671 5188.83636338 5188.8506391  ... 5288.86986026 5288.87745712\n",
      " 5288.88505329]\n",
      "row # 57 [5233.58752878 5233.60183629 5233.61614306 ... 5334.46203631 5334.4696953\n",
      " 5334.47735357]\n",
      "row # 58 [5279.10152154 5279.1159573  5279.13039229 ... 5380.84702883 5380.85475504\n",
      " 5380.86248053]\n",
      "row # 59 [5325.41509429 5325.42965524 5325.44421543 ... 5428.04535182 5428.05314413\n",
      " 5428.0609357 ]\n",
      "row # 60 [5372.54812083 5372.56280961 5372.57749761 ... 5476.07961519 5476.08747592\n",
      " 5476.09533592]\n",
      "row # 61 [5420.52256565 5420.5373858  5420.55220517 ... 5524.97171503 5524.97964696\n",
      " 5524.98757815]\n",
      "row # 62 [5469.36107332 5469.37602984 5469.39098556 ... 5574.74414366 5574.75214562\n",
      " 5574.76014683]\n",
      "row # 63 [5519.08879973 5519.10388701 5519.1189735  ... 5625.42224099 5625.43031565\n",
      " 5625.43838956]\n",
      "row # 64 [5569.72914117 5569.74436263 5569.75958329 ... 5677.02972169 5677.03786897\n",
      " 5677.04601548]\n",
      "row # 65 [5621.30543647 5621.32080182 5621.33616637 ... 5729.59306681 5729.60129066\n",
      " 5729.60951375]\n",
      "row # 66 [5673.84706291 5673.86256971 5673.8780757  ... 5783.1387938  5783.14709463\n",
      " 5783.15539468]\n",
      "row # 67 [5727.37970763 5727.39535885 5727.41100925 ... 5837.69512485 5837.70350332\n",
      " 5837.71188101]\n",
      "row # 68 [5781.93165773 5781.94745908 5781.9632596  ... 5893.29052356 5893.29898317\n",
      " 5893.30744199]\n",
      "row # 69 [5837.5332946  5837.54924616 5837.56519688 ... 5949.95475618 5949.96329545\n",
      " 5949.97183393]\n",
      "row # 70 [5894.21442203 5894.23052626 5894.24662965 ... 6007.71932566 6007.72794773\n",
      " 6007.73656899]\n",
      "row # 71 [5952.00662392 5952.02288768 5952.03915059 ... 6066.61674352 6066.62545036\n",
      " 6066.63415639]\n",
      "row # 72 [6010.94344817 6010.95987107 6010.9762931  ... 6126.6804841  6126.68927779\n",
      " 6126.69807066]\n",
      "row # 73 [6071.05847661 6071.07506339 6071.0916493  ... 6187.94538717 6187.95426887\n",
      " 6187.96314974]\n",
      "row # 74 [6132.38829169 6132.40504517 6132.42179777 ... 6250.44772203 6250.45669184\n",
      " 6250.46566082]\n",
      "row # 75 [6194.96946512 6194.98638831 6195.00331062 ... 6314.22594346 6314.2350048\n",
      " 6314.2440653 ]\n",
      "row # 76 [6258.84103653 6258.85813412 6258.87523081 ... 6379.31972542 6379.32888287\n",
      " 6379.33803947]\n",
      "row # 77 [6324.04434291 6324.06161277 6324.07888174 ... 6445.76838969 6445.77763774\n",
      " 6445.78688493]\n",
      "row # 78 [6390.61928985 6390.63674255 6390.65419434 ... 6513.6162936  6513.62564035\n",
      " 6513.63498624]\n",
      "row # 79 [6458.61101803 6458.62865449 6458.64629003 ... 6582.90786183 6582.91730672\n",
      " 6582.92675073]\n",
      "row # 80 [6528.06450981 6528.08233478 6528.10015881 ... 6653.6895527  6653.69909887\n",
      " 6653.70864414]\n",
      "row # 81 [6599.02907672 6599.0470912  6599.06510474 ... 6726.00976175 6726.01941025\n",
      " 6726.02905784]\n",
      "row # 82 [6671.55142048 6671.56963588 6671.58785031 ... 6799.92016454 6799.92992105\n",
      " 6799.93967665]\n",
      "row # 83 [6745.68647061 6745.70488792 6745.72330426 ... 6875.47239691 6875.4822621\n",
      " 6875.49212638]\n",
      "row # 84 [6821.48805332 6821.50667195 6821.52528961 ... 6952.72036717 6952.73033141\n",
      " 6952.7402947 ]\n",
      "row # 85 [6899.01128969 6899.03012085 6899.04895103 ... 7031.72864169 7031.73872897\n",
      " 7031.7488153 ]\n",
      "row # 86 [6978.31747191 6978.33651904 6978.35556517 ... 7112.55051853 7112.56072491\n",
      " 7112.57093036]\n",
      "row # 87 [7059.46750011 7059.48676772 7059.50603431 ... 7195.25263496 7195.26296179\n",
      " 7195.27328767]\n",
      "row # 88 [7142.52650444 7142.54600112 7142.56549676 ... 7279.89983829 7279.91028519\n",
      " 7279.92073114]\n",
      "row # 89 [7227.5632557  7227.58298583 7227.6027149  ... 7366.56276706 7366.57333823\n",
      " 7366.58390842]\n",
      "row # 90 [7314.65031375 7314.67027643 7314.69023806 ... 7455.3135376  7455.32423368\n",
      " 7455.33492876]\n",
      "row # 91 [7403.86077301 7403.88097771 7403.90118133 ... 7546.22972633 7546.24055422\n",
      " 7546.25138111]\n",
      "row # 92 [7495.27400054 7495.29445284 7495.31490405 ... 7639.39003514 7639.40099606\n",
      " 7639.41195596]\n",
      "row # 93 [7588.97249523 7588.99320101 7589.01390569 ... 7734.87948933 7734.89058507\n",
      " 7734.90167979]\n",
      "row # 94 [7685.04366709 7685.064631   7685.0855938  ... 7832.78615544 7832.79738964\n",
      " 7832.80862279]\n",
      "row # 95 [7783.57754097 7783.59877223 7783.62000237 ... 7933.20338255 7933.21476186\n",
      " 7933.22614011]\n",
      "row # 96 [7884.67168149 7884.69318517 7884.71468772 ... 8036.22901108 8036.24053755\n",
      " 8036.25206294]\n",
      "row # 97 [7988.42490851 7988.44669504 7988.46848041 ... 8141.96551804 8141.97719608\n",
      " 8141.98887304]\n",
      "row # 98 [8094.94616725 8094.96824125 8094.99031408 ... 8250.52105278 8250.53288469\n",
      " 8250.54471549]\n",
      "row # 99 [8204.34576008 8204.36813355 8204.39050583 ... 8362.01194479 8362.02393708\n",
      " 8362.03592827]\n",
      "row # 100 [8316.74275183 8316.7654302  8316.78810737 ... 8476.55600438 8476.5681625\n",
      " 8476.58031951]\n",
      "row # 101 [8432.26270456 8432.28569338 8432.30868099 ... 8594.28110573 8594.29342671\n",
      " 8594.30574653]\n",
      "row # 102 [8551.0366805  8551.05999341 8551.08330509 ... 8715.32525986 8715.33776137\n",
      " 8715.35026174]\n",
      "row # 103 [8673.20316548 8673.22681474 8673.25046273 ... 8839.82470711 8839.83738705\n",
      " 8839.85006585]\n",
      "row # 104 [8798.91272024 8798.93670447 8798.96068742 ... 8967.93469525 8967.94755775\n",
      " 8967.96041907]\n",
      "row # 105 [8928.31699501 8928.34133488 8928.36567344 ... 9099.80918064 9099.82222378\n",
      " 9099.83526569]\n",
      "row # 106 [9061.58623926 9061.61094096 9061.63564134 ... 9235.62619263 9235.63943957\n",
      " 9235.65268529]\n",
      "row # 107 [9198.89090256 9198.91597938 9198.94105486 ... 9375.55355816 9375.56699263\n",
      " 9375.58042583]\n",
      "row # 108 [9340.42448275 9340.44993947 9340.47539483 ... 9519.78895415 9519.80260621\n",
      " 9519.81625703]\n",
      "row # 109 [9486.37628353 9486.40214062 9486.42799632 ... 9668.52947532 9668.54333028\n",
      " 9668.55718395]\n",
      "row # 110 [9636.96968312 9636.99594947 9637.0222144  ... 9821.9919209  9822.00599022\n",
      " 9822.0200582 ]\n",
      "row # 111 [9792.43215973 9792.45882752 9792.48549389 ... 9980.40851384 9980.42283106\n",
      " 9980.43714697]\n",
      "row # 112 [ 9952.97398116  9953.0010975   9953.02821237 ... 10143.92199391\n",
      " 10143.93639789 10143.95080037]\n",
      "row # 113 [10118.93914853 10118.96654391 10118.99393808 ... 10313.29382184\n",
      " 10313.30896835 10313.32411396]\n",
      "row # 114 [10290.30681002 10290.33499748 10290.36318318 ... 10487.69254445\n",
      " 10487.7072745  10487.72200276]\n",
      "row # 115 [10467.80727756 10467.83579402 10467.86430895 ... 10668.95726189\n",
      " 10668.97304638 10668.98883005]\n",
      "row # 116 [10651.78153983 10651.80968766 10651.83783521 ... 10855.92975713\n",
      " 10855.94542197 10855.96108561]\n",
      "row # 117 [10842.5395796  10842.56760407 10842.59562903 ... 11049.94101154\n",
      " 11049.95744103 11049.97387013]\n",
      "row # 118 [0. 0. 0. ... 0. 0. 0.]\n",
      "row # 119 [0. 0. 0. ... 0. 0. 0.]\n",
      "row # 120 [0. 0. 0. ... 0. 0. 0.]\n",
      "row # 121 [nan nan nan ... nan nan nan]\n"
     ]
    }
   ],
   "source": [
    "# #determing which row i want for the target wavelenght range \n",
    "c = 0\n",
    "for i in wl_raw_unfiltered:\n",
    "    print('row #',c,i)\n",
    "    c+=1\n",
    "    "
   ]
  },
  {
   "cell_type": "code",
   "execution_count": 6,
   "id": "63c443da",
   "metadata": {},
   "outputs": [],
   "source": [
    "# order = 10 #interger value"
   ]
  },
  {
   "cell_type": "code",
   "execution_count": 7,
   "id": "9f2a5450",
   "metadata": {},
   "outputs": [],
   "source": [
    "#this will be turned into a function later\n",
    "# wl = wl_raw_unfiltered[order]\n",
    "# flux = flux_raw_unfiltered[order]"
   ]
  },
  {
   "cell_type": "code",
   "execution_count": null,
   "id": "db3c1471",
   "metadata": {},
   "outputs": [],
   "source": []
  },
  {
   "cell_type": "code",
   "execution_count": null,
   "id": "5998acbc",
   "metadata": {},
   "outputs": [],
   "source": []
  },
  {
   "cell_type": "markdown",
   "id": "60c049bd-a9de-483a-9b7a-a7d02f08f57c",
   "metadata": {
    "tags": []
   },
   "source": [
    "## Removing Nan values in arrays"
   ]
  },
  {
   "cell_type": "markdown",
   "id": "e3343a13-4de8-42ab-99cf-8209cdff75bb",
   "metadata": {},
   "source": [
    "Sometimes the order of the array will have nan values in the array, for this we will first check if it does. if it doesnt, then the array can bypass this step and be pushed to the next section of normalization. \n",
    "\n",
    "Otherwise, we need to account for this issue and do some relative fitting/estimating"
   ]
  },
  {
   "cell_type": "markdown",
   "id": "779d9b44-2b19-4851-9453-90d26721b7e7",
   "metadata": {
    "tags": []
   },
   "source": [
    "### removing and replacing nan value functions:\n",
    "\n",
    "idea: do mean replacement for the time being (currently set eveything to 1 so delete when this is done)"
   ]
  },
  {
   "cell_type": "code",
   "execution_count": 9,
   "id": "1fee5d9c-567c-417f-8348-48ca13e13f88",
   "metadata": {},
   "outputs": [],
   "source": [
    "def remove_nan(wl, flux): #this uses both of the below functions\n",
    "    if check_nan(flux):\n",
    "        wl , flux = find_and_replace_nan(wl, flux)\n",
    "        # print('this array had nan values that have been replaced')\n",
    "    # else:\n",
    "        # print('this array didnt have nan values')\n",
    "    return wl, flux"
   ]
  },
  {
   "cell_type": "code",
   "execution_count": 10,
   "id": "ab5082cc-30dd-4162-aea9-32daad473743",
   "metadata": {},
   "outputs": [],
   "source": [
    "#checking for nan values, returns true if there are nan values in array\n",
    "def check_nan(flux):\n",
    "    has_nan = False\n",
    "    for i in flux:\n",
    "        if np.isnan(i):\n",
    "            has_nan = True\n",
    "    return has_nan"
   ]
  },
  {
   "cell_type": "code",
   "execution_count": 11,
   "id": "3b1abc48-4179-4701-ac58-6c1306a18943",
   "metadata": {},
   "outputs": [],
   "source": [
    "#finding values: -- there is a conversation to a np array, so if my code breaks it might be here --\n",
    "def find_and_replace_nan(wl, flux):\n",
    "    nan_wl = []\n",
    "    for i in np.arange(len(flux)):\n",
    "        if np.isnan(flux[i]):\n",
    "            nan_wl.append(wl[i])\n",
    "    nan_wl = np.array(nan_wl)\n",
    "    #code above this point works\n",
    "    new_wl = []\n",
    "    new_flux = []\n",
    "    for i in np.arange(len(wl)):\n",
    "        new_wl.append(wl[i])\n",
    "        if wl[i] in nan_wl: #for where there is a nan value:\n",
    "            new_flux.append(1)\n",
    "        else:\n",
    "            new_flux.append(flux[i])\n",
    "    return new_wl, new_flux\n",
    "            \n",
    "    \n",
    "#this currently just sets it to 1 by default, but this could cause errors later \n",
    "            \n",
    "        "
   ]
  },
  {
   "cell_type": "markdown",
   "id": "89c39767-f12c-4710-9d8e-d8da7d20ab8a",
   "metadata": {
    "tags": []
   },
   "source": [
    "## Removing Poor Fits\n",
    "lets try just using the arrays that look like theyre accurate and see where that gets us!\n",
    "> this will change the order as they correspond to the original data set. "
   ]
  },
  {
   "cell_type": "code",
   "execution_count": 13,
   "id": "b9edb823-170f-4b94-ad78-c029faf78a89",
   "metadata": {},
   "outputs": [
    {
     "data": {
      "text/html": [
       "<div>\n",
       "<style scoped>\n",
       "    .dataframe tbody tr th:only-of-type {\n",
       "        vertical-align: middle;\n",
       "    }\n",
       "\n",
       "    .dataframe tbody tr th {\n",
       "        vertical-align: top;\n",
       "    }\n",
       "\n",
       "    .dataframe thead th {\n",
       "        text-align: right;\n",
       "    }\n",
       "</style>\n",
       "<table border=\"1\" class=\"dataframe\">\n",
       "  <thead>\n",
       "    <tr style=\"text-align: right;\">\n",
       "      <th></th>\n",
       "      <th>order</th>\n",
       "    </tr>\n",
       "  </thead>\n",
       "  <tbody>\n",
       "    <tr>\n",
       "      <th>0</th>\n",
       "      <td>0</td>\n",
       "    </tr>\n",
       "    <tr>\n",
       "      <th>1</th>\n",
       "      <td>1</td>\n",
       "    </tr>\n",
       "    <tr>\n",
       "      <th>2</th>\n",
       "      <td>2</td>\n",
       "    </tr>\n",
       "    <tr>\n",
       "      <th>3</th>\n",
       "      <td>3</td>\n",
       "    </tr>\n",
       "    <tr>\n",
       "      <th>4</th>\n",
       "      <td>4</td>\n",
       "    </tr>\n",
       "    <tr>\n",
       "      <th>5</th>\n",
       "      <td>5</td>\n",
       "    </tr>\n",
       "    <tr>\n",
       "      <th>6</th>\n",
       "      <td>6</td>\n",
       "    </tr>\n",
       "    <tr>\n",
       "      <th>7</th>\n",
       "      <td>7</td>\n",
       "    </tr>\n",
       "    <tr>\n",
       "      <th>8</th>\n",
       "      <td>8</td>\n",
       "    </tr>\n",
       "    <tr>\n",
       "      <th>9</th>\n",
       "      <td>92</td>\n",
       "    </tr>\n",
       "    <tr>\n",
       "      <th>10</th>\n",
       "      <td>93</td>\n",
       "    </tr>\n",
       "    <tr>\n",
       "      <th>11</th>\n",
       "      <td>108</td>\n",
       "    </tr>\n",
       "    <tr>\n",
       "      <th>12</th>\n",
       "      <td>115</td>\n",
       "    </tr>\n",
       "    <tr>\n",
       "      <th>13</th>\n",
       "      <td>116</td>\n",
       "    </tr>\n",
       "    <tr>\n",
       "      <th>14</th>\n",
       "      <td>117</td>\n",
       "    </tr>\n",
       "    <tr>\n",
       "      <th>15</th>\n",
       "      <td>118</td>\n",
       "    </tr>\n",
       "    <tr>\n",
       "      <th>16</th>\n",
       "      <td>119</td>\n",
       "    </tr>\n",
       "    <tr>\n",
       "      <th>17</th>\n",
       "      <td>120</td>\n",
       "    </tr>\n",
       "    <tr>\n",
       "      <th>18</th>\n",
       "      <td>121</td>\n",
       "    </tr>\n",
       "  </tbody>\n",
       "</table>\n",
       "</div>"
      ],
      "text/plain": [
       "    order\n",
       "0       0\n",
       "1       1\n",
       "2       2\n",
       "3       3\n",
       "4       4\n",
       "5       5\n",
       "6       6\n",
       "7       7\n",
       "8       8\n",
       "9      92\n",
       "10     93\n",
       "11    108\n",
       "12    115\n",
       "13    116\n",
       "14    117\n",
       "15    118\n",
       "16    119\n",
       "17    120\n",
       "18    121"
      ]
     },
     "execution_count": 13,
     "metadata": {},
     "output_type": "execute_result"
    }
   ],
   "source": [
    "# making a dataframe of poor fit orders -- idk if this will come in handy but at least ill have it lol\n",
    "\n",
    "poor_order_values = [0,1,2,3,4,5,6, 7, 8, 92, 93, 108, 115, 116, 117, 118, 119, 120, 121]\n",
    "d = {'order': poor_order_values}\n",
    "\n",
    "poor_orders = pd.DataFrame(data = d)\n",
    "poor_orders"
   ]
  },
  {
   "cell_type": "code",
   "execution_count": 14,
   "id": "da14ae54-9812-4890-b5a5-42d32e32ce3f",
   "metadata": {},
   "outputs": [],
   "source": [
    "wl_raw = []\n",
    "flux_raw = []\n",
    "for i in range(len(wl_raw_unfiltered)):\n",
    "    if i not in poor_order_values:\n",
    "        wl_raw.append(wl_raw_unfiltered[i])\n",
    "        flux_raw.append(flux_raw_unfiltered[i])\n"
   ]
  },
  {
   "cell_type": "markdown",
   "id": "e011a5a7-c0d8-4780-a23d-d97fb9305905",
   "metadata": {
    "tags": []
   },
   "source": [
    "## Plotting Order"
   ]
  },
  {
   "cell_type": "code",
   "execution_count": 15,
   "id": "0cd5e757-6cc9-457b-8a95-a65575463a6a",
   "metadata": {},
   "outputs": [],
   "source": [
    "import ipywidgets as widgets\n",
    "\n",
    "#setting default repetition methods\n",
    "slider = widgets.IntSlider(\n",
    "    min=0,\n",
    "    max=121,\n",
    "    step=1,\n",
    "    )\n",
    "\n",
    "\n",
    "player = widgets.Play(interval = 1000, value = 0, min = 0,max =100)\n"
   ]
  },
  {
   "cell_type": "code",
   "execution_count": 16,
   "id": "e15997c7-00b8-42f6-b0be-c1a84984c9c6",
   "metadata": {},
   "outputs": [],
   "source": [
    "def plot_orders(order = 0):\n",
    "    plt.figure(figsize = (12,6))\n",
    "    plt.title('Raw Data for Tau Ceti, Order: ' + str(order))\n",
    "    plt.xlabel('Wavelength (A)')\n",
    "    plt.ylabel('Flux')\n",
    "    wl = wl_raw[order]\n",
    "    flux = flux_raw[order]\n",
    "    \n",
    "    plt.plot(wl, flux) \n"
   ]
  },
  {
   "cell_type": "code",
   "execution_count": 18,
   "id": "6af9c2fa-bc8c-4d1e-9786-1ad053003169",
   "metadata": {},
   "outputs": [
    {
     "data": {
      "application/vnd.jupyter.widget-view+json": {
       "model_id": "7a57206945c049508d81e53f0ea95322",
       "version_major": 2,
       "version_minor": 0
      },
      "text/plain": [
       "interactive(children=(Play(value=0, description='order', interval=1000), Output()), _dom_classes=('widget-inte…"
      ]
     },
     "metadata": {},
     "output_type": "display_data"
    },
    {
     "data": {
      "text/plain": [
       "<function __main__.plot_orders(order=0)>"
      ]
     },
     "execution_count": 18,
     "metadata": {},
     "output_type": "execute_result"
    }
   ],
   "source": [
    "widgets.interact(plot_orders, order = player)"
   ]
  },
  {
   "cell_type": "markdown",
   "id": "5e490de3-9144-48e6-8dca-c3ace735bb6e",
   "metadata": {},
   "source": [
    "Awesome this totally works! At certain intervals it lags so only a few orders are shown, but at values above 500 it seems to show them all pretty okay.\n",
    "\n",
    "\n",
    "Using plt.show() doesnt remove the text at the bottom of the plot"
   ]
  },
  {
   "cell_type": "code",
   "execution_count": null,
   "id": "5761def9-802e-4a61-8b79-b46eaa8ced4a",
   "metadata": {},
   "outputs": [],
   "source": []
  },
  {
   "cell_type": "code",
   "execution_count": null,
   "id": "32a44748-b2a0-4bd8-9771-9630ee5fbe9c",
   "metadata": {},
   "outputs": [],
   "source": []
  },
  {
   "cell_type": "markdown",
   "id": "76421b4f-bb09-4e59-b425-f64e71d76b1f",
   "metadata": {
    "tags": []
   },
   "source": [
    "## Normalizing Flux as a Generic Function"
   ]
  },
  {
   "cell_type": "markdown",
   "id": "32435ceb-8a3e-470f-9da0-543bbd19221a",
   "metadata": {},
   "source": [
    "This will find the echelle blaze values for each bin and then fit it to a curve, and then divide by that curve the raw data to normalize it to 1"
   ]
  },
  {
   "cell_type": "code",
   "execution_count": 19,
   "id": "6613d2d3-eb5d-4434-b673-0eed89f7b7fe",
   "metadata": {},
   "outputs": [],
   "source": [
    "def find_echelle_blaze_interact(order = 4):\n",
    "    wl, flux = remove_nan(wl_raw[order],flux_raw[order])\n",
    "    bin = 150 #modifying bins to even out the blaze function better \n",
    "\n",
    "    # this list will contain the indices corresponding to each of the 95th percentile flux values in each bin\n",
    "    indices = []\n",
    "\n",
    "    for i in np.arange((len(wl) - (bin)), step = bin):\n",
    "        flux_values = []\n",
    "        for j in np.arange(i, i + bin, step = 1):\n",
    "            value = flux[j]\n",
    "            flux_values = np.append(flux_values, value)\n",
    "        # find the 95th percentile flux value: we use 95 to get the maximum flux value in general \n",
    "        # but avoid issues with cosmic rays and other emission lines\n",
    "        flux_in_bin = np.percentile(flux_values, 95)\n",
    "        # find the closest value in the flux array to the 95th percentile value\n",
    "        absolute_difference_function = lambda list_value : abs(list_value - flux_in_bin)\n",
    "        flux_in_bin = min(flux_values.tolist(), key=absolute_difference_function)\n",
    "        index_in_bin = flux_values.tolist().index(flux_in_bin)\n",
    "        index = i + index_in_bin\n",
    "        indices = np.append(indices, index)\n",
    "\n",
    "    # these lists will contain the wavlength and flux values at each index in 'indices'\n",
    "    wl_values = []\n",
    "    fl_values = []\n",
    "\n",
    "    for index in indices:\n",
    "        ind = int(index)\n",
    "        wl_values = np.append(wl_values, wl[ind])\n",
    "        fl_values = np.append(fl_values, flux[ind])\n",
    "        \n",
    "    plt.figure(figsize = (12,6))\n",
    "    plt.plot(wl, flux, label = 'Data')\n",
    "    plt.scatter(wl_values, fl_values, color = 'black', label = 'Flux Values in the 95th Percentile')\n",
    "    plt.title('Mapping out the Echelle Blaze Function Fit; order: ' + str(order))\n",
    "    plt.xlabel('Wavelength [A]')\n",
    "    plt.ylabel('Flux')\n",
    "    plt.legend()"
   ]
  },
  {
   "cell_type": "code",
   "execution_count": 21,
   "id": "157ea4fd-d983-474d-a610-f4a973841570",
   "metadata": {},
   "outputs": [
    {
     "data": {
      "application/vnd.jupyter.widget-view+json": {
       "model_id": "18a3e7ebac1a4e4ba060796c908cedc5",
       "version_major": 2,
       "version_minor": 0
      },
      "text/plain": [
       "interactive(children=(Play(value=0, description='order', interval=500, max=103), Output()), _dom_classes=('wid…"
      ]
     },
     "metadata": {},
     "output_type": "display_data"
    },
    {
     "data": {
      "text/plain": [
       "<function __main__.find_echelle_blaze_interact(order=4)>"
      ]
     },
     "execution_count": 21,
     "metadata": {},
     "output_type": "execute_result"
    }
   ],
   "source": [
    "widgets.interact(find_echelle_blaze_interact, order = widgets.Play(interval = 500, min = 0,max = len(wl_raw)))"
   ]
  },
  {
   "cell_type": "markdown",
   "id": "faed583e-9722-4d1a-9b39-7f529756746a",
   "metadata": {},
   "source": [
    "now that we know it works we can just find it and not plot it, but in turn plot the echelle blaze function fit and then the next step and so forth and so forth. This technique will be used to make sure that each step of the way is working and can be plotted via wdget to look for errors. There will remain a widget version of each step but the final product will only plot the histogram of PSF values but be using the functions plotted along the way.\n",
    "\n",
    "\n",
    "The data will be exported like the first notebook I used, but it will be full of all the normalized values and then do the same thing we did for one order but with all of them"
   ]
  },
  {
   "cell_type": "code",
   "execution_count": 54,
   "id": "b614ae8c-35a5-48a8-aa37-1b9522b67ad7",
   "metadata": {},
   "outputs": [],
   "source": [
    "def find_echelle_blaze(order = 4):\n",
    "    wl, flux = remove_nan(wl_raw[order],flux_raw[order])\n",
    "    bin = 150 #modifying bins to even out the blaze function better \n",
    "\n",
    "    # this list will contain the indices corresponding to each of the 95th percentile flux values in each bin\n",
    "    indices = []\n",
    "\n",
    "    for i in np.arange((len(wl) - (bin)), step = bin):\n",
    "        flux_values = []\n",
    "        for j in np.arange(i, i + bin, step = 1):\n",
    "            value = flux[j]\n",
    "            flux_values = np.append(flux_values, value)\n",
    "        # find the 95th percentile flux value: we use 95 to get the maximum flux value in general \n",
    "        # but avoid issues with cosmic rays and other emission lines\n",
    "        flux_in_bin = np.percentile(flux_values, 95)\n",
    "        # find the closest value in the flux array to the 95th percentile value\n",
    "        absolute_difference_function = lambda list_value : abs(list_value - flux_in_bin)\n",
    "        flux_in_bin = min(flux_values.tolist(), key=absolute_difference_function)\n",
    "        index_in_bin = flux_values.tolist().index(flux_in_bin)\n",
    "        index = i + index_in_bin\n",
    "        indices = np.append(indices, index)\n",
    "\n",
    "    # these lists will contain the wavlength and flux values at each index in 'indices'\n",
    "    wl_values = []\n",
    "    fl_values = []\n",
    "\n",
    "    for index in indices:\n",
    "        ind = int(index)\n",
    "        wl_values = np.append(wl_values, wl[ind])\n",
    "        fl_values = np.append(fl_values, flux[ind])\n",
    "\n",
    "    return wl, flux, wl_values, fl_values"
   ]
  },
  {
   "cell_type": "code",
   "execution_count": 55,
   "id": "55d91827-8769-48f7-bb18-12a1e37ac717",
   "metadata": {},
   "outputs": [],
   "source": [
    "#Plot fl_values onto wl_values so that the length of the arrays match that of the APF spectrum. \n",
    "#Set s to 500000 to smooth the fit.\n",
    "def echelle_blaze_fit_interact(order = 4):\n",
    "    wl, flux, wl_values, fl_values = find_echelle_blaze(order)\n",
    "    \n",
    "    spl = splrep(wl_values, fl_values, s = 500000) #uses a B-Spline fitting method \n",
    "    flux_fit = splev(wl, spl)\n",
    "    plt.figure(figsize = (12,6))\n",
    "    plt.plot(wl, flux_fit)\n",
    "    plt.xlabel('Wavelength [A]')\n",
    "    plt.ylabel('Flux')\n",
    "    plt.title('Echelle Blaze Function Fit / Bin =' + str(bin) + ', Order:' + str(order), fontsize = 18)\n",
    "    plt.show()\n",
    "\n",
    "    #smooth this out "
   ]
  },
  {
   "cell_type": "code",
   "execution_count": 56,
   "id": "01356ca7-4c0d-4f5b-befa-cf7bebf6b05b",
   "metadata": {},
   "outputs": [
    {
     "data": {
      "application/vnd.jupyter.widget-view+json": {
       "model_id": "8c3eb22de8fd47869ba4a081a52c032e",
       "version_major": 2,
       "version_minor": 0
      },
      "text/plain": [
       "interactive(children=(Play(value=4, description='order', interval=500, max=120, min=4), Output()), _dom_classe…"
      ]
     },
     "metadata": {},
     "output_type": "display_data"
    },
    {
     "data": {
      "text/plain": [
       "<function __main__.echelle_blaze_fit_interact(order=4)>"
      ]
     },
     "execution_count": 56,
     "metadata": {},
     "output_type": "execute_result"
    }
   ],
   "source": [
    "widgets.interact(echelle_blaze_fit_interact, order = widgets.Play(interval = 500, min = 4,max = len(wl_raw)-2))"
   ]
  },
  {
   "cell_type": "code",
   "execution_count": 57,
   "id": "37d77d94-34a0-4157-a664-1fda20f7082a",
   "metadata": {},
   "outputs": [],
   "source": [
    "#Plot fl_values onto wl_values so that the length of the arrays match that of the APF spectrum. \n",
    "#Set s to 500000 to smooth the fit.\n",
    "def echelle_blaze_fit(order = 4):\n",
    "    wl, flux, wl_values, fl_values = find_echelle_blaze(order)\n",
    "    \n",
    "    spl = splrep(wl_values, fl_values, s = 500000) #uses a B-Spline fitting method \n",
    "    flux_fit = splev(wl, spl)\n",
    "    # plt.plot(wl, flux_fit)\n",
    "    # plt.xlabel('Wavelength [A]')\n",
    "    # plt.ylabel('Flux')\n",
    "    # plt.title('Echelle Blaze Function Fit / Bin =' + str(bin) + ', Order:' + str(order), fontsize = 18)\n",
    "    # plt.show()\n",
    "    return flux_fit\n",
    "\n",
    "    #smooth this out "
   ]
  },
  {
   "cell_type": "code",
   "execution_count": 58,
   "id": "a6cd5544-291f-4b71-afcb-fb537535436e",
   "metadata": {},
   "outputs": [],
   "source": [
    "#this is supposed to divide the fit from the data and make it normalized\n",
    "def normalized_flux_interact(order = 4, normalization = False):\n",
    "    wl, flux, wl_values, fl_values = wl, flux, wl_values, fl_values = find_echelle_blaze(order)\n",
    "    flux_fit = echelle_blaze_fit(order)\n",
    "    \n",
    "    first_normalized_flux = flux / flux_fit\n",
    "    plt.figure(figsize = (12,6))\n",
    "    plt.plot(wl, first_normalized_flux)\n",
    "    plt.xlabel('Wavelength [A]')\n",
    "    plt.ylabel('Flux')\n",
    "    plt.ylim(-1,1.5)\n",
    "    plt.title('Normalized Flux; Order: ' + str(order),fontsize = 18)\n",
    "    if normalization:\n",
    "        plt.axhline(1, c = 'red')\n",
    "        \n",
    "    plt.show()"
   ]
  },
  {
   "cell_type": "code",
   "execution_count": 59,
   "id": "9a694a11-3494-40db-b02b-e80953c25256",
   "metadata": {},
   "outputs": [
    {
     "data": {
      "application/vnd.jupyter.widget-view+json": {
       "model_id": "87fb51e7424643828c952ceb990c2618",
       "version_major": 2,
       "version_minor": 0
      },
      "text/plain": [
       "interactive(children=(Play(value=4, description='order', interval=400, max=120, min=4), Checkbox(value=False, …"
      ]
     },
     "metadata": {},
     "output_type": "display_data"
    },
    {
     "data": {
      "text/plain": [
       "<function __main__.normalized_flux_interact(order=4, normalization=False)>"
      ]
     },
     "execution_count": 59,
     "metadata": {},
     "output_type": "execute_result"
    }
   ],
   "source": [
    "widgets.interact(normalized_flux_interact, order = widgets.Play(interval = 400, min = 4,max = len(wl_raw)-2))  \n",
    "\n",
    "#for slider: (4,100,1)\n",
    "#for sim: widgets.Play(interval = 500, min = 4,max = len(wl_raw)-2)"
   ]
  },
  {
   "cell_type": "markdown",
   "id": "be651f46-c886-419a-9d51-5786f500d84e",
   "metadata": {},
   "source": [
    "Some of these fits are absolutely terrible, considering whether its better to leave it or fix it. We'll see if we should just ignore the data sets on the edge of the spectrum, since in the middle the fits are pretty decent. "
   ]
  },
  {
   "cell_type": "code",
   "execution_count": 60,
   "id": "cc026c64-6af9-469e-b3d2-c55e59a356e8",
   "metadata": {},
   "outputs": [],
   "source": [
    "#this is supposed to divide the fit from the data and make it normalized\n",
    "def normalized_flux(order = 4, normalization = False):\n",
    "    wl, flux, wl_values, fl_values = wl, flux, wl_values, fl_values = find_echelle_blaze(order)\n",
    "    flux_fit = echelle_blaze_fit(order)\n",
    "    \n",
    "    first_normalized_flux = flux / flux_fit\n",
    "#     plt.plot(wl, first_normalized_flux)\n",
    "#     plt.xlabel('Wavelength [A]')\n",
    "#     plt.ylabel('Flux')\n",
    "#     plt.ylim(-1,1.5)\n",
    "#     plt.title('Normalized Flux; Order: ' + str(order),fontsize = 18)\n",
    "#     if normalization:\n",
    "#         plt.axhline(1, c = 'red')\n",
    "        \n",
    "#     plt.show()\n",
    "    return first_normalized_flux "
   ]
  },
  {
   "cell_type": "code",
   "execution_count": 61,
   "id": "9e96ee32-1842-4cee-ae3c-4c55d64ed733",
   "metadata": {},
   "outputs": [],
   "source": [
    "def second_normalized_flux_interact(order = 4):\n",
    "    wl, flux, wl_values, fl_values = find_echelle_blaze(order)\n",
    "    flux_fit = echelle_blaze_fit(order)\n",
    "    first_normalized_flux = normalized_flux(order)\n",
    "    \n",
    "    flux98 = np.percentile(first_normalized_flux, 98) #fixed the bug mentioned below \n",
    "    second_normalized_flux = first_normalized_flux / flux98\n",
    "    plt.figure(figsize = (12,6))\n",
    "    plt.plot(wl, first_normalized_flux, label = 'Normalized Once')\n",
    "    plt.plot(wl, second_normalized_flux, label = 'Normalized Twice')\n",
    "    plt.legend()\n",
    "    plt.xlabel('Wavelength [A]')\n",
    "    plt.ylabel('Flux')\n",
    "    plt.title('Double Normalized Data; Order: '+ str(order))\n",
    "    plt.show()"
   ]
  },
  {
   "cell_type": "code",
   "execution_count": 62,
   "id": "04f62349-5a91-407f-8a46-f00c2024c54e",
   "metadata": {},
   "outputs": [
    {
     "data": {
      "application/vnd.jupyter.widget-view+json": {
       "model_id": "61490076fc6c40e28fecef61eb252ee2",
       "version_major": 2,
       "version_minor": 0
      },
      "text/plain": [
       "interactive(children=(Play(value=4, description='order', interval=400, max=120, min=4), Output()), _dom_classe…"
      ]
     },
     "metadata": {},
     "output_type": "display_data"
    },
    {
     "data": {
      "text/plain": [
       "<function __main__.second_normalized_flux(order=4)>"
      ]
     },
     "execution_count": 62,
     "metadata": {},
     "output_type": "execute_result"
    }
   ],
   "source": [
    "widgets.interact(second_normalized_flux_interact, order = widgets.Play(interval = 400, min = 4,max = len(wl_raw)-2))  "
   ]
  },
  {
   "cell_type": "code",
   "execution_count": 68,
   "id": "cee54ded-9e6a-4fb4-b25a-3e28e2805dce",
   "metadata": {},
   "outputs": [],
   "source": [
    "def second_normalized_flux(order = 4):\n",
    "    wl, flux, wl_values, fl_values = find_echelle_blaze(order)\n",
    "    flux_fit = echelle_blaze_fit(order)\n",
    "    first_normalized_flux = normalized_flux(order)\n",
    "    \n",
    "    flux98 = np.percentile(first_normalized_flux, 98) #fixed the bug mentioned below \n",
    "    second_normalized_flux = first_normalized_flux / flux98\n",
    "    \n",
    "    return second_normalized_flux\n",
    "    # plt.figure(figsize = (12,6))\n",
    "    # plt.plot(wl, first_normalized_flux, label = 'Normalized Once')\n",
    "    # plt.plot(wl, second_normalized_flux, label = 'Normalized Twice')\n",
    "    # plt.legend()\n",
    "    # plt.xlabel('Wavelength [A]')\n",
    "    # plt.ylabel('Flux')\n",
    "    # plt.title('Double Normalized Data; Order: '+ str(order))\n",
    "    # plt.show()"
   ]
  },
  {
   "cell_type": "markdown",
   "id": "e156fd91-c4e6-4356-8d1f-6c0f1695241a",
   "metadata": {
    "tags": []
   },
   "source": [
    "## Regriding the Wavelength Grid to be in Constant RV Space¶\n",
    "Plot the normalized flux values onto the original wavelength grid, create a new wavelength grid that is log lambda spaced, and then interpolate onto the new wavelength grid. This will create a spectrum that is in constant RV space, which will allow for a straightforward calculation of the Doppler shift."
   ]
  },
  {
   "cell_type": "code",
   "execution_count": 67,
   "id": "298d00f6-cb4b-4ff0-8d29-66db9a23774c",
   "metadata": {},
   "outputs": [],
   "source": [
    "#this will be used to interpolate and hopefully it doesnt break lol\n",
    "def interpolate(wl, normalized_flux):\n",
    "    f = scipy.interpolate.interp1d(wl, normalized_flux, kind='cubic')\n",
    "    return f"
   ]
  },
  {
   "cell_type": "code",
   "execution_count": 80,
   "id": "f799c9ab-e081-494d-97e9-a1aa4520b3c8",
   "metadata": {},
   "outputs": [],
   "source": [
    "#create an array of wavelength values that are spaced apart on a log scale (in order to change it to velocity)\n",
    "def wavelength_log_scale(order = 4):\n",
    "    #stuff needed from other functions up to this point:\n",
    "    wl, flux, wl_values, fl_values = find_echelle_blaze(order)\n",
    "    flux_fit = echelle_blaze_fit(order)\n",
    "    first_normalized_flux = normalized_flux(order)\n",
    "    final_normalized_flux = second_normalized_flux(order)\n",
    "    \n",
    "    f = scipy.interpolate.interp1d(wl, final_normalized_flux, kind='cubic') #need to figure out how to modify this to work properly \n",
    "    \n",
    "    dv = 1 # km/s  (?) why did she choose 1? \n",
    "    C = 299792.458 #km/s\n",
    "    wl_start = min(wl) + 0.2\n",
    "    wl_end = max(wl) - 0.2\n",
    "\n",
    "    CDELT1 = np.log10(dv/C +1) # wavelength grid step size\n",
    "\n",
    "    CRVAL1 = np.log10(wl_start)  # log of starting wavelength value\n",
    "    CRVALN = np.log10(wl_end)    # log of ending wavelength value \n",
    "    NAXIS1 = (CRVALN - CRVAL1) / CDELT1  # total number of points\n",
    "\n",
    "    p = np.arange(NAXIS1) # array of total points\n",
    "    wl2 = 10 ** (CRVAL1 + CDELT1 * p)  # new array of wavelength values\n",
    "\n",
    "    # interpolate flux values onto log spaced wavelength grid\n",
    "    flux2 = f(wl2)\n",
    "    return wl2, flux2\n",
    "    "
   ]
  },
  {
   "cell_type": "code",
   "execution_count": 102,
   "id": "dd4abe71-23a4-44dd-922f-320881234b92",
   "metadata": {},
   "outputs": [],
   "source": [
    "def wavelength_log_scale_interact(order = 4):\n",
    "    wl2, flux2 = wavelength_log_scale(order)\n",
    "    plt.figure(figsize = (12,6))\n",
    "    plt.plot(wl2, flux2)\n",
    "    #plt.plot(wl,normalized_flux)\n",
    "    plt.xlabel('Wavelength [A]')\n",
    "    plt.ylabel('Flux')\n",
    "    plt.title('Data in Constant RV Space; Order:' + str(order))\n",
    "    # plt.ylim(0.9,1)\n",
    "    # plt.xlim(4800,4810)\n",
    "    plt.show()"
   ]
  },
  {
   "cell_type": "code",
   "execution_count": 103,
   "id": "880324bb-574a-45df-81d2-645c4473ddc2",
   "metadata": {},
   "outputs": [
    {
     "data": {
      "application/vnd.jupyter.widget-view+json": {
       "model_id": "f81ebb5237984d3bb5a3eb78f609106b",
       "version_major": 2,
       "version_minor": 0
      },
      "text/plain": [
       "interactive(children=(Play(value=4, description='order', interval=1000, max=120, min=4), Output()), _dom_class…"
      ]
     },
     "metadata": {},
     "output_type": "display_data"
    },
    {
     "data": {
      "text/plain": [
       "<function __main__.wavelength_log_scale_interact(order=4)>"
      ]
     },
     "execution_count": 103,
     "metadata": {},
     "output_type": "execute_result"
    }
   ],
   "source": [
    "widgets.interact(wavelength_log_scale_interact, order = widgets.Play(interval = 1000, min = 4,max = len(wl_raw)-2)) #takes some time to run so account for that in the widget"
   ]
  },
  {
   "cell_type": "markdown",
   "id": "5f80e0d0-d861-4081-8f56-d9a0927ea37e",
   "metadata": {},
   "source": [
    "## Solar Spectrum Stuff\n",
    "Read the empirical solar spectrum using astropy.io.fits. There are two arrays: one is the wavelength from around 3000 angstroms to 12,500 Angstroms, and the second is the corresponding flux array. Truncate it to match the wavelength range of the APF data."
   ]
  },
  {
   "cell_type": "code",
   "execution_count": 86,
   "id": "f38a5f0f-09e6-40b8-8215-8dc9b1d25fb2",
   "metadata": {},
   "outputs": [],
   "source": [
    "solar_spectrum_path = \"C:\\\\Users\\\\alica\\\\workspace\\\\Intro-2-Spectra\\\\analysis\\\\NEID_analysis\\\\nso.fits\"\n",
    "solar_spectrum = fits.open(solar_spectrum_path)"
   ]
  },
  {
   "cell_type": "code",
   "execution_count": 87,
   "id": "049b66eb-2e59-403a-a22a-bc04dbbd4cb7",
   "metadata": {},
   "outputs": [
    {
     "name": "stdout",
     "output_type": "stream",
     "text": [
      "Filename: C:\\Users\\alica\\workspace\\Intro-2-Spectra\\analysis\\NEID_analysis\\nso.fits\n",
      "No.    Name      Ver    Type      Cards   Dimensions   Format\n",
      "  0  PRIMARY       1 PrimaryHDU       6   (1097840,)   float64   \n",
      "  1                1 ImageHDU         6   (1097840,)   float64   \n"
     ]
    }
   ],
   "source": [
    "solar_spectrum.info()"
   ]
  },
  {
   "cell_type": "code",
   "execution_count": 98,
   "id": "3780a3d1-e6f8-446d-abf2-fcfb292194ea",
   "metadata": {},
   "outputs": [],
   "source": [
    "#still need to go over:\n",
    "def solar_spectrum_alterations(order = 4):\n",
    "    wl2, flux2 = wavelength_log_scale(order)\n",
    "    \n",
    "    wl_temp = solar_spectrum[0].data\n",
    "    fl_temp = solar_spectrum[1].data\n",
    "\n",
    "    # wavelengths of APF data -- turning into my NEID data\n",
    "\n",
    "    #this is giving the starting point of our data set:\n",
    "    min_wl = min(wl2) - 8 #why 8 doe\n",
    "    absolute_difference_function = lambda list_value: abs(list_value-min_wl)\n",
    "    w = min(wl_temp.tolist(), key = absolute_difference_function)\n",
    "    min_index = wl_temp.tolist().index(w)\n",
    "\n",
    "    #this gives the end point:\n",
    "    max_wl = max(wl2) + 8\n",
    "    absolute_difference_function = lambda list_value : abs(list_value - max_wl)\n",
    "    w = min(wl_temp.tolist(), key = absolute_difference_function)\n",
    "    max_index = wl_temp.tolist().index(w)\n",
    "\n",
    "    wl_syn_temp = wl_temp[min_index:max_index] #syn for synthetic?\n",
    "    fl_syn_temp = fl_temp[min_index:max_index]\n",
    "    \n",
    "    #plotting\n",
    "    plt.figure(figsize = (12,6))\n",
    "    plt.plot(wl_syn_temp, fl_syn_temp)\n",
    "    plt.xlabel('Wavelength [A]')\n",
    "    plt.ylabel('Flux')\n",
    "    plt.title('Solar Spectrum')\n",
    "    plt.show()"
   ]
  },
  {
   "cell_type": "code",
   "execution_count": 99,
   "id": "bf3dc9a7-ad55-470e-a50e-aaba251338da",
   "metadata": {},
   "outputs": [
    {
     "data": {
      "image/png": "[encoded data removed]",
      "text/plain": [
       "<Figure size 1200x600 with 1 Axes>"
      ]
     },
     "metadata": {},
     "output_type": "display_data"
    }
   ],
   "source": [
    "solar_spectrum_alterations(69)"
   ]
  },
  {
   "cell_type": "code",
   "execution_count": null,
   "id": "9a600d97-5e7d-4fdb-a6b3-749463d5a853",
   "metadata": {},
   "outputs": [],
   "source": []
  }
 ],
 "metadata": {
  "kernelspec": {
   "display_name": "Python 3 (ipykernel)",
   "language": "python",
   "name": "python3"
  },
  "language_info": {
   "codemirror_mode": {
    "name": "ipython",
    "version": 3
   },
   "file_extension": ".py",
   "mimetype": "text/x-python",
   "name": "python",
   "nbconvert_exporter": "python",
   "pygments_lexer": "ipython3",
   "version": "3.9.13"
  }
 },
 "nbformat": 4,
 "nbformat_minor": 5
}
