{
 "cells": [
  {
   "cell_type": "markdown",
   "id": "341d82c4",
   "metadata": {},
   "source": [
    "# Plotting Fraunhofer Lines\n",
    "\n"
   ]
  },
  {
   "cell_type": "markdown",
   "id": "9707d022",
   "metadata": {},
   "source": [
    "## This is what I'm supposed to do: \n",
    "\n",
    "1. Deblaze and normalize the data by dividing out the echelle blaze function\n",
    "2. Transform the wavelength solution of the data to constant RV space\n",
    "3. Download a corresponding synthetic or empirical spectrum and transform its wavelength solution to constant RV space\n",
    "4. Run a chi-squared test on the data and the empirical spectrum to determine doppler shift\n",
    "5. Shift the data to be in the rest frame\n"
   ]
  },
  {
   "cell_type": "markdown",
   "id": "2b947acf",
   "metadata": {},
   "source": [
    "## What I learned from trial 2: \n",
    "\n",
    "1. the data set i was using involves 2d arrays so I need to pick the right wavelength range nextime! Through observation ive decided to go with row 69 of the sciflux 2d array set. \n",
    "\n",
    "2. when i get there, there will be someissues with the normalization, but perhaps the above obersvation will resolve that issue"
   ]
  },
  {
   "cell_type": "markdown",
   "id": "fcb9b7b0",
   "metadata": {},
   "source": [
    "### doing 0: reducing the spectra to be 1D:\n"
   ]
  },
  {
   "cell_type": "code",
   "execution_count": 18,
   "id": "7314f9fb",
   "metadata": {},
   "outputs": [],
   "source": [
    "#importing recommended libraries: \n",
    "\n",
    "from astropy.io import fits\n",
    "import matplotlib.pylab as plt\n",
    "import numpy as np\n",
    "import scipy.interpolate\n",
    "from scipy.interpolate import splev, splrep"
   ]
  },
  {
   "cell_type": "code",
   "execution_count": 19,
   "id": "14f262d3",
   "metadata": {},
   "outputs": [],
   "source": [
    "import seaborn as sns\n",
    "sns.set_theme()"
   ]
  },
  {
   "cell_type": "markdown",
   "id": "b6c00b7d",
   "metadata": {},
   "source": [
    "## Data set source:\n",
    "\n",
    "use the following link: \n",
    "\n",
    "<https://neid.ipac.caltech.edu/search.php>\n",
    "\n",
    "if it doesnt do it automatically, the object is HD 10700 and the data level is 1 \n",
    "\n",
    ">The wavelength range Im looking for is pretty small, but somwhere with 5700 to 5900 angstroms is plenty to account for doppler shift"
   ]
  },
  {
   "cell_type": "code",
   "execution_count": 20,
   "id": "99d99c8f",
   "metadata": {},
   "outputs": [],
   "source": [
    "#reading in data and assigning it to arrays \n",
    "#for windows, the path needs double backslashes when copying as a location\n",
    "\n",
    "star = 'HD 10700' \n",
    "data_path = 'C:\\\\Users\\\\alica\\workspace\\\\Fraunhofer Line Drafts\\\\neidL1_20220118T021017.fits' \n",
    "# APF_flux_path = '/datag/blpd0/datax/apf/rarj.224.fits'\n",
    "\n",
    "file = fits.open(data_path)\n",
    "# fl_file = fits.open(APF_flux_path)\n",
    "wl_raw = file['SCIWAVE'].data\n",
    "flux_raw = file['SCIFLUX'].data\n",
    "\n",
    "#so far I am only working with one file"
   ]
  },
  {
   "cell_type": "code",
   "execution_count": 21,
   "id": "ec795b5c",
   "metadata": {},
   "outputs": [
    {
     "name": "stdout",
     "output_type": "stream",
     "text": [
      "Filename: C:\\Users\\alica\\workspace\\Fraunhofer Line Drafts\\neidL1_20220118T021017.fits\n",
      "No.    Name      Ver    Type      Cards   Dimensions   Format\n",
      "  0  PRIMARY       1 PrimaryHDU     745   ()      \n",
      "  1  SCIFLUX       1 ImageHDU        12   (9216, 122)   float64   \n",
      "  2  SKYFLUX       1 ImageHDU        12   (9216, 122)   float64   \n",
      "  3  CALFLUX       1 ImageHDU        12   (9216, 122)   float64   \n",
      "  4  SCIVAR        1 ImageHDU        12   (9216, 122)   float32   \n",
      "  5  SKYVAR        1 ImageHDU        12   (9216, 122)   float32   \n",
      "  6  CALVAR        1 ImageHDU        12   (9216, 122)   float32   \n",
      "  7  SCIWAVE       1 ImageHDU      2451   (9216, 122)   float64   \n",
      "  8  SKYWAVE       1 ImageHDU      2451   (9216, 122)   float64   \n",
      "  9  CALWAVE       1 ImageHDU      2451   (9216, 122)   float64   \n"
     ]
    }
   ],
   "source": [
    "file.info() #this just reads the table values in a simplifed format"
   ]
  },
  {
   "cell_type": "markdown",
   "id": "9ab20465",
   "metadata": {},
   "source": [
    "_Now note here that the dimensions were obsviously 2d but I skimmed over that and didnt assign my values correctly, or maybe I did who knows that is yet to be determined (Alicia update this when you know whats going on thx)_"
   ]
  },
  {
   "cell_type": "code",
   "execution_count": 22,
   "id": "3a86f014",
   "metadata": {},
   "outputs": [
    {
     "name": "stdout",
     "output_type": "stream",
     "text": [
      "row # 0 [nan nan nan ... nan nan nan]\n",
      "row # 1 [nan nan nan ... nan nan nan]\n",
      "row # 2 [0. 0. 0. ... 0. 0. 0.]\n",
      "row # 3 [3570.94366773 3570.95346759 3570.96326695 ... 3640.05422351 3640.05950523\n",
      " 3640.06478654]\n",
      "row # 4 [3591.94333539 3591.95345391 3591.96357157 ... 3661.51064267 3661.51574775\n",
      " 3661.5208521 ]\n",
      "row # 5 [3613.47983397 3613.48968218 3613.49953003 ... 3683.35192178 3683.3572001\n",
      " 3683.36247795]\n",
      "row # 6 [3635.09951287 3635.10952407 3635.11953464 ... 3705.28990997 3705.29496562\n",
      " 3705.30002037]\n",
      "row # 7 [3656.83234294 3656.84273428 3656.85312458 ... 3727.53853981 3727.54347257\n",
      " 3727.54840422]\n",
      "row # 8 [3679.15733627 3679.16745744 3679.17757806 ... 3750.32452243 3750.32990656\n",
      " 3750.33529018]\n",
      "row # 9 [3701.75996971 3701.76988439 3701.77979885 ... 3773.4386601  3773.44447495\n",
      " 3773.45028979]\n",
      "row # 10 [3724.3714595  3724.38160858 3724.39175719 ... 3796.33909502 3796.34455817\n",
      " 3796.35002083]\n",
      "row # 11 [3747.35868092 3747.36891466 3747.3791479  ... 3819.76820418 3819.77368149\n",
      " 3819.77915828]\n",
      "row # 12 [3770.57686214 3770.5872375  3770.59761229 ... 3843.48616146 3843.49166584\n",
      " 3843.49716967]\n",
      "row # 13 [3794.19326507 3794.20363529 3794.21400501 ... 3867.50916595 3867.51470917\n",
      " 3867.52025186]\n",
      "row # 14 [3818.06641925 3818.07684108 3818.08726243 ... 3891.84346621 3891.84905983\n",
      " 3891.85465293]\n",
      "row # 15 [3842.23297948 3842.24347757 3842.25397515 ... 3916.48801176 3916.49365714\n",
      " 3916.49930203]\n",
      "row # 16 [3866.70911538 3866.71967297 3866.73023005 ... 3941.44509621 3941.45080039\n",
      " 3941.45650411]\n",
      "row # 17 [3891.48660238 3891.49725028 3891.50789765 ... 3966.68590263 3966.69160073\n",
      " 3966.6972983 ]\n",
      "row # 18 [3916.59849708 3916.60921475 3916.61993187 ... 3992.27711175 3992.28284324\n",
      " 3992.28857418]\n",
      "row # 19 [3942.01710115 3942.02792576 3942.03874977 ... 4018.19422552 4018.19998072\n",
      " 4018.20573536]\n",
      "row # 20 [3967.800967   3967.81182561 3967.82268367 ... 4044.46778564 4044.47360148\n",
      " 4044.47941679]\n",
      "row # 21 [3993.90552013 3993.91645944 3993.92739818 ... 4071.06359051 4071.06941847\n",
      " 4071.07524585]\n",
      "row # 22 [4020.36610284 4020.37709171 4020.38808003 ... 4098.03737336 4098.04327387\n",
      " 4098.04917386]\n",
      "row # 23 [4047.16164587 4047.17273728 4047.18382809 ... 4125.33929393 4125.34519553\n",
      " 4125.35109655]\n",
      "row # 24 [4074.34993806 4074.36105408 4074.37216959 ... 4153.06428759 4153.07030044\n",
      " 4153.0763128 ]\n",
      "row # 25 [4101.87150118 4101.8827164  4101.89393106 ... 4181.10695636 4181.11297894\n",
      " 4181.11900097]\n",
      "row # 26 [4129.76984639 4129.78115764 4129.7924683  ... 4209.53339352 4209.53943173\n",
      " 4209.54546936]\n",
      "row # 27 [4158.06177837 4158.07316247 4158.08454598 ... 4238.36578528 4238.3718613\n",
      " 4238.37793673]\n",
      "row # 28 [4186.73910708 4186.75057657 4186.76204547 ... 4267.60189937 4267.60802475\n",
      " 4267.61414956]\n",
      "row # 29 [4215.83231318 4215.84383518 4215.85535661 ... 4297.24551593 4297.25170279\n",
      " 4297.25788909]\n",
      "row # 30 [4245.29682535 4245.30846721 4245.32010845 ... 4327.28654819 4327.29275946\n",
      " 4327.29897014]\n",
      "row # 31 [4275.21192063 4275.22361865 4275.23531606 ... 4357.76169849 4357.7679598\n",
      " 4357.77422052]\n",
      "row # 32 [4305.52253754 4305.53434671 4305.54615524 ... 4388.65859416 4388.6648825\n",
      " 4388.67117023]\n",
      "row # 33 [4336.29124096 4336.30311333 4336.31498508 ... 4420.01178419 4420.01813036\n",
      " 4420.02447593]\n",
      "row # 34 [4367.49423089 4367.50618472 4367.51813792 ... 4451.80589435 4451.81228034\n",
      " 4451.81866572]\n",
      "row # 35 [4399.13940382 4399.15145542 4399.16350638 ... 4484.06772072 4484.07416033\n",
      " 4484.08059934]\n",
      "row # 36 [4431.26136957 4431.27349759 4431.28562497 ... 4516.79876508 4516.80525511\n",
      " 4516.81174455]\n",
      "row # 37 [4463.84500919 4463.85723338 4463.86945693 ... 4550.00716898 4550.01370173\n",
      " 4550.02023386]\n",
      "row # 38 [4496.91978008 4496.93208637 4496.94439202 ... 4583.71061228 4583.71719405\n",
      " 4583.7237752 ]\n",
      "row # 39 [4530.48121162 4530.49361537 4530.50601845 ... 4617.90946077 4617.91607937\n",
      " 4617.92269733]\n",
      "row # 40 [4564.55095756 4564.5634493  4564.57594039 ... 4652.64093036 4652.64761853\n",
      " 4652.65430608]\n",
      "row # 41 [4599.1255049  4599.13810977 4599.15071397 ... 4687.87955798 4687.88628357\n",
      " 4687.89300853]\n",
      "row # 42 [4634.24636586 4634.25905392 4634.27174129 ... 4723.66208314 4723.66885865\n",
      " 4723.67563352]\n",
      "row # 43 [4669.89779906 4669.91058659 4669.92337343 ... 4759.99868525 4760.00551622\n",
      " 4760.01234655]\n",
      "row # 44 [4706.10629461 4706.11917356 4706.13205183 ... 4796.90594824 4796.9128468\n",
      " 4796.91974474]\n",
      "row # 45 [4742.87683043 4742.88981154 4742.90279196 ... 4834.3772674  4834.38421528\n",
      " 4834.39116251]\n",
      "row # 46 [4780.22448696 4780.2375773  4780.25066693 ... 4872.44355207 4872.45055486\n",
      " 4872.45755701]\n",
      "row # 47 [4818.16955445 4818.18274387 4818.19593259 ... 4911.10860538 4911.11565916\n",
      " 4911.12271228]\n",
      "row # 48 [4856.72206458 4856.7353561  4856.74864693 ... 4950.3911165  4950.39821897\n",
      " 4950.40532077]\n",
      "row # 49 [4895.88965895 4895.9030629  4895.91646613 ... 4990.34627764 4990.35348636\n",
      " 4990.36069447]\n",
      "row # 50 [4935.69832371 4935.71184284 4935.72536124 ... 5030.8841191  5030.89133802\n",
      " 5030.89855626]\n",
      "row # 51 [4976.16661943 4976.1802318  4976.19384345 ... 5072.12040347 5072.12768596\n",
      " 5072.13496777]\n",
      "row # 52 [5017.30087847 5017.31459444 5017.3283097  ... 5114.07701182 5114.08441458\n",
      " 5114.09181673]\n",
      "row # 53 [5059.10986754 5059.12371528 5059.13756227 ... 5156.62160721 5156.62895683\n",
      " 5156.6363057 ]\n",
      "row # 54 [5101.63437753 5101.6483295  5101.66228074 ... 5199.98458823 5199.9920546\n",
      " 5199.99952028]\n",
      "row # 55 [5144.96570494 5144.97948219 5144.99325935 ... 5244.05028857 5244.05781897\n",
      " 5244.06534866]\n",
      "row # 56 [5188.82208541 5188.83636209 5188.8506378  ... 5288.86985894 5288.8774558\n",
      " 5288.88505196]\n",
      "row # 57 [5233.58752747 5233.60183498 5233.61614175 ... 5334.46203498 5334.46969396\n",
      " 5334.47735224]\n",
      "row # 58 [5279.10152022 5279.11595598 5279.13039097 ... 5380.84702749 5380.85475369\n",
      " 5380.86247918]\n",
      "row # 59 [5325.41509295 5325.42965391 5325.4442141  ... 5428.04535046 5428.05314277\n",
      " 5428.06093435]\n",
      "row # 60 [5372.54811949 5372.56280826 5372.57749627 ... 5476.07961382 5476.08747455\n",
      " 5476.09533455]\n",
      "row # 61 [5420.52256429 5420.53738444 5420.55220381 ... 5524.97171365 5524.97964558\n",
      " 5524.98757677]\n",
      "row # 62 [5469.36107196 5469.37602847 5469.39098419 ... 5574.74414227 5574.75214422\n",
      " 5574.76014544]\n",
      "row # 63 [5519.08879835 5519.10388563 5519.11897212 ... 5625.42223959 5625.43031425\n",
      " 5625.43838816]\n",
      "row # 64 [5569.72913978 5569.74436123 5569.7595819  ... 5677.02972027 5677.03786755\n",
      " 5677.04601406]\n",
      "row # 65 [5621.30543506 5621.32080042 5621.33616496 ... 5729.59306538 5729.60128923\n",
      " 5729.60951231]\n",
      "row # 66 [5673.8470615  5673.86256829 5673.87807428 ... 5783.13879235 5783.14709318\n",
      " 5783.15539324]\n",
      "row # 67 [5727.3797062  5727.39535742 5727.41100782 ... 5837.69512339 5837.70350186\n",
      " 5837.71187955]\n",
      "row # 68 [5781.93165628 5781.94745764 5781.96325816 ... 5893.29052209 5893.29898169\n",
      " 5893.30744051]\n",
      "row # 69 [5837.53329314 5837.5492447  5837.56519542 ... 5949.95475469 5949.96329397\n",
      " 5949.97183244]\n",
      "row # 70 [5894.21442056 5894.23052479 5894.24662818 ... 6007.71932416 6007.72794623\n",
      " 6007.73656749]\n",
      "row # 71 [5952.00662243 5952.0228862  5952.0391491  ... 6066.616742   6066.62544884\n",
      " 6066.63415487]\n",
      "row # 72 [6010.94344667 6010.95986956 6010.9762916  ... 6126.68048257 6126.68927626\n",
      " 6126.69806913]\n",
      "row # 73 [6071.05847509 6071.07506188 6071.09164779 ... 6187.94538562 6187.95426732\n",
      " 6187.9631482 ]\n",
      "row # 74 [6132.38829016 6132.40504364 6132.42179623 ... 6250.44772047 6250.45669028\n",
      " 6250.46565926]\n",
      "row # 75 [6194.96946357 6194.98638676 6195.00330907 ... 6314.22594188 6314.23500322\n",
      " 6314.24406372]\n",
      "row # 76 [6258.84103497 6258.85813256 6258.87522925 ... 6379.31972383 6379.32888127\n",
      " 6379.33803787]\n",
      "row # 77 [6324.04434133 6324.06161119 6324.07888016 ... 6445.76838808 6445.77763613\n",
      " 6445.78688331]\n",
      "row # 78 [6390.61928825 6390.63674095 6390.65419274 ... 6513.61629197 6513.62563873\n",
      " 6513.63498461]\n",
      "row # 79 [6458.61101642 6458.62865288 6458.64628842 ... 6582.90786018 6582.91730507\n",
      " 6582.92674908]\n",
      "row # 80 [6528.06450818 6528.08233314 6528.10015718 ... 6653.68955104 6653.6990972\n",
      " 6653.70864248]\n",
      "row # 81 [6599.02907507 6599.04708955 6599.06510309 ... 6726.00976007 6726.01940857\n",
      " 6726.02905616]\n",
      "row # 82 [6671.55141881 6671.56963421 6671.58784864 ... 6799.92016284 6799.92991935\n",
      " 6799.93967495]\n",
      "row # 83 [6745.68646892 6745.70488623 6745.72330257 ... 6875.47239519 6875.48226038\n",
      " 6875.49212466]\n",
      "row # 84 [6821.48805161 6821.50667024 6821.52528791 ... 6952.72036543 6952.73032968\n",
      " 6952.74029296]\n",
      "row # 85 [6899.01128796 6899.03011913 6899.0489493  ... 7031.72863993 7031.73872721\n",
      " 7031.74881354]\n",
      "row # 86 [6978.31747017 6978.3365173  6978.35556343 ... 7112.55051675 7112.56072314\n",
      " 7112.57092858]\n",
      "row # 87 [7059.46749835 7059.48676596 7059.50603255 ... 7195.25263316 7195.26295999\n",
      " 7195.27328588]\n",
      "row # 88 [7142.52650265 7142.54599933 7142.56549497 ... 7279.89983647 7279.91028337\n",
      " 7279.92072932]\n",
      "row # 89 [7227.56325389 7227.58298402 7227.60271309 ... 7366.56276522 7366.57333639\n",
      " 7366.58390658]\n",
      "row # 90 [7314.65031192 7314.6702746  7314.69023623 ... 7455.31353574 7455.32423181\n",
      " 7455.3349269 ]\n",
      "row # 91 [7403.86077116 7403.88097586 7403.90117948 ... 7546.22972445 7546.24055233\n",
      " 7546.25137922]\n",
      "row # 92 [7495.27399866 7495.29445096 7495.31490218 ... 7639.39003323 7639.40099415\n",
      " 7639.41195405]\n",
      "row # 93 [7588.97249333 7588.99319911 7589.0139038  ... 7734.87948739 7734.89058314\n",
      " 7734.90167785]\n",
      "row # 94 [7685.04366517 7685.06462908 7685.08559188 ... 7832.78615348 7832.79738768\n",
      " 7832.80862083]\n",
      "row # 95 [7783.57753903 7783.59877028 7783.62000042 ... 7933.20338057 7933.21475987\n",
      " 7933.22613813]\n",
      "row # 96 [7884.67167952 7884.6931832  7884.71468575 ... 8036.22900907 8036.24053554\n",
      " 8036.25206093]\n",
      "row # 97 [7988.42490651 7988.44669304 7988.46847842 ... 8141.965516   8141.97719405\n",
      " 8141.98887101]\n",
      "row # 98 [8094.94616523 8094.96823922 8094.99031206 ... 8250.52105072 8250.53288262\n",
      " 8250.54471343]\n",
      "row # 99 [8204.34575803 8204.3681315  8204.39050378 ... 8362.0119427  8362.02393499\n",
      " 8362.03592618]\n",
      "row # 100 [8316.74274975 8316.76542812 8316.78810529 ... 8476.55600226 8476.56816038\n",
      " 8476.58031739]\n",
      "row # 101 [8432.26270245 8432.28569127 8432.30867888 ... 8594.28110358 8594.29342456\n",
      " 8594.30574439]\n",
      "row # 102 [8551.03667836 8551.05999127 8551.08330295 ... 8715.32525768 8715.33775919\n",
      " 8715.35025956]\n",
      "row # 103 [8673.20316331 8673.22681257 8673.25046056 ... 8839.82470489 8839.83738484\n",
      " 8839.85006364]\n",
      "row # 104 [8798.91271804 8798.93670227 8798.96068522 ... 8967.93469301 8967.94755551\n",
      " 8967.96041683]\n",
      "row # 105 [8928.31699278 8928.34133265 8928.3656712  ... 9099.80917836 9099.8222215\n",
      " 9099.83526342]\n",
      "row # 106 [9061.58623699 9061.6109387  9061.63563908 ... 9235.62619032 9235.63943726\n",
      " 9235.65268298]\n",
      "row # 107 [9198.89090026 9198.91597708 9198.94105256 ... 9375.55355581 9375.56699028\n",
      " 9375.58042349]\n",
      "row # 108 [9340.42448041 9340.44993714 9340.47539249 ... 9519.78895177 9519.80260383\n",
      " 9519.81625465]\n",
      "row # 109 [9486.37628116 9486.40213824 9486.42799394 ... 9668.5294729  9668.54332787\n",
      " 9668.55718154]\n",
      "row # 110 [9636.96968071 9636.99594706 9637.02221199 ... 9821.99191845 9822.00598777\n",
      " 9822.02005574]\n",
      "row # 111 [9792.43215729 9792.45882507 9792.48549144 ... 9980.40851135 9980.42282856\n",
      " 9980.43714448]\n",
      "row # 112 [ 9952.97397867  9953.00109502  9953.02820988 ... 10143.92199137\n",
      " 10143.93639535 10143.95079783]\n",
      "row # 113 [10118.939146   10118.96654138 10118.99393555 ... 10313.29381926\n",
      " 10313.30896577 10313.32411138]\n",
      "row # 114 [10290.30680745 10290.3349949  10290.3631806  ... 10487.69254183\n",
      " 10487.70727188 10487.72200014]\n",
      "row # 115 [10467.80727494 10467.8357914  10467.86430633 ... 10668.95725922\n",
      " 10668.97304371 10668.98882738]\n",
      "row # 116 [10651.78153717 10651.809685   10651.83783255 ... 10855.92975442\n",
      " 10855.94541926 10855.9610829 ]\n",
      "row # 117 [10842.53957689 10842.56760135 10842.59562632 ... 11049.94100877\n",
      " 11049.95743827 11049.97386737]\n",
      "row # 118 [0. 0. 0. ... 0. 0. 0.]\n",
      "row # 119 [0. 0. 0. ... 0. 0. 0.]\n",
      "row # 120 [0. 0. 0. ... 0. 0. 0.]\n",
      "row # 121 [nan nan nan ... nan nan nan]\n"
     ]
    }
   ],
   "source": [
    "#determing which row i want for the target wavelenght range \n",
    "c = 0\n",
    "for i in wl_raw:\n",
    "    print('row #',c,i)\n",
    "    c+=1"
   ]
  },
  {
   "cell_type": "code",
   "execution_count": 23,
   "id": "2dedbfd9",
   "metadata": {},
   "outputs": [],
   "source": [
    "#it seems the row we want is 69 bruv\n",
    "\n",
    "target_wl_range = wl_raw[69]"
   ]
  },
  {
   "cell_type": "code",
   "execution_count": 24,
   "id": "63c443da",
   "metadata": {},
   "outputs": [
    {
     "data": {
      "text/plain": [
       "array([5837.53329314, 5837.5492447 , 5837.56519542, ..., 5949.95475469,\n",
       "       5949.96329397, 5949.97183244])"
      ]
     },
     "execution_count": 24,
     "metadata": {},
     "output_type": "execute_result"
    }
   ],
   "source": [
    "target_wl_range #good nice and working "
   ]
  },
  {
   "cell_type": "code",
   "execution_count": 25,
   "id": "eb62d2ae",
   "metadata": {},
   "outputs": [
    {
     "data": {
      "text/plain": [
       "9216"
      ]
     },
     "execution_count": 25,
     "metadata": {},
     "output_type": "execute_result"
    }
   ],
   "source": [
    "len(target_wl_range) #for future reference "
   ]
  },
  {
   "cell_type": "code",
   "execution_count": 26,
   "id": "9f2a5450",
   "metadata": {},
   "outputs": [],
   "source": [
    "#we want the corresponding flux, so \n",
    "\n",
    "target_flux_range = flux_raw[69]"
   ]
  },
  {
   "cell_type": "code",
   "execution_count": 27,
   "id": "db3c1471",
   "metadata": {},
   "outputs": [
    {
     "data": {
      "text/plain": [
       "array([3828.50052337, 3596.24330353, 3830.89301819, ..., 5165.02014749,\n",
       "       5189.70517719, 5166.15802953])"
      ]
     },
     "execution_count": 27,
     "metadata": {},
     "output_type": "execute_result"
    }
   ],
   "source": [
    "target_flux_range"
   ]
  },
  {
   "cell_type": "code",
   "execution_count": 28,
   "id": "5998acbc",
   "metadata": {},
   "outputs": [
    {
     "data": {
      "text/plain": [
       "9216"
      ]
     },
     "execution_count": 28,
     "metadata": {},
     "output_type": "execute_result"
    }
   ],
   "source": [
    "len(target_flux_range) #lenghts are the same so this is easy money "
   ]
  },
  {
   "cell_type": "markdown",
   "id": "9f2898cb",
   "metadata": {},
   "source": [
    "### Below is the given graph for the wavelength vs pixel count off of the NEID archive for the fits file i am using"
   ]
  },
  {
   "cell_type": "markdown",
   "id": "30e683f0",
   "metadata": {},
   "source": [
    "![chart_Spectrum-for-neidL1_20220118T021017.fits.png](attachment:chart_Spectrum-for-neidL1_20220118T021017.fits.png)"
   ]
  },
  {
   "cell_type": "code",
   "execution_count": 29,
   "id": "076f26f9",
   "metadata": {},
   "outputs": [],
   "source": [
    "#well its not working rn but it wasnt important in the first place for this task anyway just something nice to look at "
   ]
  },
  {
   "cell_type": "code",
   "execution_count": 30,
   "id": "bff58ddb",
   "metadata": {},
   "outputs": [
    {
     "data": {
      "image/png": "[encoded data removed]",
      "text/plain": [
       "<Figure size 1800x600 with 1 Axes>"
      ]
     },
     "metadata": {},
     "output_type": "display_data"
    }
   ],
   "source": [
    "#next block (this plots the raw data hopefully)\n",
    "\n",
    "plt.rcParams[\"figure.figsize\"] = (18,6)\n",
    "plt.rcParams.update({'font.size': 20})\n",
    "\n",
    "order = 45\n",
    "wl = target_wl_range[order]\n",
    "flux = target_flux_range[order] #reassigned below, so this will be fixed -- just making a note --\n",
    "plt.plot(wl,flux)\n",
    "\n",
    "plt.title('Raw NEID Spectrum of ' + star + ': Order ' + str(order)) #fix title \n",
    "plt.xlabel('Wavelength [A]')\n",
    "plt.ylabel('Flux')\n",
    "plt.show()\n"
   ]
  },
  {
   "cell_type": "code",
   "execution_count": null,
   "id": "48293d30",
   "metadata": {},
   "outputs": [],
   "source": []
  }
 ],
 "metadata": {
  "kernelspec": {
   "display_name": "Python 3 (ipykernel)",
   "language": "python",
   "name": "python3"
  },
  "language_info": {
   "codemirror_mode": {
    "name": "ipython",
    "version": 3
   },
   "file_extension": ".py",
   "mimetype": "text/x-python",
   "name": "python",
   "nbconvert_exporter": "python",
   "pygments_lexer": "ipython3",
   "version": "3.9.13"
  }
 },
 "nbformat": 4,
 "nbformat_minor": 5
}
