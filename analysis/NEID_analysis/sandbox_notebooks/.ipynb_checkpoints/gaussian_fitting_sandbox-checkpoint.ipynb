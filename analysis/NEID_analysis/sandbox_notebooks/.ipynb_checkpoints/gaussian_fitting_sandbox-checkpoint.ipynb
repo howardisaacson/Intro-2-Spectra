{
 "cells": [
  {
   "cell_type": "markdown",
   "id": "76e099a8-bf74-46d9-a568-3f4bbfb1dfc5",
   "metadata": {},
   "source": [
    "# Gaussian Fitting Sandbox"
   ]
  },
  {
   "cell_type": "markdown",
   "id": "5efe1b83-ae28-4a1f-96b8-fa1e5f877646",
   "metadata": {},
   "source": [
    "The jist of this notebook is to mess around with the gaussian fitting technique implemented in PSF_finder_one_order without accidentally breaking anything. Same dataset will be used, and the starting points will be identitcal.\n",
    "\n",
    "The aim is to implement a minimum threshold for candidacy and work my way up to no threshold (if possible) and debug as I decrease the threshold. "
   ]
  },
  {
   "cell_type": "markdown",
   "id": "897185a0-47e3-43b2-8bee-ab412cbac564",
   "metadata": {},
   "source": [
    "_Sources of Error and Places to Improve_\n",
    "1. add assert statements throughout for debugging \n",
    "2. work on fine-tuning max and min requirements (without breaking code more)\n",
    "> im going to try using np.percentile if this doesnt work generally"
   ]
  },
  {
   "cell_type": "code",
   "execution_count": 1,
   "id": "d96ca631-7b3d-415c-b7d1-ebca55791297",
   "metadata": {},
   "outputs": [
    {
     "ename": "KeyboardInterrupt",
     "evalue": "",
     "output_type": "error",
     "traceback": [
      "\u001b[1;31m---------------------------------------------------------------------------\u001b[0m",
      "\u001b[1;31mKeyboardInterrupt\u001b[0m                         Traceback (most recent call last)",
      "\u001b[1;32m~\\AppData\\Local\\Temp\\ipykernel_20936\\1940217333.py\u001b[0m in \u001b[0;36m<module>\u001b[1;34m\u001b[0m\n\u001b[1;32m----> 1\u001b[1;33m \u001b[1;32mfrom\u001b[0m \u001b[0mscipy\u001b[0m\u001b[1;33m.\u001b[0m\u001b[0moptimize\u001b[0m \u001b[1;32mimport\u001b[0m \u001b[0mcurve_fit\u001b[0m\u001b[1;33m\u001b[0m\u001b[1;33m\u001b[0m\u001b[0m\n\u001b[0m\u001b[0;32m      2\u001b[0m \u001b[1;32mimport\u001b[0m \u001b[0mrandom\u001b[0m\u001b[1;33m\u001b[0m\u001b[1;33m\u001b[0m\u001b[0m\n\u001b[0;32m      3\u001b[0m \u001b[1;33m\u001b[0m\u001b[0m\n\u001b[0;32m      4\u001b[0m \u001b[1;32mfrom\u001b[0m \u001b[0mastropy\u001b[0m\u001b[1;33m.\u001b[0m\u001b[0mio\u001b[0m \u001b[1;32mimport\u001b[0m \u001b[0mfits\u001b[0m\u001b[1;33m\u001b[0m\u001b[1;33m\u001b[0m\u001b[0m\n\u001b[0;32m      5\u001b[0m \u001b[1;32mimport\u001b[0m \u001b[0mnumpy\u001b[0m \u001b[1;32mas\u001b[0m \u001b[0mnp\u001b[0m\u001b[1;33m\u001b[0m\u001b[1;33m\u001b[0m\u001b[0m\n",
      "\u001b[1;32m~\\anaconda3\\lib\\site-packages\\scipy\\optimize\\__init__.py\u001b[0m in \u001b[0;36m<module>\u001b[1;34m\u001b[0m\n\u001b[0;32m    419\u001b[0m                            Bounds)\n\u001b[0;32m    420\u001b[0m \u001b[1;32mfrom\u001b[0m \u001b[1;33m.\u001b[0m\u001b[0m_hessian_update_strategy\u001b[0m \u001b[1;32mimport\u001b[0m \u001b[0mHessianUpdateStrategy\u001b[0m\u001b[1;33m,\u001b[0m \u001b[0mBFGS\u001b[0m\u001b[1;33m,\u001b[0m \u001b[0mSR1\u001b[0m\u001b[1;33m\u001b[0m\u001b[1;33m\u001b[0m\u001b[0m\n\u001b[1;32m--> 421\u001b[1;33m \u001b[1;32mfrom\u001b[0m \u001b[1;33m.\u001b[0m\u001b[0m_shgo\u001b[0m \u001b[1;32mimport\u001b[0m \u001b[0mshgo\u001b[0m\u001b[1;33m\u001b[0m\u001b[1;33m\u001b[0m\u001b[0m\n\u001b[0m\u001b[0;32m    422\u001b[0m \u001b[1;32mfrom\u001b[0m \u001b[1;33m.\u001b[0m\u001b[0m_dual_annealing\u001b[0m \u001b[1;32mimport\u001b[0m \u001b[0mdual_annealing\u001b[0m\u001b[1;33m\u001b[0m\u001b[1;33m\u001b[0m\u001b[0m\n\u001b[0;32m    423\u001b[0m \u001b[1;32mfrom\u001b[0m \u001b[1;33m.\u001b[0m\u001b[0m_qap\u001b[0m \u001b[1;32mimport\u001b[0m \u001b[0mquadratic_assignment\u001b[0m\u001b[1;33m\u001b[0m\u001b[1;33m\u001b[0m\u001b[0m\n",
      "\u001b[1;32m~\\anaconda3\\lib\\site-packages\\scipy\\optimize\\_shgo.py\u001b[0m in \u001b[0;36m<module>\u001b[1;34m\u001b[0m\n\u001b[0;32m      7\u001b[0m \u001b[1;32mimport\u001b[0m \u001b[0mlogging\u001b[0m\u001b[1;33m\u001b[0m\u001b[1;33m\u001b[0m\u001b[0m\n\u001b[0;32m      8\u001b[0m \u001b[1;32mimport\u001b[0m \u001b[0mwarnings\u001b[0m\u001b[1;33m\u001b[0m\u001b[1;33m\u001b[0m\u001b[0m\n\u001b[1;32m----> 9\u001b[1;33m \u001b[1;32mfrom\u001b[0m \u001b[0mscipy\u001b[0m \u001b[1;32mimport\u001b[0m \u001b[0mspatial\u001b[0m\u001b[1;33m\u001b[0m\u001b[1;33m\u001b[0m\u001b[0m\n\u001b[0m\u001b[0;32m     10\u001b[0m \u001b[1;32mfrom\u001b[0m \u001b[0mscipy\u001b[0m\u001b[1;33m.\u001b[0m\u001b[0moptimize\u001b[0m \u001b[1;32mimport\u001b[0m \u001b[0mOptimizeResult\u001b[0m\u001b[1;33m,\u001b[0m \u001b[0mminimize\u001b[0m\u001b[1;33m,\u001b[0m \u001b[0mBounds\u001b[0m\u001b[1;33m\u001b[0m\u001b[1;33m\u001b[0m\u001b[0m\n\u001b[0;32m     11\u001b[0m \u001b[1;32mfrom\u001b[0m \u001b[0mscipy\u001b[0m\u001b[1;33m.\u001b[0m\u001b[0moptimize\u001b[0m\u001b[1;33m.\u001b[0m\u001b[0m_constraints\u001b[0m \u001b[1;32mimport\u001b[0m \u001b[0mnew_bounds_to_old\u001b[0m\u001b[1;33m\u001b[0m\u001b[1;33m\u001b[0m\u001b[0m\n",
      "\u001b[1;32m~\\anaconda3\\lib\\importlib\\_bootstrap.py\u001b[0m in \u001b[0;36m_handle_fromlist\u001b[1;34m(module, fromlist, import_, recursive)\u001b[0m\n",
      "\u001b[1;32m~\\anaconda3\\lib\\site-packages\\scipy\\__init__.py\u001b[0m in \u001b[0;36m__getattr__\u001b[1;34m(name)\u001b[0m\n\u001b[0;32m    209\u001b[0m     \u001b[1;32mdef\u001b[0m \u001b[0m__getattr__\u001b[0m\u001b[1;33m(\u001b[0m\u001b[0mname\u001b[0m\u001b[1;33m)\u001b[0m\u001b[1;33m:\u001b[0m\u001b[1;33m\u001b[0m\u001b[1;33m\u001b[0m\u001b[0m\n\u001b[0;32m    210\u001b[0m         \u001b[1;32mif\u001b[0m \u001b[0mname\u001b[0m \u001b[1;32min\u001b[0m \u001b[0msubmodules\u001b[0m\u001b[1;33m:\u001b[0m\u001b[1;33m\u001b[0m\u001b[1;33m\u001b[0m\u001b[0m\n\u001b[1;32m--> 211\u001b[1;33m             \u001b[1;32mreturn\u001b[0m \u001b[0m_importlib\u001b[0m\u001b[1;33m.\u001b[0m\u001b[0mimport_module\u001b[0m\u001b[1;33m(\u001b[0m\u001b[1;34mf'scipy.{name}'\u001b[0m\u001b[1;33m)\u001b[0m\u001b[1;33m\u001b[0m\u001b[1;33m\u001b[0m\u001b[0m\n\u001b[0m\u001b[0;32m    212\u001b[0m         \u001b[1;32melse\u001b[0m\u001b[1;33m:\u001b[0m\u001b[1;33m\u001b[0m\u001b[1;33m\u001b[0m\u001b[0m\n\u001b[0;32m    213\u001b[0m             \u001b[1;32mtry\u001b[0m\u001b[1;33m:\u001b[0m\u001b[1;33m\u001b[0m\u001b[1;33m\u001b[0m\u001b[0m\n",
      "\u001b[1;32m~\\anaconda3\\lib\\importlib\\__init__.py\u001b[0m in \u001b[0;36mimport_module\u001b[1;34m(name, package)\u001b[0m\n\u001b[0;32m    125\u001b[0m                 \u001b[1;32mbreak\u001b[0m\u001b[1;33m\u001b[0m\u001b[1;33m\u001b[0m\u001b[0m\n\u001b[0;32m    126\u001b[0m             \u001b[0mlevel\u001b[0m \u001b[1;33m+=\u001b[0m \u001b[1;36m1\u001b[0m\u001b[1;33m\u001b[0m\u001b[1;33m\u001b[0m\u001b[0m\n\u001b[1;32m--> 127\u001b[1;33m     \u001b[1;32mreturn\u001b[0m \u001b[0m_bootstrap\u001b[0m\u001b[1;33m.\u001b[0m\u001b[0m_gcd_import\u001b[0m\u001b[1;33m(\u001b[0m\u001b[0mname\u001b[0m\u001b[1;33m[\u001b[0m\u001b[0mlevel\u001b[0m\u001b[1;33m:\u001b[0m\u001b[1;33m]\u001b[0m\u001b[1;33m,\u001b[0m \u001b[0mpackage\u001b[0m\u001b[1;33m,\u001b[0m \u001b[0mlevel\u001b[0m\u001b[1;33m)\u001b[0m\u001b[1;33m\u001b[0m\u001b[1;33m\u001b[0m\u001b[0m\n\u001b[0m\u001b[0;32m    128\u001b[0m \u001b[1;33m\u001b[0m\u001b[0m\n\u001b[0;32m    129\u001b[0m \u001b[1;33m\u001b[0m\u001b[0m\n",
      "\u001b[1;32m~\\anaconda3\\lib\\site-packages\\scipy\\spatial\\__init__.py\u001b[0m in \u001b[0;36m<module>\u001b[1;34m\u001b[0m\n\u001b[0;32m    103\u001b[0m \"\"\"\n\u001b[0;32m    104\u001b[0m \u001b[1;33m\u001b[0m\u001b[0m\n\u001b[1;32m--> 105\u001b[1;33m \u001b[1;32mfrom\u001b[0m \u001b[1;33m.\u001b[0m\u001b[0m_kdtree\u001b[0m \u001b[1;32mimport\u001b[0m \u001b[1;33m*\u001b[0m\u001b[1;33m\u001b[0m\u001b[1;33m\u001b[0m\u001b[0m\n\u001b[0m\u001b[0;32m    106\u001b[0m \u001b[1;32mfrom\u001b[0m \u001b[1;33m.\u001b[0m\u001b[0m_ckdtree\u001b[0m \u001b[1;32mimport\u001b[0m \u001b[1;33m*\u001b[0m\u001b[1;33m\u001b[0m\u001b[1;33m\u001b[0m\u001b[0m\n\u001b[0;32m    107\u001b[0m \u001b[1;32mfrom\u001b[0m \u001b[1;33m.\u001b[0m\u001b[0m_qhull\u001b[0m \u001b[1;32mimport\u001b[0m \u001b[1;33m*\u001b[0m\u001b[1;33m\u001b[0m\u001b[1;33m\u001b[0m\u001b[0m\n",
      "\u001b[1;32m~\\anaconda3\\lib\\site-packages\\scipy\\spatial\\_kdtree.py\u001b[0m in \u001b[0;36m<module>\u001b[1;34m\u001b[0m\n\u001b[0;32m      3\u001b[0m \u001b[1;32mimport\u001b[0m \u001b[0mnumpy\u001b[0m \u001b[1;32mas\u001b[0m \u001b[0mnp\u001b[0m\u001b[1;33m\u001b[0m\u001b[1;33m\u001b[0m\u001b[0m\n\u001b[0;32m      4\u001b[0m \u001b[1;32mimport\u001b[0m \u001b[0mwarnings\u001b[0m\u001b[1;33m\u001b[0m\u001b[1;33m\u001b[0m\u001b[0m\n\u001b[1;32m----> 5\u001b[1;33m \u001b[1;32mfrom\u001b[0m \u001b[1;33m.\u001b[0m\u001b[0m_ckdtree\u001b[0m \u001b[1;32mimport\u001b[0m \u001b[0mcKDTree\u001b[0m\u001b[1;33m,\u001b[0m \u001b[0mcKDTreeNode\u001b[0m\u001b[1;33m\u001b[0m\u001b[1;33m\u001b[0m\u001b[0m\n\u001b[0m\u001b[0;32m      6\u001b[0m \u001b[1;33m\u001b[0m\u001b[0m\n\u001b[0;32m      7\u001b[0m __all__ = ['minkowski_distance_p', 'minkowski_distance',\n",
      "\u001b[1;32m~\\anaconda3\\lib\\importlib\\_bootstrap.py\u001b[0m in \u001b[0;36mparent\u001b[1;34m(self)\u001b[0m\n",
      "\u001b[1;31mKeyboardInterrupt\u001b[0m: "
     ]
    }
   ],
   "source": [
    "from scipy.optimize import curve_fit\n",
    "import random\n",
    "\n",
    "from astropy.io import fits\n",
    "import numpy as np\n",
    "import scipy.interpolate\n",
    "from scipy.interpolate import splev, splrep\n",
    "\n",
    "import matplotlib.pyplot as plt\n",
    "import seaborn as sns\n",
    "sns.set_theme()\n",
    "\n",
    "import pandas as pd"
   ]
  },
  {
   "cell_type": "code",
   "execution_count": null,
   "id": "7705c5bd-79d2-4e7f-8baa-f1618ffac821",
   "metadata": {},
   "outputs": [],
   "source": [
    "import ipywidgets as widgets"
   ]
  },
  {
   "cell_type": "code",
   "execution_count": null,
   "id": "b7fba42a-2a77-4004-9cc4-6fa31494f5fa",
   "metadata": {},
   "outputs": [],
   "source": [
    "data = pd.read_csv(\"C:\\\\Users\\\\alica\\\\workspace\\\\Intro-2-Spectra\\\\analysis\\\\NEID_analysis\\\\tau_ceti_shifted_spectrum.zip\")\n",
    "pd.set_option('display.max_rows', 10)\n",
    "display(data)"
   ]
  },
  {
   "cell_type": "code",
   "execution_count": null,
   "id": "2d584d39-ad78-49e6-a16e-19ad41078459",
   "metadata": {},
   "outputs": [],
   "source": [
    "#reading in data: \n",
    "wl = data['shifted wavelength'].to_numpy()\n",
    "fl = data['shifted flux'].to_numpy()"
   ]
  },
  {
   "cell_type": "code",
   "execution_count": null,
   "id": "5d540891-aad9-41ea-8d89-70f186c62c94",
   "metadata": {},
   "outputs": [],
   "source": [
    "#visualization:\n",
    "plt.figure(figsize = (17,6))\n",
    "plt.plot(wl,fl)\n",
    "plt.xlabel('wavelength (A)')\n",
    "plt.ylabel('Normalized flux')\n",
    "plt.title('Normalized Flux of Tau Ceti')\n",
    "#plt.xlim(5884,5902)\n",
    "plt.show()"
   ]
  },
  {
   "cell_type": "markdown",
   "id": "9b0de223-9dcd-4745-b8c7-b64c1dd5ea4e",
   "metadata": {
    "tags": []
   },
   "source": [
    "## Finding Minima"
   ]
  },
  {
   "cell_type": "code",
   "execution_count": null,
   "id": "b357540a-6384-43e2-a33d-516037b20624",
   "metadata": {},
   "outputs": [],
   "source": [
    "def minima_scanner_simple(x,y):\n",
    "    '''Finds minima through basic defintion: neighboring points are greater. takes in arrays of x and y values'''\n",
    "    min_x = []\n",
    "    min_y = []\n",
    "    for i in np.arange(1,len(x)-1):\n",
    "        if y[i-1] > y[i] and y[i] < y[i+1]:\n",
    "            min_x.append(x[i])\n",
    "            min_y.append(y[i]) \n",
    "    return min_x, min_y "
   ]
  },
  {
   "cell_type": "code",
   "execution_count": null,
   "id": "463420ac-9879-4ef3-bb3d-6945a7b53e35",
   "metadata": {},
   "outputs": [],
   "source": [
    "min_x, min_y = minima_scanner_simple(wl,fl)"
   ]
  },
  {
   "cell_type": "code",
   "execution_count": null,
   "id": "0411177d-dbde-4ea9-b017-13ef6bfa3d3c",
   "metadata": {},
   "outputs": [],
   "source": [
    "#visualization:\n",
    "plt.figure(figsize = (17,6))\n",
    "plt.plot(wl,fl, label = 'raw data')\n",
    "plt.scatter(min_x, min_y, c = 'red', s= 10,label = 'Minima_scanner_simple')\n",
    "plt.xlabel('wavelength (A)')\n",
    "plt.ylabel('Normalized flux')\n",
    "plt.title('Normalized Flux of Tau Ceti')\n",
    "#plt.xlim(5884,5902)\n",
    "plt.legend()\n",
    "plt.show()\n"
   ]
  },
  {
   "cell_type": "code",
   "execution_count": null,
   "id": "b136d3ee-2f8f-4b5b-8690-e7b2a6a5295c",
   "metadata": {},
   "outputs": [],
   "source": [
    "def minima_scanner_with_threshold(x,y, threshold):\n",
    "    ''' sets minima flux value to be considered for a minima (threshold). must be less than 1'''\n",
    "    min_x = []\n",
    "    min_y = []\n",
    "    for i in np.arange(1, len(x)-1):\n",
    "        if y[i] < threshold: \n",
    "            if y[i-1] > y[i] and y[i] < y[i+1]:\n",
    "                min_x.append(x[i])\n",
    "                min_y.append(y[i]) \n",
    "    return min_x, min_y   "
   ]
  },
  {
   "cell_type": "code",
   "execution_count": null,
   "id": "097e95a5-c4f6-4eda-b8a5-42fab4a9e17d",
   "metadata": {},
   "outputs": [],
   "source": [
    "min_x_thresh, min_y_thresh = minima_scanner_with_threshold(wl,fl,0.2)"
   ]
  },
  {
   "cell_type": "code",
   "execution_count": null,
   "id": "3d82d441-01ed-484c-936d-e0a9b64b142d",
   "metadata": {},
   "outputs": [],
   "source": [
    "#visualization:\n",
    "plt.figure(figsize = (17,6))\n",
    "plt.plot(wl,fl, label = 'raw data')\n",
    "plt.scatter(min_x_thresh, min_y_thresh, c = 'red', s= 10,label = 'Minima_scanner_simple')\n",
    "plt.xlabel('wavelength (A)')\n",
    "plt.ylabel('Normalized flux')\n",
    "plt.title('Normalized Flux of Tau Ceti')\n",
    "#plt.xlim(5884,5902)\n",
    "plt.legend()\n",
    "plt.show()"
   ]
  },
  {
   "cell_type": "code",
   "execution_count": null,
   "id": "ecba48b0-fddd-4901-baeb-431572e9a8dd",
   "metadata": {},
   "outputs": [],
   "source": [
    "slider = widgets.FloatSlider(min = 0.1, max = 0.8, step = 0.1)"
   ]
  },
  {
   "cell_type": "code",
   "execution_count": null,
   "id": "ff9d9a77-1bf1-445c-9c28-02b26046b018",
   "metadata": {},
   "outputs": [],
   "source": [
    "#plots mins at different thresholds\n",
    "# for i in np.linspace(0.1, 0.8, 10):\n",
    "#     minx, miny = minima_scanner_with_threshold(wl,fl, i)\n",
    "#     plt.figure(figsize = (5,1))\n",
    "#     plt.plot(wl, fl)\n",
    "#     plt.scatter(minx,miny, c = 'orange',s = 3)\n",
    "#     plt.title('Threshold of ' + str(i))\n",
    "#     plt.show()"
   ]
  },
  {
   "cell_type": "markdown",
   "id": "811ef581-98d8-4f9e-9af0-028cb7da276f",
   "metadata": {},
   "source": [
    "### Observations:\n",
    "\n",
    "1. the lowest flux values correspond to the Calcium lines or the flux correction for nan values\n",
    "> this leads me to believe that there should be a min and max threshold for gaussian candidates, as perhaps these low flux values are caused by extreme, broad absorption features, they for the most part wont be the features we are looking for"
   ]
  },
  {
   "cell_type": "code",
   "execution_count": null,
   "id": "7e2e7695-0215-4493-a01a-5771c7879b9d",
   "metadata": {},
   "outputs": [],
   "source": [
    "#this time, threshold will be an array:\n",
    "def minima_scanner_with_thresholds(x,y, thresholds):\n",
    "    ''' sets minima flux value to be considered for a minima (threshold). must be less than 1'''\n",
    "    min_x = []\n",
    "    min_y = []\n",
    "    for i in np.arange(1, len(x)-1):\n",
    "        if y[i] > thresholds[0] and y[i] < thresholds[1]: \n",
    "            if y[i-1] > y[i] and y[i] < y[i+1]:\n",
    "                min_x.append(x[i])\n",
    "                min_y.append(y[i]) \n",
    "    return min_x, min_y   "
   ]
  },
  {
   "cell_type": "code",
   "execution_count": null,
   "id": "b2b92b9c-7996-46b2-a84e-48ce96f8d655",
   "metadata": {},
   "outputs": [],
   "source": [
    "minx, miny = minima_scanner_with_thresholds(wl,fl, [0.2,0.90])\n",
    "\n",
    "#minx, miny = minima_scanner_with_thresholds(wl,fl, i)\n",
    "plt.figure(figsize = (17,6))\n",
    "plt.plot(wl, fl)\n",
    "plt.scatter(minx,miny, c = 'orange')\n",
    "plt.title('Threshold of Flux:  ' + str([0.2,0.9]))\n",
    "plt.xlabel('wavelength (A)')\n",
    "plt.ylabel('Normalized flux')\n",
    "plt.show()"
   ]
  },
  {
   "cell_type": "markdown",
   "id": "1c60f3dd-bf9c-4a0e-9920-7a85e3b27e90",
   "metadata": {},
   "source": [
    "_through observation it seems the given threshold range is the best, only time will tell if this is good enough!_"
   ]
  },
  {
   "cell_type": "markdown",
   "id": "68513aca-1a89-4614-aaa1-349f39d0a0ab",
   "metadata": {},
   "source": [
    "## Finding Maxima\n",
    "\n",
    "thought: Can we put widgets in a function and it works how i think it will?"
   ]
  },
  {
   "cell_type": "code",
   "execution_count": null,
   "id": "7db54533-16d3-48e8-9150-d77353a0e67b",
   "metadata": {},
   "outputs": [],
   "source": [
    "def simple_maxima(x, y, limit):\n",
    "    ''' this requires min values and assumes a threshold has been applied'''\n",
    "    l = limit #minimum value to be considered as a maxima \n",
    "    max_x = []\n",
    "    max_y = []\n",
    "    for i in np.arange(1, len(x)-1):\n",
    "        if y[i] > l and y[i]:\n",
    "            if y[i-1] < y[i] and y[i] > y[i+1]:\n",
    "                max_x.append(x[i])\n",
    "                max_y.append(y[i])\n",
    "    return max_x, max_y\n",
    "    \n",
    "    "
   ]
  },
  {
   "cell_type": "code",
   "execution_count": null,
   "id": "20400370-5270-4923-8a32-027196bf34d6",
   "metadata": {},
   "outputs": [],
   "source": [
    "def find_maxima(x, y, minx, miny): ## this could be like, find the ones that occur closest to a minima and then make that the bois\n",
    "    return ..."
   ]
  },
  {
   "cell_type": "code",
   "execution_count": null,
   "id": "d69a1024-8a87-4b6c-969a-28f8f30011b5",
   "metadata": {},
   "outputs": [],
   "source": [
    "maxx, maxy = simple_maxima(wl,fl, 0.92)"
   ]
  },
  {
   "cell_type": "code",
   "execution_count": null,
   "id": "0e5054ba-3fc6-4fc6-ae57-85c3fa9be1e4",
   "metadata": {},
   "outputs": [],
   "source": [
    "#visualization:\n",
    "plt.figure(figsize = (17,6))\n",
    "plt.plot(wl,fl)\n",
    "plt.scatter(maxx, maxy,s = 5, c = 'orange', label = 'maxima')\n",
    "plt.scatter(minx,miny,s = 8, c = 'green', label = 'minima')\n",
    "plt.xlabel('wavelength (A)')\n",
    "plt.ylabel('Normalized flux')\n",
    "plt.title('Normalized Flux of Tau Ceti')\n",
    "plt.legend()\n",
    "#plt.xlim(5884,5902)\n",
    "plt.show()"
   ]
  },
  {
   "cell_type": "markdown",
   "id": "0a90f110-2122-4e68-91aa-d08e312e721d",
   "metadata": {},
   "source": [
    "_this is giving helllaa maxima, but that might be good for now (unless it times out when we add more data points. Let's zoom in and do some smaller scale maxima searches_"
   ]
  },
  {
   "cell_type": "code",
   "execution_count": null,
   "id": "f978a0d3-051c-44ff-8516-db79e98761a2",
   "metadata": {},
   "outputs": [],
   "source": [
    "#visualization:\n",
    "plt.figure(figsize = (17,6))\n",
    "plt.plot(wl,fl)\n",
    "plt.scatter(maxx, maxy,s = 10, c = 'orange', label = 'maxima')\n",
    "plt.scatter(minx,miny,s = 8, c = 'green', label = 'minima')\n",
    "plt.xlabel('wavelength (A)')\n",
    "plt.ylabel('Normalized flux')\n",
    "plt.title('Normalized Flux of Tau Ceti')\n",
    "plt.legend()\n",
    "plt.xlim(5884,5902)\n",
    "plt.show()"
   ]
  },
  {
   "cell_type": "code",
   "execution_count": null,
   "id": "b4c625ba-2607-405e-b5ee-20183b85a482",
   "metadata": {},
   "outputs": [],
   "source": [
    "def find_range(x,y, intial_guess = False):\n",
    "    ''' Given the parameters of a spectra, it will find the ranges of possible gaussian candidates. \n",
    "    the aim is for it to also give inital parameters estimations for curve fitting'''\n",
    "    ranges = []\n",
    "    outs = []\n",
    "    minx, miny = minima_scanner_with_thresholds(wl,fl, [0.2,0.90])\n",
    "    maxx, maxy = simple_maxima(x, y, 0.95)\n",
    "    insertions = np.searchsorted(maxx, minx) #gives at which indeces to put the mininima in the maxima array to be sorted still. \n",
    "    \n",
    "    tempxr = []\n",
    "    tempyr = []\n",
    "    tempxl = []\n",
    "    tempyl = []\n",
    "    \n",
    "    \n",
    "    for i in insertions: \n",
    "        tempxr.append(maxx[i])\n",
    "        tempyr.append(maxy[i])\n",
    "        tempxl.append(maxx[i-1])\n",
    "        tempyl.append(maxy[i-1])\n",
    "\n",
    "    for j in np.arange(len(tempxl)): \n",
    "        temprange = []\n",
    "        tempout = []\n",
    "        for i in np.arange(len(x)):\n",
    "            if x[i] > tempxl[j] and x[i] < tempxr[j]:\n",
    "                temprange.append(x[i])\n",
    "                tempout.append(y[i])\n",
    "        ranges.append(temprange)\n",
    "        outs.append(tempout)\n",
    "        \n",
    "    #finds inital guesses:\n",
    "    if intial_guess: \n",
    "        \n",
    "        amps = []\n",
    "        means = []\n",
    "        stds = []\n",
    "        for i in np.arange(len(ranges)):\n",
    "            amps.append(min(outs[i]))\n",
    "            means.append(ranges[i][np.argmin(outs[i])])\n",
    "            stds.append(np.std(outs[i]))\n",
    "        \n",
    "        \n",
    "        return ranges, outs, amps, means, stds\n",
    "                \n",
    "   #just returns ranges for graphing purposes \n",
    "    else:\n",
    "        return ranges, outs"
   ]
  },
  {
   "cell_type": "code",
   "execution_count": null,
   "id": "c92457dc-4721-4d20-a230-ccf65845ca27",
   "metadata": {},
   "outputs": [],
   "source": [
    "test_range = [0,1,2,5,6,7,10]\n",
    "\n",
    "test_input = [3,8]\n",
    "\n",
    "np.searchsorted(test_range, test_input)\n",
    "\n",
    "# this gives the right indices, so take the left as i-1 "
   ]
  },
  {
   "cell_type": "code",
   "execution_count": null,
   "id": "8f4687a3-7d57-47e7-acd4-2bc9110aadc5",
   "metadata": {},
   "outputs": [],
   "source": [
    "testmaxx, testouts = find_range(wl,fl) #this gives right directional values "
   ]
  },
  {
   "cell_type": "code",
   "execution_count": null,
   "id": "c02f854f-ac14-4ba1-8263-538bc30f77c9",
   "metadata": {},
   "outputs": [],
   "source": [
    "plt.figure(figsize = (17,6))\n",
    "plt.plot(wl,fl)\n",
    "# plt.scatter(testmaxx, testmaxy,s = 10, c = 'orange', label = 'maxima')\n",
    "plt.scatter(minx,miny,s = 8, c = 'green', label = 'minima')\n",
    "plt.xlabel('wavelength (A)')\n",
    "plt.ylabel('Normalized flux')\n",
    "plt.title('Normalized Flux of Tau Ceti')\n",
    "plt.legend()\n",
    "plt.xlim(5884,5902)\n",
    "plt.show()"
   ]
  },
  {
   "cell_type": "code",
   "execution_count": null,
   "id": "16c5942a-6a8b-4e76-a0dd-182630e42b5a",
   "metadata": {},
   "outputs": [],
   "source": [
    "testmaxx[1:4]"
   ]
  },
  {
   "cell_type": "markdown",
   "id": "9bf112ce-70cd-452a-8bab-225c70571aa5",
   "metadata": {},
   "source": [
    " "
   ]
  },
  {
   "cell_type": "code",
   "execution_count": null,
   "id": "bac9576a-7353-4f2a-8397-6d015cd76215",
   "metadata": {},
   "outputs": [],
   "source": [
    "plt.figure(figsize = (14,6))\n",
    "plt.plot(wl, fl, c = 'white', label = 'data set')\n",
    "plt.title('Gaussian Ranges for Original Order')\n",
    "plt.xlabel('Wavelength (A)')\n",
    "plt.ylabel('Normalized Flux')\n",
    "for i in np.arange(len(testmaxx)):\n",
    "    plt.plot(testmaxx[i], testouts[i])\n",
    "plt.legend()"
   ]
  },
  {
   "cell_type": "code",
   "execution_count": null,
   "id": "cd2f1264-4485-48a6-ad0f-4c6234e5c58f",
   "metadata": {},
   "outputs": [],
   "source": [
    "#testmaxx[0], testouts[0]"
   ]
  },
  {
   "cell_type": "code",
   "execution_count": null,
   "id": "9573fb63-89a4-428d-8de9-e28088694687",
   "metadata": {},
   "outputs": [],
   "source": [
    "#plt.plot(testmaxx[0], testouts[0])"
   ]
  },
  {
   "cell_type": "code",
   "execution_count": null,
   "id": "1e45a600-fdfb-44f0-b9e4-1db0210a9761",
   "metadata": {},
   "outputs": [],
   "source": [
    "def plot_gaussian_tests(index):\n",
    "    plt.figure(figsize = (1,6))\n",
    "    plt.plot(testmaxx[index],testouts[index], label = 'plotted values', c = 'grey')\n",
    "    plt.scatter(testmaxx[index],testouts[index], label = 'Pixels', c = 'orange')\n",
    "    plt.title('test gaussian ranges; '+ str(index) + ' of ' + str(len(testmaxx)))\n",
    "    plt.xlabel('Wavelength (A)')\n",
    "    plt.ylabel('Normalized Flux') \n",
    "    plt.ylim(0.2,1.1)\n",
    "    plt.legend()\n",
    "    plt.show()"
   ]
  },
  {
   "cell_type": "code",
   "execution_count": null,
   "id": "7cb09a45-d1ab-4123-bc2b-4f0a3f461ae2",
   "metadata": {},
   "outputs": [],
   "source": [
    "# widgets.interact(plot_gaussian_tests, index = widgets.Play(interval = 500,min = 0, max = len(testmaxx)-1))"
   ]
  },
  {
   "cell_type": "markdown",
   "id": "e614953e-a5f7-49bf-ac95-2422ad14322f",
   "metadata": {},
   "source": [
    "Notes:\n",
    "1. ranges 8 and 9 are identical -- probably due to the max being v close to the threshold that they jointly skip the max that separates them, causing identical ranges \n",
    ">is it better to extend the limits? "
   ]
  },
  {
   "cell_type": "markdown",
   "id": "cba4fa66-d511-4a0d-a85f-795e3bd6e70a",
   "metadata": {},
   "source": [
    "## Gaussian Curve Fitting"
   ]
  },
  {
   "cell_type": "code",
   "execution_count": null,
   "id": "3945f7f3-1c71-4d79-a090-34ff5c926890",
   "metadata": {},
   "outputs": [],
   "source": [
    "def gaussian(x,a, b, c):\n",
    "    '''a is amplitude, b is  the mean (where i think it is), c is standard deviation (sqrt(variance))''' \n",
    "    #offset = x[0] #good estimate\n",
    "    return -a*np.e**(-(x-b)**2/(2*c**2)) + 1 # + offset "
   ]
  },
  {
   "cell_type": "code",
   "execution_count": null,
   "id": "e882f8a1-c3f1-4c35-96a1-8386c2601c43",
   "metadata": {},
   "outputs": [],
   "source": [
    "def general_gaussian(x,y, index = 0):\n",
    "    ''' Curve fits gaussians to the ranges we find in the find_range function\n",
    "    requires intial_guess = True for find_ranges()'''\n",
    "    domains, ranges, amps, means, stds = find_range(x,y, intial_guess = True)\n",
    "    b_fit, cov = curve_fit(gaussian, domains[index], ranges[index], p0 = [amps[index],means[index],stds[index]], absolute_sigma=True)\n",
    "    return b_fit"
   ]
  },
  {
   "cell_type": "code",
   "execution_count": null,
   "id": "9b160fdd-5251-4e1a-abb6-4bdff0b61c4c",
   "metadata": {},
   "outputs": [],
   "source": [
    "# test = general_gaussian(wl,fl, 0)\n",
    "# index = 1\n",
    "# b_fit, cov = curve_fit(gaussian,domains[index], ranges[index], p0 = [amps[index],means[index],stds[index]], absolute_sigma=True)"
   ]
  },
  {
   "cell_type": "code",
   "execution_count": null,
   "id": "b751e23a-76af-4201-b07c-3b10ced1c4b2",
   "metadata": {},
   "outputs": [],
   "source": [
    "#finding intital parameters:\n",
    "#let it be found in the find_ranges?\n",
    "domains, ranges, amps, means, stds = find_range(wl,fl, intial_guess = True)"
   ]
  },
  {
   "cell_type": "code",
   "execution_count": null,
   "id": "4cb6d11a-43da-4ca2-9707-220d6e67ef5f",
   "metadata": {},
   "outputs": [],
   "source": [
    "domains, ranges, amps, means, stds = find_range(wl,fl, intial_guess = True)"
   ]
  },
  {
   "cell_type": "code",
   "execution_count": null,
   "id": "ffbead5c-470c-4439-9f66-ec668325ffa7",
   "metadata": {},
   "outputs": [],
   "source": [
    "# for i in np.arange(len(domains)):\n",
    "#     print(len(domains[i]) == len(ranges[i]))"
   ]
  },
  {
   "cell_type": "code",
   "execution_count": null,
   "id": "ba6005a7-063f-41ac-bea3-32ab93aa4de9",
   "metadata": {},
   "outputs": [],
   "source": [
    "ps = {'Amplitude': amps, 'Means': means, 'Standard Deviations': stds}\n",
    "inital_parameters = pd.DataFrame(ps)"
   ]
  },
  {
   "cell_type": "code",
   "execution_count": null,
   "id": "ad842408-d742-4f2c-ada2-5e298139611e",
   "metadata": {},
   "outputs": [],
   "source": [
    "inital_parameters"
   ]
  },
  {
   "cell_type": "code",
   "execution_count": null,
   "id": "a59a0c26-299f-4714-bc48-74498ca280ff",
   "metadata": {},
   "outputs": [],
   "source": [
    "#index = 9\n",
    "# bfit, cov = curve_fit(gaussian,domains[index], ranges[index], p0 = [amps[index],means[index],stds[index]], absolute_sigma=True)"
   ]
  },
  {
   "cell_type": "code",
   "execution_count": null,
   "id": "1041d63e-c424-40db-a397-2e394ea13cbc",
   "metadata": {},
   "outputs": [],
   "source": [
    "# test_gaussian = gaussian(domains[index], bfit[0],bfit[1],bfit[2])"
   ]
  },
  {
   "cell_type": "code",
   "execution_count": null,
   "id": "e80d2fcd-ac33-426a-81b2-2cd2f13a65dc",
   "metadata": {},
   "outputs": [],
   "source": [
    "def plot_tests(index = 0):\n",
    "    bfit, cov = curve_fit(gaussian,domains[index], ranges[index], p0 = [amps[index],means[index],stds[index]], absolute_sigma=True)\n",
    "    test_gaussian = gaussian(domains[index], bfit[0],bfit[1],bfit[2])\n",
    "    \n",
    "    plt.plot(domains[index], ranges[index], label = 'Data')\n",
    "    plt.plot(domains[index], test_gaussian, label = 'Fit')\n",
    "    plt.title('Plotting Gaussian Fit to Data')\n",
    "    plt.ylabel('Normalized Flux')\n",
    "    plt.xlabel('Wavelength')\n",
    "    plt.legend()\n",
    "    #print('the guestimated PSF value is: ', np.round(bfit[0],3))\n",
    "    return bfit[2]"
   ]
  },
  {
   "cell_type": "code",
   "execution_count": null,
   "id": "f7284dec-d762-43b8-a53d-dc227cde9c54",
   "metadata": {},
   "outputs": [],
   "source": [
    "widgets.interact(plot_tests, index = (0,100,1))"
   ]
  },
  {
   "cell_type": "code",
   "execution_count": null,
   "id": "4e32942f-1660-4d44-b7f2-aad569cdcc71",
   "metadata": {},
   "outputs": [],
   "source": [
    "def return_psf(index = 0):\n",
    "    bfit, cov = curve_fit(gaussian,domains[index], ranges[index], p0 = [amps[index],means[index],stds[index]], absolute_sigma=True)\n",
    "    test_gaussian = gaussian(domains[index], bfit[0],bfit[1],bfit[2])\n",
    "    return bfit[2] #this is the spread "
   ]
  },
  {
   "cell_type": "code",
   "execution_count": null,
   "id": "a858d6f7-3ba9-479d-8919-8fabed2ad6d7",
   "metadata": {},
   "outputs": [],
   "source": [
    "widgets.interact(return_psf, index = (0,92,1))\n",
    "\n"
   ]
  },
  {
   "cell_type": "markdown",
   "id": "bffd13a1-1900-488c-9d58-2341caee3cfd",
   "metadata": {},
   "source": [
    "## Making a histogram of one order"
   ]
  },
  {
   "cell_type": "code",
   "execution_count": null,
   "id": "997db6b2-3f24-4e42-b6df-a365a75045e1",
   "metadata": {},
   "outputs": [],
   "source": [
    "#this works for the most part "
   ]
  },
  {
   "cell_type": "code",
   "execution_count": null,
   "id": "f3653ddf-7bf6-42ac-b87c-2b112f4e1a3b",
   "metadata": {},
   "outputs": [],
   "source": [
    "psfs = []\n",
    "\n",
    "for i in np.arange(0,93):\n",
    "    #this skips the bad fits#\n",
    "    try:\n",
    "        psf = return_psf(i)\n",
    "        psfs.append(psf)\n",
    "    except:\n",
    "        pass\n",
    "    "
   ]
  },
  {
   "cell_type": "code",
   "execution_count": null,
   "id": "ad67e93c-ae1f-461a-8f12-c11bd4af15bf",
   "metadata": {},
   "outputs": [],
   "source": [
    "psfs"
   ]
  },
  {
   "cell_type": "code",
   "execution_count": null,
   "id": "bc237f2c-4c5d-44a3-922c-b4594168fe8c",
   "metadata": {},
   "outputs": [],
   "source": [
    "plt.hist(np.abs(psfs))\n",
    "plt.title('PSF values')\n",
    "plt.xlabel('Calculated Value')\n",
    "plt.ylabel('percent per unit value')\n",
    "plt.show()"
   ]
  },
  {
   "cell_type": "code",
   "execution_count": null,
   "id": "4c64a3fe-5194-4531-9066-4af8bfced71a",
   "metadata": {},
   "outputs": [],
   "source": [
    "np.median(psfs)"
   ]
  },
  {
   "cell_type": "markdown",
   "id": "de30ece1-2693-4601-adf1-9844020507c2",
   "metadata": {},
   "source": [
    "## Using Chi Squared to Determine a Goodness of Fit"
   ]
  },
  {
   "cell_type": "code",
   "execution_count": null,
   "id": "0822d372-728b-4f30-b1ae-68f5d59c4659",
   "metadata": {},
   "outputs": [],
   "source": [
    "def chi(model, data):\n",
    "    '''given two arrays of the same length,\n",
    "    calculate chi squared'''\n",
    "    return np.sum((data - model) ** 2)"
   ]
  },
  {
   "cell_type": "code",
   "execution_count": null,
   "id": "24c53017-180d-49e5-9499-db26c7cfaa23",
   "metadata": {},
   "outputs": [],
   "source": [
    "#get things injected and recovered and classify the things recovered \n",
    "#critical part of write up "
   ]
  },
  {
   "cell_type": "code",
   "execution_count": null,
   "id": "d14f3708-e402-423a-8c44-9f721a3b281d",
   "metadata": {},
   "outputs": [],
   "source": []
  },
  {
   "cell_type": "markdown",
   "id": "1b138f72-b06a-473b-99aa-19d9b2a4bb3c",
   "metadata": {},
   "source": [
    "## Generalizing with all data:"
   ]
  },
  {
   "cell_type": "markdown",
   "id": "17ff5d97-d6b8-4bf0-b1d0-61d9d8d20bad",
   "metadata": {},
   "source": [
    "### reading in pickle file"
   ]
  },
  {
   "cell_type": "code",
   "execution_count": null,
   "id": "f28e5200-46b6-4512-9d41-abf829f20b29",
   "metadata": {},
   "outputs": [],
   "source": [
    "import pickle"
   ]
  },
  {
   "cell_type": "code",
   "execution_count": null,
   "id": "dc810897-15a7-42d9-aae3-d8de12fb88ae",
   "metadata": {},
   "outputs": [],
   "source": [
    "with open('./shifted_values.pkl', 'rb') as f:\n",
    "     loaded_data = pickle.load(f)\n",
    "\n",
    "\n"
   ]
  },
  {
   "cell_type": "code",
   "execution_count": null,
   "id": "e36a756f-e003-4bb8-91cd-83522822fa28",
   "metadata": {},
   "outputs": [],
   "source": []
  },
  {
   "cell_type": "code",
   "execution_count": null,
   "id": "bbaec0ad-6518-4525-ae41-a6a4333231ad",
   "metadata": {},
   "outputs": [],
   "source": []
  }
 ],
 "metadata": {
  "kernelspec": {
   "display_name": "Python 3 (ipykernel)",
   "language": "python",
   "name": "python3"
  },
  "language_info": {
   "codemirror_mode": {
    "name": "ipython",
    "version": 3
   },
   "file_extension": ".py",
   "mimetype": "text/x-python",
   "name": "python",
   "nbconvert_exporter": "python",
   "pygments_lexer": "ipython3",
   "version": "3.9.13"
  }
 },
 "nbformat": 4,
 "nbformat_minor": 5
}
