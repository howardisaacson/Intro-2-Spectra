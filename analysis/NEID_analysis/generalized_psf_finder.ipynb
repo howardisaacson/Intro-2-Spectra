{
 "cells": [
  {
   "cell_type": "markdown",
   "id": "073c90f7-5a38-4049-ac8a-69310a80c9d0",
   "metadata": {},
   "source": [
    "# Generalized PSF Finder "
   ]
  },
  {
   "cell_type": "code",
   "execution_count": 1,
   "id": "d1305419-accd-4987-9cce-4fc66e92fdd9",
   "metadata": {},
   "outputs": [],
   "source": [
    "#installing libraries\n",
    "import numpy as np\n",
    "import matplotlib.pyplot as plt\n",
    "\n",
    "import ipywidgets as widgets\n",
    "from IPython.display import display "
   ]
  },
  {
   "cell_type": "code",
   "execution_count": 2,
   "id": "bb118364-c237-49cc-81c4-b6ba373491ee",
   "metadata": {},
   "outputs": [],
   "source": [
    "noise = np.random.uniform(0,5, size = 100)\n",
    "\n",
    "def plot_fct(w = 1):\n",
    "    x = np.random.uniform(0,5, size = 100)\n",
    "    y = 2 * x + w * noise\n",
    "    plt.scatter(x, y) "
   ]
  },
  {
   "cell_type": "code",
   "execution_count": 3,
   "id": "2c8c336b-56c9-4722-ad2a-9a9a40c44a55",
   "metadata": {},
   "outputs": [
    {
     "data": {
      "application/vnd.jupyter.widget-view+json": {
       "model_id": "d04bedcb45bf427f8b1e8479189923a2",
       "version_major": 2,
       "version_minor": 0
      },
      "text/plain": [
       "interactive(children=(FloatSlider(value=1.0, description='w', max=10.0), Output()), _dom_classes=('widget-inte…"
      ]
     },
     "metadata": {},
     "output_type": "display_data"
    },
    {
     "data": {
      "text/plain": [
       "<function __main__.plot_fct(w=1)>"
      ]
     },
     "execution_count": 3,
     "metadata": {},
     "output_type": "execute_result"
    }
   ],
   "source": [
    "widgets.interact(plot_fct, w = (0,10, 0.1)) "
   ]
  },
  {
   "cell_type": "code",
   "execution_count": 4,
   "id": "5867ac7e-2d6f-4e4f-821c-78359017d7f9",
   "metadata": {},
   "outputs": [
    {
     "name": "stdout",
     "output_type": "stream",
     "text": [
      "Requirement already satisfied: sklearn in c:\\users\\alica\\anaconda3\\lib\\site-packages (0.0.post1)\n",
      "Note: you may need to restart the kernel to use updated packages.\n"
     ]
    }
   ],
   "source": [
    "pip install sklearn"
   ]
  },
  {
   "cell_type": "code",
   "execution_count": 7,
   "id": "1e61873a-d88c-4a10-9695-005ad66c4d9e",
   "metadata": {},
   "outputs": [],
   "source": [
    "from sklearn.datasets import make_moons"
   ]
  },
  {
   "cell_type": "code",
   "execution_count": 19,
   "id": "110570a8-54ad-4c82-a2ef-29c1f9b13d2d",
   "metadata": {},
   "outputs": [],
   "source": [
    "\n",
    "def plot_moons(samples = 200, noise = 0):\n",
    "    moons = make_moons(n_samples = samples, noise = noise, random_state = 50) \n",
    "    x, y = moons[0], moons[1]\n",
    "    plt.scatter(x[:,0], x[:,1], c = y)"
   ]
  },
  {
   "cell_type": "code",
   "execution_count": 20,
   "id": "c74cea2b-d377-476a-8113-a81eb8304d3c",
   "metadata": {},
   "outputs": [
    {
     "data": {
      "application/vnd.jupyter.widget-view+json": {
       "model_id": "7379e5e760584e848db35aa2f86da516",
       "version_major": 2,
       "version_minor": 0
      },
      "text/plain": [
       "interactive(children=(Dropdown(description='samples', options=(200, 500, 1000), value=200), FloatSlider(value=…"
      ]
     },
     "metadata": {},
     "output_type": "display_data"
    },
    {
     "data": {
      "text/plain": [
       "<function __main__.plot_moons(samples=200, noise=0)>"
      ]
     },
     "execution_count": 20,
     "metadata": {},
     "output_type": "execute_result"
    }
   ],
   "source": [
    "widgets.interact(plot_moons, samples = [200, 500, 1000], noise = (0.05,3, 0.025))"
   ]
  },
  {
   "cell_type": "code",
   "execution_count": 21,
   "id": "fe2809ac-1e04-4aef-8142-65d4a1147d47",
   "metadata": {},
   "outputs": [],
   "source": [
    "def plot_sin(start = 0, end = 30, factor = 1, grid = False, plot_cos = False):\n",
    "    x = np.linspace(start, end, (end-start) *10)\n",
    "    y = np.sin(x) * factor\n",
    "    plt.grid(grid)\n",
    "    plt.plot(x,y)\n",
    "    if plot_cos:\n",
    "        y = np.cos(x)\n",
    "        plt.plot(x,y)"
   ]
  },
  {
   "cell_type": "code",
   "execution_count": 22,
   "id": "e2058b7c-d08a-406b-bc8b-2ea6f550f067",
   "metadata": {},
   "outputs": [
    {
     "data": {
      "application/vnd.jupyter.widget-view+json": {
       "model_id": "a1ccfe23812e49acb4800ff7c4f036af",
       "version_major": 2,
       "version_minor": 0
      },
      "text/plain": [
       "interactive(children=(IntSlider(value=0, description='start', max=10), IntSlider(value=30, description='end', …"
      ]
     },
     "metadata": {},
     "output_type": "display_data"
    },
    {
     "data": {
      "text/plain": [
       "<function __main__.plot_sin(start=0, end=30, factor=1, grid=False, plot_cos=False)>"
      ]
     },
     "execution_count": 22,
     "metadata": {},
     "output_type": "execute_result"
    }
   ],
   "source": [
    "widgets.interact(plot_sin, start = (0,10,1), end = (20,50,1), factor = (0,5,0.1), grid = False)"
   ]
  },
  {
   "cell_type": "code",
   "execution_count": 23,
   "id": "6695b232-2513-4073-b416-f334dbf76906",
   "metadata": {},
   "outputs": [],
   "source": [
    "import math"
   ]
  },
  {
   "cell_type": "code",
   "execution_count": 37,
   "id": "e1de0e7e-8632-40b0-a9a6-bbaacd56c45c",
   "metadata": {},
   "outputs": [],
   "source": [
    "def plot_sigmoid(x_in = 0):\n",
    "    x = np.linspace(-5,5,1000)\n",
    "    y = 1/(1+np.exp(-x))\n",
    "    y_in = 1 / (1 + math.exp(-x_in))\n",
    "    \n",
    "    plt.plot(x,y)\n",
    "    plt.scatter(x_in, y_in, c = 'r')\n",
    "    plt.plot([x_in, x_in], [0, y_in], 'r--')\n",
    "    plt.plot([-5, x_in], [y_in, y_in], 'r--')"
   ]
  },
  {
   "cell_type": "code",
   "execution_count": 38,
   "id": "e2486877-db07-4e33-aee2-71e2a3df6af9",
   "metadata": {},
   "outputs": [
    {
     "data": {
      "application/vnd.jupyter.widget-view+json": {
       "model_id": "03a18e172574400eb063c88de4c16fd6",
       "version_major": 2,
       "version_minor": 0
      },
      "text/plain": [
       "interactive(children=(FloatSlider(value=0.0, description='x_in', max=5.0, min=-5.0), Output()), _dom_classes=(…"
      ]
     },
     "metadata": {},
     "output_type": "display_data"
    },
    {
     "data": {
      "text/plain": [
       "<function __main__.plot_sigmoid(x_in=0)>"
      ]
     },
     "execution_count": 38,
     "metadata": {},
     "output_type": "execute_result"
    }
   ],
   "source": [
    "widgets.interact(plot_sigmoid, x_in  = (-5, 5, 0.1))"
   ]
  },
  {
   "cell_type": "code",
   "execution_count": 39,
   "id": "f93487b1-80da-4714-bd7e-dde01104ec26",
   "metadata": {},
   "outputs": [],
   "source": [
    "def plot_hist(mu = 0, sigma = 1, n = 100, bins = 10, color = 'blue'):\n",
    "    plt.xlim(-20,20)\n",
    "    x = np.random.normal(mu, sigma, n)\n",
    "    plt.hist(x, bins= bins, color = color)\n",
    "    "
   ]
  },
  {
   "cell_type": "code",
   "execution_count": 40,
   "id": "a9563a2e-efa3-4902-a5ef-040e8c680a84",
   "metadata": {},
   "outputs": [
    {
     "data": {
      "application/vnd.jupyter.widget-view+json": {
       "model_id": "6d4d1122019e41a49b39e02bc11d68b6",
       "version_major": 2,
       "version_minor": 0
      },
      "text/plain": [
       "interactive(children=(FloatSlider(value=0.0, description='mu', max=10.0, min=-10.0, step=0.5), FloatSlider(val…"
      ]
     },
     "metadata": {},
     "output_type": "display_data"
    },
    {
     "data": {
      "text/plain": [
       "<function __main__.plot_hist(mu=0, sigma=1, n=100, bins=10, color='blue')>"
      ]
     },
     "execution_count": 40,
     "metadata": {},
     "output_type": "execute_result"
    }
   ],
   "source": [
    "widgets.interact(plot_hist, mu = (-10,10, 0.5), sigma = (0,10, 0.1), n = (10,1000,1), bins = (1,100,1), color = ['red', 'green', 'blue'])"
   ]
  },
  {
   "cell_type": "code",
   "execution_count": 41,
   "id": "418a3cfc-0879-4ca2-8bdf-5f08fff5934f",
   "metadata": {},
   "outputs": [
    {
     "data": {
      "application/vnd.jupyter.widget-view+json": {
       "model_id": "0d0e0b0e5bfd458da727c91e7e24b2af",
       "version_major": 2,
       "version_minor": 0
      },
      "text/plain": [
       "interactive(children=(FloatSlider(value=0.0, description='mu', max=10.0, min=-10.0, step=0.5), FloatSlider(val…"
      ]
     },
     "metadata": {},
     "output_type": "display_data"
    },
    {
     "data": {
      "text/plain": [
       "<function __main__.plot_hist(mu=0, sigma=1, n=100, bins=10, color='blue')>"
      ]
     },
     "execution_count": 41,
     "metadata": {},
     "output_type": "execute_result"
    }
   ],
   "source": [
    "widgets.interact_manual(plot_hist, mu = (-10,10, 0.5), sigma = (0,10, 0.1), n = (10,1000,1), bins = (1,100,1), color = ['red', 'green', 'blue'])"
   ]
  },
  {
   "cell_type": "code",
   "execution_count": 43,
   "id": "17de4171-a652-4e79-a68a-fcf06cb55118",
   "metadata": {},
   "outputs": [],
   "source": [
    "#this is another tutorial below"
   ]
  },
  {
   "cell_type": "code",
   "execution_count": 44,
   "id": "841ff37f-2ca5-4843-9304-76a4241a3f46",
   "metadata": {},
   "outputs": [],
   "source": [
    "x = np.random.uniform(0,5, size = 100)\n",
    "ep = np.random.normal(size = 100)\n",
    "\n",
    "y = 2 *x + ep"
   ]
  },
  {
   "cell_type": "code",
   "execution_count": 45,
   "id": "7a6ac12a-fbc8-4ed9-a691-57d26542c632",
   "metadata": {},
   "outputs": [
    {
     "data": {
      "text/plain": [
       "<matplotlib.collections.PathCollection at 0x1dd9f4edb50>"
      ]
     },
     "execution_count": 45,
     "metadata": {},
     "output_type": "execute_result"
    },
    {
     "data": {
      "image/png": "[encoded data removed]",
      "text/plain": [
       "<Figure size 640x480 with 1 Axes>"
      ]
     },
     "metadata": {},
     "output_type": "display_data"
    }
   ],
   "source": [
    "plt.scatter(x,y)"
   ]
  },
  {
   "cell_type": "code",
   "execution_count": 46,
   "id": "af6499c1-82d6-436f-a9a8-5122e4d76b13",
   "metadata": {},
   "outputs": [],
   "source": [
    "x_values = np.linspace(0,5,1000)"
   ]
  },
  {
   "cell_type": "code",
   "execution_count": 47,
   "id": "f7a31894-743f-43c7-a990-b8bdab9bcfef",
   "metadata": {},
   "outputs": [],
   "source": [
    "#sliders"
   ]
  },
  {
   "cell_type": "code",
   "execution_count": 66,
   "id": "de7f4249-4101-4513-bfc6-818e4962eda7",
   "metadata": {},
   "outputs": [],
   "source": [
    "def slope_viz_update(m = 1, line = False, text = ''):\n",
    "    plt.scatter(x,y)\n",
    "    \n",
    "    if line:\n",
    "        plt.plot(x_values, m * x_values, lw = 3, color = 'black')\n",
    "    if text:\n",
    "        plt.text(0,10, f'{text}\\nThe Slope is {m}.')\n",
    "    plt.ylim(-1.2, 12.1)"
   ]
  },
  {
   "cell_type": "code",
   "execution_count": 67,
   "id": "8b23149c-e94d-438b-99d4-bb7b43172276",
   "metadata": {},
   "outputs": [
    {
     "data": {
      "image/png": "[encoded data removed]",
      "text/plain": [
       "<Figure size 640x480 with 1 Axes>"
      ]
     },
     "metadata": {},
     "output_type": "display_data"
    }
   ],
   "source": [
    "slope_viz(m = 3)"
   ]
  },
  {
   "cell_type": "code",
   "execution_count": 70,
   "id": "767a7e0a-3948-42b2-9b32-75520cafc6db",
   "metadata": {},
   "outputs": [
    {
     "data": {
      "application/vnd.jupyter.widget-view+json": {
       "model_id": "b666c579b2524c1a9673fc6da97cbd3d",
       "version_major": 2,
       "version_minor": 0
      },
      "text/plain": [
       "interactive(children=(Dropdown(description='m', options=(1, 2, 3, 4), value=1), Checkbox(value=False, descript…"
      ]
     },
     "metadata": {},
     "output_type": "display_data"
    },
    {
     "data": {
      "text/plain": [
       "<function __main__.slope_viz_update(m=1, line=False, text='')>"
      ]
     },
     "execution_count": 70,
     "metadata": {},
     "output_type": "execute_result"
    }
   ],
   "source": [
    "widgets.interact(slope_viz_update, m = [1,2,3,4], line = False, text = '')"
   ]
  },
  {
   "cell_type": "code",
   "execution_count": 77,
   "id": "3c5bfa21-c186-4b69-9bdd-5a5dc48490de",
   "metadata": {},
   "outputs": [],
   "source": [
    "radio_buttons = widgets.RadioButtons(\n",
    "    options = [0,1,2,3,4],\n",
    "    value = 1,\n",
    "    description = 'slope'\n",
    ")"
   ]
  },
  {
   "cell_type": "code",
   "execution_count": 78,
   "id": "6620cce9-f050-44a4-9a1c-b4b271b34323",
   "metadata": {},
   "outputs": [
    {
     "data": {
      "application/vnd.jupyter.widget-view+json": {
       "model_id": "edc2a1dc518b4354aa92d13276773df0",
       "version_major": 2,
       "version_minor": 0
      },
      "text/plain": [
       "interactive(children=(RadioButtons(description='slope', index=1, options=(0, 1, 2, 3, 4), value=1), Checkbox(v…"
      ]
     },
     "metadata": {},
     "output_type": "display_data"
    },
    {
     "data": {
      "text/plain": [
       "<function __main__.slope_viz_update(m=1, line=False, text='')>"
      ]
     },
     "execution_count": 78,
     "metadata": {},
     "output_type": "execute_result"
    }
   ],
   "source": [
    "widgets.interact(slope_viz_update, m = radio_buttons, line = False, text = '')"
   ]
  },
  {
   "cell_type": "code",
   "execution_count": 79,
   "id": "ffc3562d-341f-4e84-bade-991486ab3984",
   "metadata": {},
   "outputs": [],
   "source": [
    "#making animations"
   ]
  },
  {
   "cell_type": "code",
   "execution_count": 80,
   "id": "cd7ba3ee-c94f-4191-8397-731daeb24331",
   "metadata": {},
   "outputs": [],
   "source": [
    "x = np.linspace(0,2*np.pi, 1000)"
   ]
  },
  {
   "cell_type": "code",
   "execution_count": 107,
   "id": "c626682e-2ca2-4554-a7fc-680c720d8c13",
   "metadata": {},
   "outputs": [],
   "source": [
    "def sin_wave_with_freq(t = 0, freq = 1):\n",
    "    y = np.sin(freq * (x + 0.1*t))\n",
    "    plt.plot(x,y)\n",
    "    plt.text(0,10, str(t))\n",
    "    plt.xlim(0,2*np.pi)\n",
    "    plt.ylim(-1.5, 1.5)\n",
    "    "
   ]
  },
  {
   "cell_type": "code",
   "execution_count": 108,
   "id": "b727009f-02e1-44a3-9771-3e0241cd480d",
   "metadata": {},
   "outputs": [
    {
     "data": {
      "image/png": "[encoded data removed]",
      "text/plain": [
       "<Figure size 640x480 with 1 Axes>"
      ]
     },
     "metadata": {},
     "output_type": "display_data"
    }
   ],
   "source": [
    "sin_wave()"
   ]
  },
  {
   "cell_type": "code",
   "execution_count": 109,
   "id": "2c711775-74a8-4539-b0bc-b1095145f629",
   "metadata": {},
   "outputs": [
    {
     "data": {
      "application/vnd.jupyter.widget-view+json": {
       "model_id": "c5c7534512e2429cabe92943a3656da5",
       "version_major": 2,
       "version_minor": 0
      },
      "text/plain": [
       "interactive(children=(Play(value=0, description='t', max=50), FloatSlider(value=1.0, description='freq', max=5…"
      ]
     },
     "metadata": {},
     "output_type": "display_data"
    },
    {
     "data": {
      "text/plain": [
       "<function __main__.sin_wave_with_freq(t=0, freq=1)>"
      ]
     },
     "execution_count": 109,
     "metadata": {},
     "output_type": "execute_result"
    }
   ],
   "source": [
    "widgets.interact(sin_wave_with_freq, t = widgets.Play(min = 0, max = 50), freq = (1,5,0.5))"
   ]
  },
  {
   "cell_type": "code",
   "execution_count": null,
   "id": "a82e9879-0580-41db-b510-d9be93d2b514",
   "metadata": {},
   "outputs": [],
   "source": []
  }
 ],
 "metadata": {
  "kernelspec": {
   "display_name": "Python 3 (ipykernel)",
   "language": "python",
   "name": "python3"
  },
  "language_info": {
   "codemirror_mode": {
    "name": "ipython",
    "version": 3
   },
   "file_extension": ".py",
   "mimetype": "text/x-python",
   "name": "python",
   "nbconvert_exporter": "python",
   "pygments_lexer": "ipython3",
   "version": "3.9.13"
  }
 },
 "nbformat": 4,
 "nbformat_minor": 5
}
